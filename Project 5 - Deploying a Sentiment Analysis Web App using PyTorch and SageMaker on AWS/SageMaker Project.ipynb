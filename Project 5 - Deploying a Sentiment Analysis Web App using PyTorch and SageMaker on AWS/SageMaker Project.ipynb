{
 "cells": [
  {
   "cell_type": "markdown",
   "metadata": {},
   "source": [
    "# Creating a Sentiment Analysis Web App\n",
    "## Using PyTorch and SageMaker\n",
    "\n",
    "_Deep Learning Nanodegree Program | Deployment_\n",
    "\n",
    "---\n",
    "\n",
    "Now that we have a basic understanding of how SageMaker works we will try to use it to construct a complete project from end to end. Our goal will be to have a simple web page which a user can use to enter a movie review. The web page will then send the review off to our deployed model which will predict the sentiment of the entered review.\n",
    "\n",
    "## Instructions\n",
    "\n",
    "Some template code has already been provided for you, and you will need to implement additional functionality to successfully complete this notebook. You will not need to modify the included code beyond what is requested. Sections that begin with '**TODO**' in the header indicate that you need to complete or implement some portion within them. Instructions will be provided for each section and the specifics of the implementation are marked in the code block with a `# TODO: ...` comment. Please be sure to read the instructions carefully!\n",
    "\n",
    "In addition to implementing code, there will be questions for you to answer which relate to the task and your implementation. Each section where you will answer a question is preceded by a '**Question:**' header. Carefully read each question and provide your answer below the '**Answer:**' header by editing the Markdown cell.\n",
    "\n",
    "> **Note**: Code and Markdown cells can be executed using the **Shift+Enter** keyboard shortcut. In addition, a cell can be edited by typically clicking it (double-click for Markdown cells) or by pressing **Enter** while it is highlighted.\n",
    "\n",
    "## General Outline\n",
    "\n",
    "Recall the general outline for SageMaker projects using a notebook instance.\n",
    "\n",
    "1. Download or otherwise retrieve the data.\n",
    "2. Process / Prepare the data.\n",
    "3. Upload the processed data to S3.\n",
    "4. Train a chosen model.\n",
    "5. Test the trained model (typically using a batch transform job).\n",
    "6. Deploy the trained model.\n",
    "7. Use the deployed model.\n",
    "\n",
    "For this project, you will be following the steps in the general outline with some modifications. \n",
    "\n",
    "First, you will not be testing the model in its own step. You will still be testing the model, however, you will do it by deploying your model and then using the deployed model by sending the test data to it. One of the reasons for doing this is so that you can make sure that your deployed model is working correctly before moving forward.\n",
    "\n",
    "In addition, you will deploy and use your trained model a second time. In the second iteration you will customize the way that your trained model is deployed by including some of your own code. In addition, your newly deployed model will be used in the sentiment analysis web app."
   ]
  },
  {
   "cell_type": "code",
   "execution_count": 3,
   "metadata": {},
   "outputs": [
    {
     "name": "stdout",
     "output_type": "stream",
     "text": [
      "Requirement already satisfied: sagemaker==1.72.0 in /home/ec2-user/anaconda3/envs/pytorch_p36/lib/python3.6/site-packages (1.72.0)\n",
      "Requirement already satisfied: numpy>=1.9.0 in /home/ec2-user/anaconda3/envs/pytorch_p36/lib/python3.6/site-packages (from sagemaker==1.72.0) (1.19.5)\n",
      "Requirement already satisfied: smdebug-rulesconfig==0.1.4 in /home/ec2-user/anaconda3/envs/pytorch_p36/lib/python3.6/site-packages (from sagemaker==1.72.0) (0.1.4)\n",
      "Requirement already satisfied: importlib-metadata>=1.4.0 in /home/ec2-user/anaconda3/envs/pytorch_p36/lib/python3.6/site-packages (from sagemaker==1.72.0) (4.5.0)\n",
      "Requirement already satisfied: scipy>=0.19.0 in /home/ec2-user/anaconda3/envs/pytorch_p36/lib/python3.6/site-packages (from sagemaker==1.72.0) (1.5.3)\n",
      "Requirement already satisfied: boto3>=1.14.12 in /home/ec2-user/anaconda3/envs/pytorch_p36/lib/python3.6/site-packages (from sagemaker==1.72.0) (1.20.23)\n",
      "Requirement already satisfied: packaging>=20.0 in /home/ec2-user/anaconda3/envs/pytorch_p36/lib/python3.6/site-packages (from sagemaker==1.72.0) (21.2)\n",
      "Requirement already satisfied: protobuf>=3.1 in /home/ec2-user/anaconda3/envs/pytorch_p36/lib/python3.6/site-packages (from sagemaker==1.72.0) (3.17.2)\n",
      "Requirement already satisfied: protobuf3-to-dict>=0.1.5 in /home/ec2-user/anaconda3/envs/pytorch_p36/lib/python3.6/site-packages (from sagemaker==1.72.0) (0.1.5)\n",
      "Requirement already satisfied: s3transfer<0.6.0,>=0.5.0 in /home/ec2-user/anaconda3/envs/pytorch_p36/lib/python3.6/site-packages (from boto3>=1.14.12->sagemaker==1.72.0) (0.5.0)\n",
      "Requirement already satisfied: jmespath<1.0.0,>=0.7.1 in /home/ec2-user/anaconda3/envs/pytorch_p36/lib/python3.6/site-packages (from boto3>=1.14.12->sagemaker==1.72.0) (0.10.0)\n",
      "Requirement already satisfied: botocore<1.24.0,>=1.23.23 in /home/ec2-user/anaconda3/envs/pytorch_p36/lib/python3.6/site-packages (from boto3>=1.14.12->sagemaker==1.72.0) (1.23.23)\n",
      "Requirement already satisfied: typing-extensions>=3.6.4 in /home/ec2-user/anaconda3/envs/pytorch_p36/lib/python3.6/site-packages (from importlib-metadata>=1.4.0->sagemaker==1.72.0) (3.10.0.0)\n",
      "Requirement already satisfied: zipp>=0.5 in /home/ec2-user/anaconda3/envs/pytorch_p36/lib/python3.6/site-packages (from importlib-metadata>=1.4.0->sagemaker==1.72.0) (3.4.1)\n",
      "Requirement already satisfied: pyparsing<3,>=2.0.2 in /home/ec2-user/anaconda3/envs/pytorch_p36/lib/python3.6/site-packages (from packaging>=20.0->sagemaker==1.72.0) (2.4.7)\n",
      "Requirement already satisfied: six>=1.9 in /home/ec2-user/anaconda3/envs/pytorch_p36/lib/python3.6/site-packages (from protobuf>=3.1->sagemaker==1.72.0) (1.16.0)\n",
      "Requirement already satisfied: python-dateutil<3.0.0,>=2.1 in /home/ec2-user/anaconda3/envs/pytorch_p36/lib/python3.6/site-packages (from botocore<1.24.0,>=1.23.23->boto3>=1.14.12->sagemaker==1.72.0) (2.8.1)\n",
      "Requirement already satisfied: urllib3<1.27,>=1.25.4 in /home/ec2-user/anaconda3/envs/pytorch_p36/lib/python3.6/site-packages (from botocore<1.24.0,>=1.23.23->boto3>=1.14.12->sagemaker==1.72.0) (1.26.5)\n"
     ]
    }
   ],
   "source": [
    "# Make sure that we use SageMaker 1.x\n",
    "!pip install sagemaker==1.72.0"
   ]
  },
  {
   "cell_type": "markdown",
   "metadata": {},
   "source": [
    "## Step 1: Downloading the data\n",
    "\n",
    "As in the XGBoost in SageMaker notebook, we will be using the [IMDb dataset](http://ai.stanford.edu/~amaas/data/sentiment/)\n",
    "\n",
    "> Maas, Andrew L., et al. [Learning Word Vectors for Sentiment Analysis](http://ai.stanford.edu/~amaas/data/sentiment/). In _Proceedings of the 49th Annual Meeting of the Association for Computational Linguistics: Human Language Technologies_. Association for Computational Linguistics, 2011."
   ]
  },
  {
   "cell_type": "code",
   "execution_count": 4,
   "metadata": {},
   "outputs": [
    {
     "name": "stdout",
     "output_type": "stream",
     "text": [
      "mkdir: cannot create directory ‘../data’: File exists\n",
      "--2021-12-22 19:47:58--  http://ai.stanford.edu/~amaas/data/sentiment/aclImdb_v1.tar.gz\n",
      "Resolving ai.stanford.edu (ai.stanford.edu)... 171.64.68.10\n",
      "Connecting to ai.stanford.edu (ai.stanford.edu)|171.64.68.10|:80... connected.\n",
      "HTTP request sent, awaiting response... 200 OK\n",
      "Length: 84125825 (80M) [application/x-gzip]\n",
      "Saving to: ‘../data/aclImdb_v1.tar.gz’\n",
      "\n",
      "../data/aclImdb_v1. 100%[===================>]  80.23M  28.9MB/s    in 2.8s    \n",
      "\n",
      "2021-12-22 19:48:01 (28.9 MB/s) - ‘../data/aclImdb_v1.tar.gz’ saved [84125825/84125825]\n",
      "\n"
     ]
    }
   ],
   "source": [
    "%mkdir ../data\n",
    "!wget -O ../data/aclImdb_v1.tar.gz http://ai.stanford.edu/~amaas/data/sentiment/aclImdb_v1.tar.gz\n",
    "!tar -zxf ../data/aclImdb_v1.tar.gz -C ../data"
   ]
  },
  {
   "cell_type": "markdown",
   "metadata": {},
   "source": [
    "## Step 2: Preparing and Processing the data\n",
    "\n",
    "Also, as in the XGBoost notebook, we will be doing some initial data processing. The first few steps are the same as in the XGBoost example. To begin with, we will read in each of the reviews and combine them into a single input structure. Then, we will split the dataset into a training set and a testing set."
   ]
  },
  {
   "cell_type": "code",
   "execution_count": 5,
   "metadata": {},
   "outputs": [],
   "source": [
    "import os\n",
    "import glob\n",
    "\n",
    "def read_imdb_data(data_dir='../data/aclImdb'):\n",
    "    data = {}\n",
    "    labels = {}\n",
    "    \n",
    "    for data_type in ['train', 'test']:\n",
    "        data[data_type] = {}\n",
    "        labels[data_type] = {}\n",
    "        \n",
    "        for sentiment in ['pos', 'neg']:\n",
    "            data[data_type][sentiment] = []\n",
    "            labels[data_type][sentiment] = []\n",
    "            \n",
    "            path = os.path.join(data_dir, data_type, sentiment, '*.txt')\n",
    "            files = glob.glob(path)\n",
    "            \n",
    "            for f in files:\n",
    "                with open(f) as review:\n",
    "                    data[data_type][sentiment].append(review.read())\n",
    "                    # Here we represent a positive review by '1' and a negative review by '0'\n",
    "                    labels[data_type][sentiment].append(1 if sentiment == 'pos' else 0)\n",
    "                    \n",
    "            assert len(data[data_type][sentiment]) == len(labels[data_type][sentiment]), \\\n",
    "                    \"{}/{} data size does not match labels size\".format(data_type, sentiment)\n",
    "                \n",
    "    return data, labels"
   ]
  },
  {
   "cell_type": "code",
   "execution_count": 6,
   "metadata": {},
   "outputs": [
    {
     "name": "stdout",
     "output_type": "stream",
     "text": [
      "IMDB reviews: train = 12500 pos / 12500 neg, test = 12500 pos / 12500 neg\n"
     ]
    }
   ],
   "source": [
    "data, labels = read_imdb_data()\n",
    "print(\"IMDB reviews: train = {} pos / {} neg, test = {} pos / {} neg\".format(\n",
    "            len(data['train']['pos']), len(data['train']['neg']),\n",
    "            len(data['test']['pos']), len(data['test']['neg'])))"
   ]
  },
  {
   "cell_type": "markdown",
   "metadata": {},
   "source": [
    "Now that we've read the raw training and testing data from the downloaded dataset, we will combine the positive and negative reviews and shuffle the resulting records."
   ]
  },
  {
   "cell_type": "code",
   "execution_count": 7,
   "metadata": {},
   "outputs": [],
   "source": [
    "from sklearn.utils import shuffle\n",
    "\n",
    "def prepare_imdb_data(data, labels):\n",
    "    \"\"\"Prepare training and test sets from IMDb movie reviews.\"\"\"\n",
    "    \n",
    "    #Combine positive and negative reviews and labels\n",
    "    data_train = data['train']['pos'] + data['train']['neg']\n",
    "    data_test = data['test']['pos'] + data['test']['neg']\n",
    "    labels_train = labels['train']['pos'] + labels['train']['neg']\n",
    "    labels_test = labels['test']['pos'] + labels['test']['neg']\n",
    "    \n",
    "    #Shuffle reviews and corresponding labels within training and test sets\n",
    "    data_train, labels_train = shuffle(data_train, labels_train)\n",
    "    data_test, labels_test = shuffle(data_test, labels_test)\n",
    "    \n",
    "    # Return a unified training data, test data, training labels, test labets\n",
    "    return data_train, data_test, labels_train, labels_test"
   ]
  },
  {
   "cell_type": "code",
   "execution_count": 8,
   "metadata": {},
   "outputs": [
    {
     "name": "stdout",
     "output_type": "stream",
     "text": [
      "IMDb reviews (combined): train = 25000, test = 25000\n"
     ]
    }
   ],
   "source": [
    "train_X, test_X, train_y, test_y = prepare_imdb_data(data, labels)\n",
    "print(\"IMDb reviews (combined): train = {}, test = {}\".format(len(train_X), len(test_X)))"
   ]
  },
  {
   "cell_type": "markdown",
   "metadata": {},
   "source": [
    "Now that we have our training and testing sets unified and prepared, we should do a quick check and see an example of the data our model will be trained on. This is generally a good idea as it allows you to see how each of the further processing steps affects the reviews and it also ensures that the data has been loaded correctly."
   ]
  },
  {
   "cell_type": "code",
   "execution_count": 9,
   "metadata": {},
   "outputs": [
    {
     "name": "stdout",
     "output_type": "stream",
     "text": [
      "My baby sitter was a fan so I saw many of the older episodes while growing up. I'm not a fan of Scooby Doo so I'm not sure why I left the TV on when this show premiered. To my surprise I found it enjoyable. To me Shaggy and Scooby were the only interesting characters *dodges tomatoes from fans of the others* so I like that they only focus on those two. However, this may cause fans of the original shows to hate it. I like the voice acting, especially Dr. Phinius Phibes. I liked listening to him even before I knew he was Jeff Bennett. And Jim Meskimen as Robi sounds to me like he's really enjoying his job as an actor. I also get a kick out of the techies with their slightly autistic personalities and their desires to play Dungeons and Dragons or act out scenes from Star Wars (not called by those names in the show, of course).\n",
      "1\n"
     ]
    }
   ],
   "source": [
    "print(train_X[100])\n",
    "print(train_y[100])"
   ]
  },
  {
   "cell_type": "markdown",
   "metadata": {},
   "source": [
    "The first step in processing the reviews is to make sure that any html tags that appear should be removed. In addition we wish to tokenize our input, that way words such as *entertained* and *entertaining* are considered the same with regard to sentiment analysis."
   ]
  },
  {
   "cell_type": "code",
   "execution_count": 10,
   "metadata": {},
   "outputs": [],
   "source": [
    "import nltk\n",
    "from nltk.corpus import stopwords\n",
    "from nltk.stem.porter import *\n",
    "\n",
    "import re\n",
    "from bs4 import BeautifulSoup\n",
    "\n",
    "def review_to_words(review):\n",
    "    nltk.download(\"stopwords\", quiet=True)\n",
    "    stemmer = PorterStemmer()\n",
    "    \n",
    "    text = BeautifulSoup(review, \"html.parser\").get_text() # Remove HTML tags\n",
    "    text = re.sub(r\"[^a-zA-Z0-9]\", \" \", text.lower()) # Convert to lower case\n",
    "    words = text.split() # Split string into words\n",
    "    words = [w for w in words if w not in stopwords.words(\"english\")] # Remove stopwords\n",
    "    words = [PorterStemmer().stem(w) for w in words] # stem\n",
    "    \n",
    "    return words"
   ]
  },
  {
   "cell_type": "markdown",
   "metadata": {},
   "source": [
    "The `review_to_words` method defined above uses `BeautifulSoup` to remove any html tags that appear and uses the `nltk` package to tokenize the reviews. As a check to ensure we know how everything is working, try applying `review_to_words` to one of the reviews in the training set."
   ]
  },
  {
   "cell_type": "code",
   "execution_count": 11,
   "metadata": {
    "scrolled": false
   },
   "outputs": [
    {
     "data": {
      "text/plain": [
       "['babi',\n",
       " 'sitter',\n",
       " 'fan',\n",
       " 'saw',\n",
       " 'mani',\n",
       " 'older',\n",
       " 'episod',\n",
       " 'grow',\n",
       " 'fan',\n",
       " 'scoobi',\n",
       " 'doo',\n",
       " 'sure',\n",
       " 'left',\n",
       " 'tv',\n",
       " 'show',\n",
       " 'premier',\n",
       " 'surpris',\n",
       " 'found',\n",
       " 'enjoy',\n",
       " 'shaggi',\n",
       " 'scoobi',\n",
       " 'interest',\n",
       " 'charact',\n",
       " 'dodg',\n",
       " 'tomato',\n",
       " 'fan',\n",
       " 'other',\n",
       " 'like',\n",
       " 'focu',\n",
       " 'two',\n",
       " 'howev',\n",
       " 'may',\n",
       " 'caus',\n",
       " 'fan',\n",
       " 'origin',\n",
       " 'show',\n",
       " 'hate',\n",
       " 'like',\n",
       " 'voic',\n",
       " 'act',\n",
       " 'especi',\n",
       " 'dr',\n",
       " 'phiniu',\n",
       " 'phibe',\n",
       " 'like',\n",
       " 'listen',\n",
       " 'even',\n",
       " 'knew',\n",
       " 'jeff',\n",
       " 'bennett',\n",
       " 'jim',\n",
       " 'meskimen',\n",
       " 'robi',\n",
       " 'sound',\n",
       " 'like',\n",
       " 'realli',\n",
       " 'enjoy',\n",
       " 'job',\n",
       " 'actor',\n",
       " 'also',\n",
       " 'get',\n",
       " 'kick',\n",
       " 'techi',\n",
       " 'slightli',\n",
       " 'autist',\n",
       " 'person',\n",
       " 'desir',\n",
       " 'play',\n",
       " 'dungeon',\n",
       " 'dragon',\n",
       " 'act',\n",
       " 'scene',\n",
       " 'star',\n",
       " 'war',\n",
       " 'call',\n",
       " 'name',\n",
       " 'show',\n",
       " 'cours']"
      ]
     },
     "execution_count": 11,
     "metadata": {},
     "output_type": "execute_result"
    }
   ],
   "source": [
    "# TODO: Apply review_to_words to a review (train_X[100] or any other review)\n",
    "review_to_words(train_X[100])"
   ]
  },
  {
   "cell_type": "markdown",
   "metadata": {},
   "source": [
    "**Question:** Above we mentioned that `review_to_words` method removes html formatting and allows us to tokenize the words found in a review, for example, converting *entertained* and *entertaining* into *entertain* so that they are treated as though they are the same word. What else, if anything, does this method do to the input?"
   ]
  },
  {
   "cell_type": "markdown",
   "metadata": {},
   "source": [
    "**Answer:** The method allow us to convert the words to lower case whilst also removing all punctuations mark in sentences.\n",
    "\n"
   ]
  },
  {
   "cell_type": "markdown",
   "metadata": {},
   "source": [
    "The method below applies the `review_to_words` method to each of the reviews in the training and testing datasets. In addition it caches the results. This is because performing this processing step can take a long time. This way if you are unable to complete the notebook in the current session, you can come back without needing to process the data a second time."
   ]
  },
  {
   "cell_type": "code",
   "execution_count": 12,
   "metadata": {},
   "outputs": [],
   "source": [
    "import pickle\n",
    "\n",
    "cache_dir = os.path.join(\"../cache\", \"sentiment_analysis\")  # where to store cache files\n",
    "os.makedirs(cache_dir, exist_ok=True)  # ensure cache directory exists\n",
    "\n",
    "def preprocess_data(data_train, data_test, labels_train, labels_test,\n",
    "                    cache_dir=cache_dir, cache_file=\"preprocessed_data.pkl\"):\n",
    "    \"\"\"Convert each review to words; read from cache if available.\"\"\"\n",
    "\n",
    "    # If cache_file is not None, try to read from it first\n",
    "    cache_data = None\n",
    "    if cache_file is not None:\n",
    "        try:\n",
    "            with open(os.path.join(cache_dir, cache_file), \"rb\") as f:\n",
    "                cache_data = pickle.load(f)\n",
    "            print(\"Read preprocessed data from cache file:\", cache_file)\n",
    "        except:\n",
    "            pass  # unable to read from cache, but that's okay\n",
    "    \n",
    "    # If cache is missing, then do the heavy lifting\n",
    "    if cache_data is None:\n",
    "        # Preprocess training and test data to obtain words for each review\n",
    "        #words_train = list(map(review_to_words, data_train))\n",
    "        #words_test = list(map(review_to_words, data_test))\n",
    "        words_train = [review_to_words(review) for review in data_train]\n",
    "        words_test = [review_to_words(review) for review in data_test]\n",
    "        \n",
    "        # Write to cache file for future runs\n",
    "        if cache_file is not None:\n",
    "            cache_data = dict(words_train=words_train, words_test=words_test,\n",
    "                              labels_train=labels_train, labels_test=labels_test)\n",
    "            with open(os.path.join(cache_dir, cache_file), \"wb\") as f:\n",
    "                pickle.dump(cache_data, f)\n",
    "            print(\"Wrote preprocessed data to cache file:\", cache_file)\n",
    "    else:\n",
    "        # Unpack data loaded from cache file\n",
    "        words_train, words_test, labels_train, labels_test = (cache_data['words_train'],\n",
    "                cache_data['words_test'], cache_data['labels_train'], cache_data['labels_test'])\n",
    "    \n",
    "    return words_train, words_test, labels_train, labels_test"
   ]
  },
  {
   "cell_type": "code",
   "execution_count": 13,
   "metadata": {},
   "outputs": [
    {
     "name": "stdout",
     "output_type": "stream",
     "text": [
      "Read preprocessed data from cache file: preprocessed_data.pkl\n"
     ]
    }
   ],
   "source": [
    "# Preprocess data\n",
    "train_X, test_X, train_y, test_y = preprocess_data(train_X, test_X, train_y, test_y)"
   ]
  },
  {
   "cell_type": "markdown",
   "metadata": {},
   "source": [
    "## Transform the data\n",
    "\n",
    "In the XGBoost notebook we transformed the data from its word representation to a bag-of-words feature representation. For the model we are going to construct in this notebook we will construct a feature representation which is very similar. To start, we will represent each word as an integer. Of course, some of the words that appear in the reviews occur very infrequently and so likely don't contain much information for the purposes of sentiment analysis. The way we will deal with this problem is that we will fix the size of our working vocabulary and we will only include the words that appear most frequently. We will then combine all of the infrequent words into a single category and, in our case, we will label it as `1`.\n",
    "\n",
    "Since we will be using a recurrent neural network, it will be convenient if the length of each review is the same. To do this, we will fix a size for our reviews and then pad short reviews with the category 'no word' (which we will label `0`) and truncate long reviews."
   ]
  },
  {
   "cell_type": "markdown",
   "metadata": {},
   "source": [
    "### (TODO) Create a word dictionary\n",
    "\n",
    "To begin with, we need to construct a way to map words that appear in the reviews to integers. Here we fix the size of our vocabulary (including the 'no word' and 'infrequent' categories) to be `5000` but you may wish to change this to see how it affects the model.\n",
    "\n",
    "> **TODO:** Complete the implementation for the `build_dict()` method below. Note that even though the vocab_size is set to `5000`, we only want to construct a mapping for the most frequently appearing `4998` words. This is because we want to reserve the special labels `0` for 'no word' and `1` for 'infrequent word'."
   ]
  },
  {
   "cell_type": "code",
   "execution_count": 14,
   "metadata": {},
   "outputs": [],
   "source": [
    "import numpy as np\n",
    "\n",
    "def build_dict(data, vocab_size = 5000):\n",
    "    \"\"\"Construct and return a dictionary mapping each of the most frequently appearing words to a unique integer.\"\"\"\n",
    "    \n",
    "    # TODO: Determine how often each word appears in `data`. Note that `data` is a list of sentences and that a\n",
    "    #       sentence is a list of words.\n",
    "    \n",
    "    word_count = {} # A dict storing the words that appear in the reviews along with how often they occur\n",
    "    \n",
    "    for each_review in data:\n",
    "        for each_word in each_review:\n",
    "            if each_word in word_count:\n",
    "                word_count[each_word] += 1\n",
    "            else: \n",
    "                word_count[each_word] = 1\n",
    "    \n",
    "    # TODO: Sort the words found in `data` so that sorted_words[0] is the most frequently appearing word and\n",
    "    #       sorted_words[-1] is the least frequently appearing word.\n",
    "    \n",
    "    \n",
    "    sorted_word_freq_pairs = sorted(word_count.items(), key=lambda x: x[1], reverse=True)\n",
    "    sorted_words = [pair[0] for pair in sorted_word_freq_pairs]\n",
    "    \n",
    "    word_dict = {} # This is what we are building, a dictionary that translates words into integers\n",
    "    for idx, word in enumerate(sorted_words[:vocab_size - 2]): # The -2 is so that we save room for the 'no word'\n",
    "        word_dict[word] = idx + 2                              # 'infrequent' labels\n",
    "        \n",
    "    return word_dict"
   ]
  },
  {
   "cell_type": "code",
   "execution_count": 15,
   "metadata": {},
   "outputs": [],
   "source": [
    "word_dict = build_dict(train_X)"
   ]
  },
  {
   "cell_type": "code",
   "execution_count": 16,
   "metadata": {},
   "outputs": [
    {
     "name": "stdout",
     "output_type": "stream",
     "text": [
      "{'movi': 2, 'film': 3, 'one': 4, 'like': 5, 'time': 6, 'good': 7, 'make': 8, 'charact': 9, 'get': 10, 'see': 11, 'watch': 12, 'stori': 13, 'even': 14, 'would': 15, 'realli': 16, 'well': 17, 'scene': 18, 'look': 19, 'show': 20, 'much': 21, 'end': 22, 'peopl': 23, 'bad': 24, 'go': 25, 'great': 26, 'also': 27, 'first': 28, 'love': 29, 'think': 30, 'way': 31, 'act': 32, 'play': 33, 'made': 34, 'thing': 35, 'could': 36, 'know': 37, 'say': 38, 'seem': 39, 'work': 40, 'plot': 41, 'two': 42, 'actor': 43, 'year': 44, 'come': 45, 'mani': 46, 'seen': 47, 'take': 48, 'life': 49, 'want': 50, 'never': 51, 'littl': 52, 'best': 53, 'tri': 54, 'man': 55, 'ever': 56, 'give': 57, 'better': 58, 'still': 59, 'perform': 60, 'find': 61, 'feel': 62, 'part': 63, 'back': 64, 'use': 65, 'someth': 66, 'director': 67, 'actual': 68, 'interest': 69, 'lot': 70, 'real': 71, 'old': 72, 'cast': 73, 'though': 74, 'live': 75, 'star': 76, 'enjoy': 77, 'guy': 78, 'anoth': 79, 'new': 80, 'role': 81, 'noth': 82, '10': 83, 'funni': 84, 'music': 85, 'point': 86, 'start': 87, 'set': 88, 'girl': 89, 'origin': 90, 'day': 91, 'world': 92, 'everi': 93, 'believ': 94, 'turn': 95, 'quit': 96, 'us': 97, 'direct': 98, 'thought': 99, 'fact': 100, 'minut': 101, 'horror': 102, 'kill': 103, 'action': 104, 'comedi': 105, 'pretti': 106, 'young': 107, 'wonder': 108, 'happen': 109, 'around': 110, 'got': 111, 'effect': 112, 'right': 113, 'long': 114, 'howev': 115, 'big': 116, 'line': 117, 'famili': 118, 'enough': 119, 'seri': 120, 'may': 121, 'need': 122, 'fan': 123, 'bit': 124, 'script': 125, 'beauti': 126, 'person': 127, 'becom': 128, 'without': 129, 'must': 130, 'alway': 131, 'friend': 132, 'tell': 133, 'reason': 134, 'saw': 135, 'last': 136, 'final': 137, 'kid': 138, 'almost': 139, 'put': 140, 'least': 141, 'sure': 142, 'done': 143, 'whole': 144, 'place': 145, 'complet': 146, 'kind': 147, 'expect': 148, 'differ': 149, 'shot': 150, 'far': 151, 'mean': 152, 'anyth': 153, 'book': 154, 'laugh': 155, 'might': 156, 'name': 157, 'sinc': 158, 'begin': 159, '2': 160, 'probabl': 161, 'woman': 162, 'help': 163, 'entertain': 164, 'let': 165, 'screen': 166, 'call': 167, 'tv': 168, 'moment': 169, 'away': 170, 'read': 171, 'yet': 172, 'rather': 173, 'worst': 174, 'run': 175, 'fun': 176, 'lead': 177, 'hard': 178, 'audienc': 179, 'idea': 180, 'anyon': 181, 'episod': 182, 'american': 183, 'found': 184, 'appear': 185, 'bore': 186, 'especi': 187, 'although': 188, 'hope': 189, 'cours': 190, 'keep': 191, 'anim': 192, 'job': 193, 'goe': 194, 'move': 195, 'sens': 196, 'dvd': 197, 'version': 198, 'war': 199, 'money': 200, 'someon': 201, 'mind': 202, 'mayb': 203, 'problem': 204, 'true': 205, 'hous': 206, 'everyth': 207, 'nice': 208, 'second': 209, 'rate': 210, 'three': 211, 'night': 212, 'face': 213, 'follow': 214, 'recommend': 215, 'product': 216, 'main': 217, 'worth': 218, 'leav': 219, 'human': 220, 'special': 221, 'excel': 222, 'togeth': 223, 'wast': 224, 'sound': 225, 'everyon': 226, 'john': 227, 'hand': 228, '1': 229, 'father': 230, 'later': 231, 'eye': 232, 'said': 233, 'view': 234, 'instead': 235, 'review': 236, 'boy': 237, 'high': 238, 'hour': 239, 'miss': 240, 'talk': 241, 'classic': 242, 'wife': 243, 'understand': 244, 'left': 245, 'care': 246, 'black': 247, 'death': 248, 'open': 249, 'murder': 250, 'write': 251, 'half': 252, 'head': 253, 'rememb': 254, 'chang': 255, 'viewer': 256, 'fight': 257, 'gener': 258, 'surpris': 259, 'short': 260, 'includ': 261, 'die': 262, 'fall': 263, 'less': 264, 'els': 265, 'entir': 266, 'piec': 267, 'involv': 268, 'pictur': 269, 'simpli': 270, 'power': 271, 'home': 272, 'top': 273, 'total': 274, 'usual': 275, 'budget': 276, 'attempt': 277, 'suppos': 278, 'releas': 279, 'hollywood': 280, 'terribl': 281, 'song': 282, 'men': 283, 'possibl': 284, 'featur': 285, 'portray': 286, 'disappoint': 287, '3': 288, 'poor': 289, 'coupl': 290, 'stupid': 291, 'camera': 292, 'dead': 293, 'wrong': 294, 'low': 295, 'produc': 296, 'either': 297, 'video': 298, 'aw': 299, 'definit': 300, 'except': 301, 'rest': 302, 'given': 303, 'absolut': 304, 'women': 305, 'lack': 306, 'word': 307, 'writer': 308, 'titl': 309, 'talent': 310, 'decid': 311, 'full': 312, 'perfect': 313, 'along': 314, 'style': 315, 'close': 316, 'truli': 317, 'school': 318, 'emot': 319, 'save': 320, 'age': 321, 'sex': 322, 'next': 323, 'bring': 324, 'mr': 325, 'case': 326, 'killer': 327, 'heart': 328, 'comment': 329, 'sort': 330, 'creat': 331, 'perhap': 332, 'came': 333, 'brother': 334, 'sever': 335, 'joke': 336, 'art': 337, 'dialogu': 338, 'game': 339, 'small': 340, 'base': 341, 'flick': 342, 'written': 343, 'sequenc': 344, 'meet': 345, 'earli': 346, 'often': 347, 'other': 348, 'mother': 349, 'develop': 350, 'humor': 351, 'actress': 352, 'consid': 353, 'dark': 354, 'guess': 355, 'amaz': 356, 'unfortun': 357, 'lost': 358, 'light': 359, 'exampl': 360, 'cinema': 361, 'drama': 362, 'ye': 363, 'white': 364, 'experi': 365, 'imagin': 366, 'mention': 367, 'stop': 368, 'natur': 369, 'forc': 370, 'manag': 371, 'felt': 372, 'cut': 373, 'present': 374, 'children': 375, 'fail': 376, 'son': 377, 'support': 378, 'car': 379, 'qualiti': 380, 'ask': 381, 'hit': 382, 'side': 383, 'voic': 384, 'extrem': 385, 'impress': 386, 'evil': 387, 'wors': 388, 'stand': 389, 'went': 390, 'certainli': 391, 'basic': 392, 'oh': 393, 'overal': 394, 'favorit': 395, 'horribl': 396, 'mysteri': 397, 'number': 398, 'type': 399, 'danc': 400, 'wait': 401, 'hero': 402, 'alreadi': 403, '5': 404, 'learn': 405, 'matter': 406, '4': 407, 'michael': 408, 'genr': 409, 'fine': 410, 'despit': 411, 'throughout': 412, 'walk': 413, 'success': 414, 'histori': 415, 'question': 416, 'zombi': 417, 'town': 418, 'relationship': 419, 'realiz': 420, 'child': 421, 'past': 422, 'daughter': 423, 'late': 424, 'b': 425, 'wish': 426, 'credit': 427, 'hate': 428, 'event': 429, 'theme': 430, 'touch': 431, 'citi': 432, 'today': 433, 'sometim': 434, 'behind': 435, 'god': 436, 'twist': 437, 'sit': 438, 'annoy': 439, 'stay': 440, 'deal': 441, 'abl': 442, 'rent': 443, 'pleas': 444, 'edit': 445, 'blood': 446, 'deserv': 447, 'anyway': 448, 'comic': 449, 'appar': 450, 'soon': 451, 'gave': 452, 'etc': 453, 'level': 454, 'slow': 455, 'chanc': 456, 'score': 457, 'bodi': 458, 'brilliant': 459, 'incred': 460, 'figur': 461, 'situat': 462, 'self': 463, 'major': 464, 'stuff': 465, 'decent': 466, 'element': 467, 'dream': 468, 'return': 469, 'obvious': 470, 'order': 471, 'continu': 472, 'pace': 473, 'ridicul': 474, 'happi': 475, 'highli': 476, 'group': 477, 'add': 478, 'thank': 479, 'ladi': 480, 'novel': 481, 'pain': 482, 'speak': 483, 'career': 484, 'shoot': 485, 'strang': 486, 'heard': 487, 'sad': 488, 'polic': 489, 'husband': 490, 'import': 491, 'break': 492, 'took': 493, 'cannot': 494, 'strong': 495, 'predict': 496, 'robert': 497, 'violenc': 498, 'hilari': 499, 'recent': 500, 'countri': 501, 'known': 502, 'particularli': 503, 'pick': 504, 'documentari': 505, 'season': 506, 'critic': 507, 'jame': 508, 'compar': 509, 'obviou': 510, 'alon': 511, 'told': 512, 'state': 513, 'rock': 514, 'visual': 515, 'exist': 516, 'offer': 517, 'theater': 518, 'opinion': 519, 'gore': 520, 'hold': 521, 'crap': 522, 'result': 523, 'realiti': 524, 'room': 525, 'hear': 526, 'effort': 527, 'clich': 528, 'thriller': 529, 'caus': 530, 'sequel': 531, 'explain': 532, 'serious': 533, 'king': 534, 'local': 535, 'ago': 536, 'none': 537, 'hell': 538, 'note': 539, 'allow': 540, 'david': 541, 'sister': 542, 'simpl': 543, 'femal': 544, 'deliv': 545, 'ok': 546, 'convinc': 547, 'class': 548, 'check': 549, 'suspens': 550, 'win': 551, 'buy': 552, 'oscar': 553, 'huge': 554, 'valu': 555, 'sexual': 556, 'scari': 557, 'cool': 558, 'similar': 559, 'excit': 560, 'exactli': 561, 'apart': 562, 'provid': 563, 'shown': 564, 'avoid': 565, 'seriou': 566, 'english': 567, 'whose': 568, 'taken': 569, 'cinematographi': 570, 'shock': 571, 'polit': 572, 'spoiler': 573, 'offic': 574, 'across': 575, 'middl': 576, 'pass': 577, 'street': 578, 'messag': 579, 'charm': 580, 'somewhat': 581, 'silli': 582, 'modern': 583, 'filmmak': 584, 'confus': 585, 'form': 586, 'tale': 587, 'singl': 588, 'jack': 589, 'mostli': 590, 'william': 591, 'carri': 592, 'attent': 593, 'sing': 594, 'subject': 595, 'five': 596, 'prove': 597, 'richard': 598, 'team': 599, 'stage': 600, 'unlik': 601, 'cop': 602, 'georg': 603, 'televis': 604, 'monster': 605, 'earth': 606, 'villain': 607, 'cover': 608, 'pay': 609, 'marri': 610, 'toward': 611, 'build': 612, 'parent': 613, 'pull': 614, 'due': 615, 'respect': 616, 'fill': 617, 'dialog': 618, 'four': 619, 'remind': 620, 'futur': 621, 'weak': 622, 'typic': 623, '7': 624, 'cheap': 625, 'intellig': 626, 'atmospher': 627, 'british': 628, '80': 629, 'clearli': 630, 'non': 631, 'dog': 632, 'paul': 633, 'knew': 634, 'artist': 635, 'fast': 636, '8': 637, 'crime': 638, 'easili': 639, 'escap': 640, 'adult': 641, 'doubt': 642, 'detail': 643, 'date': 644, 'romant': 645, 'member': 646, 'fire': 647, 'gun': 648, 'drive': 649, 'straight': 650, 'beyond': 651, 'fit': 652, 'attack': 653, 'imag': 654, 'upon': 655, 'posit': 656, 'whether': 657, 'peter': 658, 'fantast': 659, 'appreci': 660, 'aspect': 661, 'captur': 662, 'ten': 663, 'plan': 664, 'discov': 665, 'remain': 666, 'near': 667, 'period': 668, 'realist': 669, 'air': 670, 'mark': 671, 'red': 672, 'dull': 673, 'adapt': 674, 'within': 675, 'spend': 676, 'lose': 677, 'color': 678, 'materi': 679, 'chase': 680, 'mari': 681, 'storylin': 682, 'forget': 683, 'bunch': 684, 'clear': 685, 'lee': 686, 'victim': 687, 'nearli': 688, 'box': 689, 'york': 690, 'inspir': 691, 'match': 692, 'finish': 693, 'mess': 694, 'standard': 695, 'easi': 696, 'truth': 697, 'suffer': 698, 'busi': 699, 'bill': 700, 'space': 701, 'dramat': 702, 'western': 703, 'e': 704, 'list': 705, 'battl': 706, 'notic': 707, 'de': 708, 'french': 709, 'ad': 710, '9': 711, 'tom': 712, 'larg': 713, 'among': 714, 'eventu': 715, 'accept': 716, 'train': 717, 'agre': 718, 'soundtrack': 719, 'spirit': 720, 'third': 721, 'teenag': 722, 'adventur': 723, 'soldier': 724, 'drug': 725, 'famou': 726, 'sorri': 727, 'suggest': 728, 'cri': 729, 'normal': 730, 'babi': 731, 'ultim': 732, 'troubl': 733, 'contain': 734, 'certain': 735, 'cultur': 736, 'romanc': 737, 'rare': 738, 'lame': 739, 'somehow': 740, 'disney': 741, 'mix': 742, 'gone': 743, 'cartoon': 744, 'student': 745, 'fear': 746, 'reveal': 747, 'suck': 748, 'kept': 749, 'attract': 750, 'appeal': 751, 'premis': 752, 'design': 753, 'secret': 754, 'greatest': 755, 'shame': 756, 'throw': 757, 'copi': 758, 'scare': 759, 'wit': 760, 'admit': 761, 'america': 762, 'brought': 763, 'relat': 764, 'particular': 765, 'screenplay': 766, 'whatev': 767, 'pure': 768, '70': 769, 'harri': 770, 'averag': 771, 'master': 772, 'describ': 773, 'treat': 774, 'male': 775, '20': 776, 'fantasi': 777, 'issu': 778, 'warn': 779, 'inde': 780, 'background': 781, 'forward': 782, 'project': 783, 'free': 784, 'memor': 785, 'japanes': 786, 'poorli': 787, 'award': 788, 'locat': 789, 'amus': 790, 'potenti': 791, 'struggl': 792, 'weird': 793, 'magic': 794, 'societi': 795, 'okay': 796, 'accent': 797, 'doctor': 798, 'imdb': 799, 'water': 800, 'hot': 801, 'express': 802, '30': 803, 'alien': 804, 'dr': 805, 'odd': 806, 'choic': 807, 'crazi': 808, 'studio': 809, 'fiction': 810, 'control': 811, 'becam': 812, 'masterpiec': 813, 'difficult': 814, 'fli': 815, 'joe': 816, 'scream': 817, 'costum': 818, 'lover': 819, 'uniqu': 820, 'refer': 821, 'remak': 822, 'vampir': 823, 'girlfriend': 824, 'prison': 825, 'execut': 826, 'wear': 827, 'jump': 828, 'wood': 829, 'unless': 830, 'creepi': 831, 'cheesi': 832, 'superb': 833, 'otherwis': 834, 'parti': 835, 'ghost': 836, 'roll': 837, 'mad': 838, 'public': 839, 'depict': 840, 'moral': 841, 'week': 842, 'earlier': 843, 'badli': 844, 'jane': 845, 'dumb': 846, 'fi': 847, 'grow': 848, 'flaw': 849, 'deep': 850, 'sci': 851, 'maker': 852, 'cat': 853, 'older': 854, 'footag': 855, 'connect': 856, 'bother': 857, 'plenti': 858, 'outsid': 859, 'stick': 860, 'gay': 861, 'catch': 862, 'plu': 863, 'co': 864, 'popular': 865, 'equal': 866, 'social': 867, 'disturb': 868, 'quickli': 869, 'perfectli': 870, 'dress': 871, '90': 872, 'era': 873, 'mistak': 874, 'lie': 875, 'ride': 876, 'previou': 877, 'combin': 878, 'concept': 879, 'band': 880, 'answer': 881, 'surviv': 882, 'rich': 883, 'front': 884, 'sweet': 885, 'christma': 886, 'insid': 887, 'bare': 888, 'eat': 889, 'concern': 890, 'listen': 891, 'beat': 892, 'ben': 893, 'c': 894, 'serv': 895, 'term': 896, 'la': 897, 'meant': 898, 'german': 899, 'stereotyp': 900, 'hardli': 901, 'innoc': 902, 'law': 903, 'desper': 904, 'promis': 905, 'memori': 906, 'intent': 907, 'cute': 908, 'variou': 909, 'inform': 910, 'steal': 911, 'brain': 912, 'post': 913, 'tone': 914, 'island': 915, 'amount': 916, 'compani': 917, 'nuditi': 918, 'track': 919, 'store': 920, 'claim': 921, 'flat': 922, 'hair': 923, '50': 924, 'univers': 925, 'land': 926, 'scott': 927, 'kick': 928, 'danger': 929, 'fairli': 930, 'player': 931, 'crew': 932, 'plain': 933, 'step': 934, 'toni': 935, 'share': 936, 'centuri': 937, 'tast': 938, 'engag': 939, 'achiev': 940, 'cold': 941, 'travel': 942, 'suit': 943, 'rip': 944, 'record': 945, 'manner': 946, 'sadli': 947, 'wrote': 948, 'spot': 949, 'tension': 950, 'intens': 951, 'fascin': 952, 'familiar': 953, 'remark': 954, 'depth': 955, 'burn': 956, 'destroy': 957, 'histor': 958, 'sleep': 959, 'purpos': 960, 'languag': 961, 'ruin': 962, 'ignor': 963, 'delight': 964, 'unbeliev': 965, 'italian': 966, 'collect': 967, 'abil': 968, 'soul': 969, 'clever': 970, 'detect': 971, 'violent': 972, 'rape': 973, 'reach': 974, 'door': 975, 'trash': 976, 'liter': 977, 'scienc': 978, 'reveng': 979, 'caught': 980, 'commun': 981, 'creatur': 982, 'trip': 983, 'approach': 984, 'fashion': 985, 'intrigu': 986, 'paint': 987, 'introduc': 988, 'skill': 989, 'complex': 990, 'channel': 991, 'camp': 992, 'christian': 993, 'extra': 994, 'hole': 995, 'limit': 996, 'mental': 997, 'immedi': 998, 'ann': 999, 'slightli': 1000, 'million': 1001, '6': 1002, 'comput': 1003, 'mere': 1004, 'slasher': 1005, 'conclus': 1006, 'suddenli': 1007, 'imposs': 1008, 'neither': 1009, 'teen': 1010, 'crimin': 1011, 'nation': 1012, 'spent': 1013, 'physic': 1014, 'respons': 1015, 'planet': 1016, 'fake': 1017, 'receiv': 1018, 'sick': 1019, 'blue': 1020, 'bizarr': 1021, 'embarrass': 1022, 'indian': 1023, 'ring': 1024, '15': 1025, 'pop': 1026, 'drop': 1027, 'drag': 1028, 'haunt': 1029, 'suspect': 1030, 'pointless': 1031, 'edg': 1032, 'search': 1033, 'handl': 1034, 'biggest': 1035, 'common': 1036, 'arriv': 1037, 'faith': 1038, 'hurt': 1039, 'technic': 1040, 'angel': 1041, 'dad': 1042, 'genuin': 1043, 'f': 1044, 'awesom': 1045, 'solid': 1046, 'former': 1047, 'focu': 1048, 'van': 1049, 'colleg': 1050, 'count': 1051, 'heavi': 1052, 'tear': 1053, 'rais': 1054, 'wall': 1055, 'laughabl': 1056, 'younger': 1057, 'visit': 1058, 'excus': 1059, 'fair': 1060, 'sign': 1061, 'cult': 1062, 'tough': 1063, 'motion': 1064, 'key': 1065, 'super': 1066, 'desir': 1067, 'addit': 1068, 'stun': 1069, 'cloth': 1070, 'exploit': 1071, 'tortur': 1072, 'smith': 1073, 'race': 1074, 'davi': 1075, 'cross': 1076, 'author': 1077, 'jim': 1078, 'focus': 1079, 'minor': 1080, 'consist': 1081, 'compel': 1082, 'commit': 1083, 'pathet': 1084, 'chemistri': 1085, 'park': 1086, 'obsess': 1087, 'frank': 1088, 'tradit': 1089, 'grade': 1090, 'asid': 1091, '60': 1092, 'brutal': 1093, 'somewher': 1094, 'steve': 1095, 'explor': 1096, 'rule': 1097, 'grant': 1098, 'depress': 1099, 'opportun': 1100, 'u': 1101, 'besid': 1102, 'honest': 1103, 'anti': 1104, 'dub': 1105, 'intend': 1106, 'trailer': 1107, 'bar': 1108, 'scientist': 1109, 'longer': 1110, 'regard': 1111, 'west': 1112, 'decad': 1113, 'judg': 1114, 'silent': 1115, 'armi': 1116, 'creativ': 1117, 'wild': 1118, 'stewart': 1119, 'south': 1120, 'g': 1121, 'draw': 1122, 'road': 1123, 'govern': 1124, 'ex': 1125, 'boss': 1126, 'practic': 1127, 'motiv': 1128, 'festiv': 1129, 'gang': 1130, 'club': 1131, 'surprisingli': 1132, 'redeem': 1133, 'london': 1134, 'green': 1135, 'page': 1136, 'aliv': 1137, 'machin': 1138, 'idiot': 1139, 'militari': 1140, 'display': 1141, 'repeat': 1142, 'thrill': 1143, 'nobodi': 1144, 'yeah': 1145, 'folk': 1146, '100': 1147, '40': 1148, 'journey': 1149, 'garbag': 1150, 'tire': 1151, 'ground': 1152, 'smile': 1153, 'bought': 1154, 'mood': 1155, 'cost': 1156, 'stone': 1157, 'sam': 1158, 'noir': 1159, 'mouth': 1160, 'agent': 1161, 'terrif': 1162, 'requir': 1163, 'utterli': 1164, 'honestli': 1165, 'area': 1166, 'sexi': 1167, 'geniu': 1168, 'report': 1169, 'glad': 1170, 'investig': 1171, 'enter': 1172, 'humour': 1173, 'serial': 1174, 'occasion': 1175, 'narr': 1176, 'passion': 1177, 'climax': 1178, 'marriag': 1179, 'industri': 1180, 'studi': 1181, 'nowher': 1182, 'ship': 1183, 'demon': 1184, 'charli': 1185, 'center': 1186, 'loos': 1187, 'bear': 1188, 'hors': 1189, 'hang': 1190, 'wow': 1191, 'graphic': 1192, 'admir': 1193, 'giant': 1194, 'send': 1195, 'loud': 1196, 'damn': 1197, 'rel': 1198, 'profession': 1199, 'nake': 1200, 'subtl': 1201, 'blow': 1202, 'bottom': 1203, 'insult': 1204, 'batman': 1205, 'doubl': 1206, 'boyfriend': 1207, 'kelli': 1208, 'r': 1209, 'initi': 1210, 'frame': 1211, 'opera': 1212, 'gem': 1213, 'affect': 1214, 'drawn': 1215, 'cinemat': 1216, 'challeng': 1217, 'church': 1218, 'evid': 1219, 'seek': 1220, 'l': 1221, 'fulli': 1222, 'j': 1223, 'nightmar': 1224, 'essenti': 1225, 'conflict': 1226, 'arm': 1227, 'henri': 1228, 'grace': 1229, 'christoph': 1230, 'wind': 1231, 'assum': 1232, 'witch': 1233, 'narrat': 1234, 'hunt': 1235, 'push': 1236, 'chri': 1237, 'wise': 1238, 'repres': 1239, 'month': 1240, 'nomin': 1241, 'hide': 1242, 'affair': 1243, 'avail': 1244, 'sceneri': 1245, 'thu': 1246, 'bond': 1247, 'justic': 1248, 'smart': 1249, 'flashback': 1250, 'interview': 1251, 'outstand': 1252, 'presenc': 1253, 'constantli': 1254, 'satisfi': 1255, 'bed': 1256, 'central': 1257, 'sell': 1258, 'iron': 1259, 'content': 1260, 'gag': 1261, 'everybodi': 1262, 'slowli': 1263, 'hotel': 1264, 'hire': 1265, 'system': 1266, 'hey': 1267, 'charl': 1268, 'individu': 1269, 'adam': 1270, 'thrown': 1271, 'mediocr': 1272, 'jone': 1273, 'allen': 1274, 'lesson': 1275, 'billi': 1276, 'ray': 1277, 'cameo': 1278, 'photographi': 1279, 'pari': 1280, 'fellow': 1281, 'strike': 1282, 'independ': 1283, 'brief': 1284, 'absurd': 1285, 'rise': 1286, 'neg': 1287, 'impact': 1288, 'phone': 1289, 'ill': 1290, 'model': 1291, 'born': 1292, 'fresh': 1293, 'angl': 1294, 'spoil': 1295, 'likabl': 1296, 'abus': 1297, 'hill': 1298, 'discuss': 1299, 'ahead': 1300, 'sight': 1301, 'photograph': 1302, 'sent': 1303, 'logic': 1304, 'shine': 1305, 'blame': 1306, 'occur': 1307, 'mainli': 1308, 'bruce': 1309, 'skip': 1310, 'commerci': 1311, 'forev': 1312, 'teacher': 1313, 'surround': 1314, 'held': 1315, 'segment': 1316, 'blond': 1317, 'zero': 1318, 'resembl': 1319, 'summer': 1320, 'trap': 1321, 'satir': 1322, 'six': 1323, 'queen': 1324, 'ball': 1325, 'fool': 1326, 'sub': 1327, 'tragedi': 1328, 'twice': 1329, 'reaction': 1330, 'pack': 1331, 'bomb': 1332, 'protagonist': 1333, 'hospit': 1334, 'will': 1335, 'mile': 1336, 'sport': 1337, 'mom': 1338, 'vote': 1339, 'drink': 1340, 'trust': 1341, 'jerri': 1342, 'encount': 1343, 'plane': 1344, 'al': 1345, 'program': 1346, 'station': 1347, 'current': 1348, 'martin': 1349, 'choos': 1350, 'celebr': 1351, 'join': 1352, 'lord': 1353, 'round': 1354, 'tragic': 1355, 'field': 1356, 'favourit': 1357, 'robot': 1358, 'vision': 1359, 'jean': 1360, 'tie': 1361, 'arthur': 1362, 'fortun': 1363, 'random': 1364, 'roger': 1365, 'dread': 1366, 'intern': 1367, 'psycholog': 1368, 'nonsens': 1369, 'prefer': 1370, 'epic': 1371, 'improv': 1372, 'formula': 1373, 'highlight': 1374, 'pleasur': 1375, 'legend': 1376, 'tape': 1377, 'dollar': 1378, '11': 1379, 'fox': 1380, 'porn': 1381, 'gorgeou': 1382, 'thin': 1383, 'object': 1384, 'wide': 1385, 'buddi': 1386, 'ugli': 1387, 'influenc': 1388, 'nasti': 1389, 'prepar': 1390, 'ii': 1391, 'reflect': 1392, 'warm': 1393, 'progress': 1394, 'supposedli': 1395, 'worthi': 1396, 'youth': 1397, 'latter': 1398, 'unusu': 1399, 'length': 1400, 'crash': 1401, 'superior': 1402, 'shop': 1403, 'seven': 1404, 'childhood': 1405, 'remot': 1406, 'theatr': 1407, 'funniest': 1408, 'disgust': 1409, 'paid': 1410, 'pilot': 1411, 'convers': 1412, 'trick': 1413, 'castl': 1414, 'fell': 1415, 'rob': 1416, 'gangster': 1417, 'disast': 1418, 'establish': 1419, 'suicid': 1420, 'disappear': 1421, 'ident': 1422, 'heaven': 1423, 'mine': 1424, 'decis': 1425, 'tend': 1426, 'singer': 1427, 'heroin': 1428, 'forgotten': 1429, 'mask': 1430, 'partner': 1431, 'brian': 1432, 'alan': 1433, 'desert': 1434, 'recogn': 1435, 'ms': 1436, 'stuck': 1437, 'sky': 1438, 'thoroughli': 1439, 'p': 1440, 'replac': 1441, 'accur': 1442, 'market': 1443, 'uncl': 1444, 'andi': 1445, 'seemingli': 1446, 'commentari': 1447, 'clue': 1448, 'eddi': 1449, 'danni': 1450, 'devil': 1451, 'jackson': 1452, 'pair': 1453, 'therefor': 1454, 'that': 1455, 'refus': 1456, 'fate': 1457, 'fault': 1458, 'ed': 1459, 'accid': 1460, 'unit': 1461, 'river': 1462, 'afraid': 1463, 'tune': 1464, 'stephen': 1465, 'russian': 1466, 'clean': 1467, 'hidden': 1468, 'quick': 1469, 'instanc': 1470, 'test': 1471, 'convey': 1472, 'readi': 1473, 'irrit': 1474, 'captain': 1475, 'european': 1476, 'insan': 1477, 'frustrat': 1478, 'daniel': 1479, '1950': 1480, 'chines': 1481, 'food': 1482, 'rescu': 1483, 'wed': 1484, 'angri': 1485, 'dirti': 1486, 'lock': 1487, 'joy': 1488, 'steven': 1489, 'price': 1490, 'cage': 1491, 'bland': 1492, 'anymor': 1493, 'rang': 1494, 'wooden': 1495, 'rush': 1496, 'news': 1497, 'jason': 1498, 'n': 1499, 'led': 1500, '12': 1501, 'board': 1502, 'worri': 1503, 'martial': 1504, 'twenti': 1505, 'hunter': 1506, 'transform': 1507, 'symbol': 1508, 'cgi': 1509, 'onto': 1510, 'piti': 1511, 'sentiment': 1512, 'invent': 1513, 'johnni': 1514, 'x': 1515, 'explan': 1516, 'process': 1517, 'attitud': 1518, 'awar': 1519, 'owner': 1520, 'aim': 1521, 'floor': 1522, 'energi': 1523, 'target': 1524, 'necessari': 1525, 'favor': 1526, 'opposit': 1527, 'religi': 1528, 'blind': 1529, 'window': 1530, 'insight': 1531, 'chick': 1532, 'movement': 1533, 'deepli': 1534, 'research': 1535, 'comparison': 1536, 'mountain': 1537, 'possess': 1538, 'rain': 1539, 'comed': 1540, 'grand': 1541, 'whatsoev': 1542, 'shadow': 1543, 'mid': 1544, 'began': 1545, 'bank': 1546, 'princ': 1547, 'parodi': 1548, 'friendship': 1549, 'pre': 1550, 'taylor': 1551, 'credibl': 1552, 'weapon': 1553, 'teach': 1554, 'dougla': 1555, 'flesh': 1556, 'hint': 1557, 'protect': 1558, 'bloodi': 1559, 'terror': 1560, 'marvel': 1561, 'watchabl': 1562, 'drunk': 1563, 'accord': 1564, 'anybodi': 1565, 'leader': 1566, 'superman': 1567, 'load': 1568, 'brown': 1569, 'freddi': 1570, 'hitler': 1571, 'seat': 1572, 'tim': 1573, 'jeff': 1574, 'appropri': 1575, 'unknown': 1576, 'charg': 1577, 'villag': 1578, 'knock': 1579, 'keaton': 1580, 'unnecessari': 1581, 'media': 1582, 'empti': 1583, 'england': 1584, 'enemi': 1585, 'strength': 1586, 'wave': 1587, 'dare': 1588, 'buck': 1589, 'perspect': 1590, 'utter': 1591, 'craft': 1592, 'ford': 1593, 'nativ': 1594, 'correct': 1595, 'contrast': 1596, 'kiss': 1597, 'distract': 1598, 'speed': 1599, 'anywher': 1600, 'knowledg': 1601, 'magnific': 1602, 'soap': 1603, 'chill': 1604, 'nazi': 1605, 'ice': 1606, '1980': 1607, 'mission': 1608, 'fred': 1609, 'breath': 1610, 'moon': 1611, 'joan': 1612, 'jr': 1613, 'crowd': 1614, 'frighten': 1615, 'kate': 1616, '000': 1617, 'soft': 1618, 'dick': 1619, 'hundr': 1620, 'nick': 1621, 'dan': 1622, 'radio': 1623, 'somebodi': 1624, 'dozen': 1625, 'simon': 1626, 'andrew': 1627, 'thousand': 1628, 'academi': 1629, 'loss': 1630, 'shakespear': 1631, 'root': 1632, 'account': 1633, 'sum': 1634, 'quot': 1635, 'vehicl': 1636, 'convent': 1637, '1970': 1638, 'leg': 1639, 'behavior': 1640, 'regular': 1641, 'gold': 1642, 'compet': 1643, 'demand': 1644, 'worker': 1645, 'pretenti': 1646, 'stretch': 1647, 'candi': 1648, 'interpret': 1649, 'notabl': 1650, 'privat': 1651, 'japan': 1652, 'explos': 1653, 'lynch': 1654, 'constant': 1655, 'debut': 1656, 'tarzan': 1657, 'translat': 1658, 'prais': 1659, 'spi': 1660, 'sea': 1661, 'revolv': 1662, 'technolog': 1663, 'franc': 1664, 'jesu': 1665, 'sat': 1666, 'ass': 1667, 'threaten': 1668, 'quiet': 1669, 'failur': 1670, 'toy': 1671, 'higher': 1672, 'met': 1673, 'punch': 1674, 'kevin': 1675, 'aid': 1676, 'interact': 1677, 'vh': 1678, 'abandon': 1679, 'mike': 1680, 'confront': 1681, 'command': 1682, 'bet': 1683, 'separ': 1684, 'recal': 1685, 'gotten': 1686, 'site': 1687, 'belong': 1688, 'stunt': 1689, 'servic': 1690, 'techniqu': 1691, 'foot': 1692, 'cabl': 1693, 'bug': 1694, 'freak': 1695, 'fu': 1696, 'african': 1697, 'bright': 1698, 'jimmi': 1699, 'capabl': 1700, 'succeed': 1701, 'boat': 1702, 'clark': 1703, 'stock': 1704, 'fat': 1705, 'presid': 1706, 'spanish': 1707, 'structur': 1708, 'gene': 1709, 'kidnap': 1710, 'paper': 1711, 'belief': 1712, 'factor': 1713, 'whilst': 1714, 'tree': 1715, 'realism': 1716, 'realis': 1717, 'bob': 1718, 'complic': 1719, 'witti': 1720, 'educ': 1721, 'attend': 1722, 'broken': 1723, 'assist': 1724, 'finest': 1725, 'santa': 1726, 'up': 1727, 'v': 1728, 'observ': 1729, 'smoke': 1730, 'determin': 1731, 'depart': 1732, 'hat': 1733, 'lewi': 1734, 'oper': 1735, 'rubbish': 1736, 'fame': 1737, 'routin': 1738, 'domin': 1739, 'lone': 1740, 'safe': 1741, 'hook': 1742, 'morgan': 1743, 'kinda': 1744, 'advanc': 1745, 'foreign': 1746, 'rank': 1747, 'numer': 1748, 'civil': 1749, 'shape': 1750, 'werewolf': 1751, 'vs': 1752, 'shallow': 1753, 'rose': 1754, 'washington': 1755, 'gari': 1756, 'morn': 1757, 'ordinari': 1758, 'winner': 1759, 'accomplish': 1760, 'kong': 1761, 'virtual': 1762, 'whenev': 1763, 'grab': 1764, 'peac': 1765, 'offens': 1766, 'luck': 1767, 'h': 1768, 'activ': 1769, 'patient': 1770, 'complain': 1771, 'contriv': 1772, 'bigger': 1773, 'welcom': 1774, 'unfunni': 1775, 'con': 1776, 'dimension': 1777, 'pretend': 1778, 'trek': 1779, 'flash': 1780, 'code': 1781, 'lesbian': 1782, 'wake': 1783, 'dri': 1784, 'eric': 1785, 'cain': 1786, 'albert': 1787, 'manipul': 1788, 'statu': 1789, 'dancer': 1790, 'corrupt': 1791, 'guard': 1792, 'awkward': 1793, 'signific': 1794, 'sourc': 1795, 'speech': 1796, 'context': 1797, 'gain': 1798, 'corni': 1799, 'anthoni': 1800, 'sean': 1801, 'psycho': 1802, '13': 1803, 'clip': 1804, 'theatric': 1805, 'curiou': 1806, 'reli': 1807, 'religion': 1808, 'w': 1809, 'advic': 1810, 'priest': 1811, 'addict': 1812, 'flow': 1813, 'specif': 1814, 'asian': 1815, 'howard': 1816, 'secur': 1817, 'skin': 1818, 'jennif': 1819, 'organ': 1820, 'comfort': 1821, 'luke': 1822, 'golden': 1823, 'core': 1824, 'promot': 1825, 'cheat': 1826, 'cash': 1827, 'lucki': 1828, 'lower': 1829, 'dislik': 1830, 'associ': 1831, 'devic': 1832, 'degre': 1833, 'balanc': 1834, 'wing': 1835, 'regret': 1836, 'contribut': 1837, 'frankli': 1838, 'spell': 1839, 'frequent': 1840, 'print': 1841, 'lake': 1842, 'forgiv': 1843, 'sake': 1844, 'thoma': 1845, 'betti': 1846, 'mass': 1847, 'crack': 1848, 'unexpect': 1849, 'gordon': 1850, 'depend': 1851, 'unfold': 1852, 'categori': 1853, 'invit': 1854, 'grown': 1855, 'construct': 1856, 'amateur': 1857, 'intellectu': 1858, 'walter': 1859, 'honor': 1860, 'anna': 1861, 'matur': 1862, 'grew': 1863, 'condit': 1864, 'sudden': 1865, 'spectacular': 1866, 'veteran': 1867, 'sole': 1868, 'mirror': 1869, 'demonstr': 1870, 'overli': 1871, 'grip': 1872, 'gift': 1873, 'experienc': 1874, 'freedom': 1875, 'meanwhil': 1876, 'liner': 1877, 'robin': 1878, 'card': 1879, 'circumst': 1880, 'crappi': 1881, 'brilliantli': 1882, 'subtitl': 1883, 'drew': 1884, 'sheriff': 1885, 'unabl': 1886, 'section': 1887, 'colour': 1888, 'oliv': 1889, 'theori': 1890, 'cook': 1891, 'path': 1892, 'parker': 1893, 'altern': 1894, 'laughter': 1895, 'matt': 1896, 'pile': 1897, 'sheer': 1898, 'lawyer': 1899, 'treatment': 1900, 'defin': 1901, 'wander': 1902, 'hall': 1903, 'relief': 1904, 'accident': 1905, 'sinatra': 1906, 'hank': 1907, 'captiv': 1908, 'dragon': 1909, 'moor': 1910, 'gratuit': 1911, 'halloween': 1912, 'kung': 1913, 'wound': 1914, 'cowboy': 1915, 'unintent': 1916, 'broadway': 1917, 'k': 1918, 'wayn': 1919, 'barbara': 1920, 'jacki': 1921, 'spoof': 1922, 'winter': 1923, 'canadian': 1924, 'statement': 1925, 'surreal': 1926, 'compos': 1927, 'cheer': 1928, 'fare': 1929, 'fish': 1930, 'gonna': 1931, 'treasur': 1932, 'sensit': 1933, 'unrealist': 1934, 'emerg': 1935, 'woodi': 1936, 'victor': 1937, 'ran': 1938, 'sympathet': 1939, 'neighbor': 1940, 'driven': 1941, 'expos': 1942, 'menac': 1943, 'glass': 1944, 'overlook': 1945, 'authent': 1946, 'topic': 1947, 'michel': 1948, 'handsom': 1949, 'gross': 1950, 'chief': 1951, 'ancient': 1952, 'nevertheless': 1953, 'russel': 1954, 'feet': 1955, 'network': 1956, 'stranger': 1957, 'built': 1958, 'cinderella': 1959, 'contemporari': 1960, 'pleasant': 1961, 'comedian': 1962, 'endless': 1963, 'blockbust': 1964, 'underr': 1965, 'letter': 1966, 'gori': 1967, 'earn': 1968, 'miser': 1969, 'consider': 1970, 'solv': 1971, 'brook': 1972, 'switch': 1973, 'convict': 1974, 'virgin': 1975, 'edward': 1976, 'victoria': 1977, 'joseph': 1978, 'bullet': 1979, 'cynic': 1980, 'scenario': 1981, '0': 1982, 'scale': 1983, 'alex': 1984, 'chosen': 1985, 'sword': 1986, 'gut': 1987, 'com': 1988, 'curs': 1989, 'outrag': 1990, 'juli': 1991, 'screenwrit': 1992, 'proper': 1993, 'monkey': 1994, 'wrap': 1995, 'uk': 1996, 'substanc': 1997, 'driver': 1998, 'remov': 1999, 'par': 2000, 'bird': 2001, 'indic': 2002, 'court': 2003, 'loser': 2004, 'consequ': 2005, 'roy': 2006, 'grave': 2007, 'advertis': 2008, 'inevit': 2009, 'rental': 2010, 'naiv': 2011, 'nanci': 2012, 'brave': 2013, 'invis': 2014, 'fatal': 2015, 'germani': 2016, 'le': 2017, 'slap': 2018, 'bridg': 2019, 'anger': 2020, 'loui': 2021, 'provok': 2022, 'footbal': 2023, 'ador': 2024, 'alcohol': 2025, 'anderson': 2026, 'chan': 2027, 'ryan': 2028, 'willi': 2029, 'professor': 2030, 'stumbl': 2031, 'australian': 2032, 'sharp': 2033, '1930': 2034, 'assassin': 2035, 'patrick': 2036, 'bat': 2037, 'heck': 2038, 'eight': 2039, 'strongli': 2040, 'saturday': 2041, 'deni': 2042, 'amateurish': 2043, 'cell': 2044, 'lousi': 2045, 'ape': 2046, 'refresh': 2047, 'liber': 2048, 'trilog': 2049, 'sin': 2050, 'justifi': 2051, 'san': 2052, 'vagu': 2053, 'resid': 2054, 'indi': 2055, 'sympathi': 2056, 'defeat': 2057, 'terrifi': 2058, 'reput': 2059, 'creator': 2060, 'mini': 2061, 'task': 2062, 'endur': 2063, 'expert': 2064, 'prevent': 2065, 'tabl': 2066, 'tediou': 2067, 'trial': 2068, 'employ': 2069, 'imit': 2070, 'offend': 2071, 'rival': 2072, 'che': 2073, 'basebal': 2074, 'max': 2075, 'weekend': 2076, 'beach': 2077, 'dig': 2078, 'pitch': 2079, 'complaint': 2080, 'fairi': 2081, 'europ': 2082, 'format': 2083, 'risk': 2084, 'purchas': 2085, 'murphi': 2086, 'tini': 2087, 'bite': 2088, 'glimps': 2089, 'hype': 2090, 'reminisc': 2091, 'nois': 2092, 'titan': 2093, 'harsh': 2094, 'powel': 2095, 'asleep': 2096, '14': 2097, 'fals': 2098, 'prime': 2099, 'strip': 2100, 'north': 2101, 'till': 2102, 'destruct': 2103, 'revel': 2104, 'texa': 2105, 'africa': 2106, 'descript': 2107, 'surfac': 2108, 'sitcom': 2109, 'uninterest': 2110, 'inner': 2111, 'arrest': 2112, 'semi': 2113, 'spin': 2114, 'excess': 2115, 'dinosaur': 2116, 'twin': 2117, 'maintain': 2118, 'argu': 2119, 'makeup': 2120, 'hitchcock': 2121, 'massiv': 2122, 'controversi': 2123, 'expens': 2124, 'kim': 2125, 'reject': 2126, 'ideal': 2127, 'stare': 2128, 'ludicr': 2129, 'melodrama': 2130, 'insist': 2131, 'host': 2132, 'supernatur': 2133, 'forest': 2134, 'ga': 2135, 'atroci': 2136, 'subplot': 2137, 'columbo': 2138, 'ala': 2139, 'press': 2140, 'erot': 2141, 'nail': 2142, 'presum': 2143, 'identifi': 2144, 'notch': 2145, 'cant': 2146, 'dude': 2147, 'character': 2148, 'crude': 2149, 'plagu': 2150, 'closer': 2151, 'guest': 2152, 'method': 2153, 'forgett': 2154, 'lion': 2155, 'ear': 2156, 'princess': 2157, 'landscap': 2158, 'border': 2159, 'beast': 2160, 'foster': 2161, 'urban': 2162, 'pacino': 2163, 'bound': 2164, 'damag': 2165, 'previous': 2166, 'birth': 2167, 'aunt': 2168, 'jungl': 2169, 'storytel': 2170, 'accus': 2171, 'doll': 2172, 'guid': 2173, 'jess': 2174, 'propaganda': 2175, 'thirti': 2176, 'emma': 2177, 'chose': 2178, 'nude': 2179, 'pet': 2180, 'warrior': 2181, 'whoever': 2182, 'mainstream': 2183, 'mate': 2184, '25': 2185, 'merit': 2186, 'cooper': 2187, 'deadli': 2188, 'gritti': 2189, 'upset': 2190, 'latest': 2191, 'exact': 2192, 'poster': 2193, 'friday': 2194, 'size': 2195, '1990': 2196, 'popul': 2197, 'blend': 2198, 'contact': 2199, 'buff': 2200, 'settl': 2201, 'ton': 2202, 'wilson': 2203, 'citizen': 2204, 'rough': 2205, 'sun': 2206, 'warner': 2207, 'contest': 2208, 'corps': 2209, 'pitt': 2210, 'bu': 2211, 'alic': 2212, 'select': 2213, 'rat': 2214, 'overcom': 2215, 'widow': 2216, 'environ': 2217, 'metal': 2218, 'mgm': 2219, 'guilti': 2220, 'revolut': 2221, 'particip': 2222, 'lift': 2223, 'link': 2224, 'ted': 2225, 'prostitut': 2226, 'moron': 2227, 'johnson': 2228, '1960': 2229, 'corpor': 2230, 'afternoon': 2231, 'corner': 2232, 'matrix': 2233, 'accompani': 2234, 'exagger': 2235, 'hood': 2236, 'sincer': 2237, 'friendli': 2238, 'clair': 2239, 'holm': 2240, 'instal': 2241, 'multipl': 2242, 'doom': 2243, 'leagu': 2244, 'irish': 2245, 'defend': 2246, 'junk': 2247, 'blah': 2248, 'aka': 2249, 'examin': 2250, 'grim': 2251, 'hip': 2252, 'string': 2253, 'campi': 2254, 'sunday': 2255, 'lugosi': 2256, 'advis': 2257, 'varieti': 2258, 'tight': 2259, 'pro': 2260, 'confid': 2261, 'icon': 2262, 'shut': 2263, 'rachel': 2264, 'shake': 2265, 'goal': 2266, 'denni': 2267, 'mexican': 2268, 'medic': 2269, 'directli': 2270, 'jaw': 2271, 'attach': 2272, 'sullivan': 2273, 'sentenc': 2274, 'truck': 2275, 'sarah': 2276, 'terrorist': 2277, 'courag': 2278, 'legendari': 2279, 'breast': 2280, 'duke': 2281, 'dean': 2282, 'prior': 2283, 'vietnam': 2284, 'bourn': 2285, 'split': 2286, 'behav': 2287, 'entri': 2288, 'proceed': 2289, 'donald': 2290, 'un': 2291, 'hong': 2292, 'nose': 2293, 'yell': 2294, 'swim': 2295, 'forth': 2296, 'jerk': 2297, 'unconvinc': 2298, 'stolen': 2299, 'buri': 2300, 'gather': 2301, 'borrow': 2302, 'crush': 2303, 'confess': 2304, 'concentr': 2305, 'lifetim': 2306, 'everywher': 2307, 'spite': 2308, 'turkey': 2309, 'lip': 2310, 'deliveri': 2311, 'julia': 2312, 'california': 2313, 'pan': 2314, 'hoffman': 2315, 'reward': 2316, 'freeman': 2317, 'proud': 2318, 'quest': 2319, 'offici': 2320, 'downright': 2321, 'flight': 2322, 'china': 2323, 'betray': 2324, 'encourag': 2325, 'jail': 2326, 'jon': 2327, 'notori': 2328, 'fade': 2329, 'worthwhil': 2330, 'fabul': 2331, 'sir': 2332, 'lazi': 2333, 'inept': 2334, 'sink': 2335, 'relev': 2336, 'bell': 2337, 'imageri': 2338, 'storm': 2339, 'survivor': 2340, 'lisa': 2341, 'bag': 2342, 'teeth': 2343, 'cousin': 2344, 'susan': 2345, 'retard': 2346, 'shower': 2347, 'branagh': 2348, 'bride': 2349, 'finger': 2350, 'shark': 2351, 'trade': 2352, 'tremend': 2353, 'quirki': 2354, 'facial': 2355, 'stab': 2356, 'summari': 2357, 'alright': 2358, 'toler': 2359, 'hugh': 2360, 'mexico': 2361, 'pose': 2362, 'bitter': 2363, 'blown': 2364, 'hyster': 2365, 'von': 2366, 'ha': 2367, 'address': 2368, 'cruel': 2369, 'scheme': 2370, 'christ': 2371, 'bone': 2372, 'ron': 2373, 'ned': 2374, 'afterward': 2375, 'larri': 2376, 'feed': 2377, 'pursu': 2378, 'snake': 2379, 'distinct': 2380, 'screw': 2381, 'tour': 2382, 'traci': 2383, 'thumb': 2384, 'beg': 2385, 'swear': 2386, 'chair': 2387, 'occas': 2388, 'photo': 2389, 'obscur': 2390, 'stomach': 2391, 'raw': 2392, 'mechan': 2393, 'heavili': 2394, 'argument': 2395, 'southern': 2396, 'render': 2397, 'necessarili': 2398, 'resist': 2399, 'cabin': 2400, 'chain': 2401, 'sidney': 2402, 'holiday': 2403, 'gruesom': 2404, 'hardi': 2405, 'philip': 2406, 'satan': 2407, 'understood': 2408, 'indulg': 2409, 'india': 2410, 'racist': 2411, 'integr': 2412, 'lay': 2413, 'fourth': 2414, 'midnight': 2415, 'belov': 2416, 'outfit': 2417, 'obnoxi': 2418, 'tongu': 2419, 'pregnant': 2420, 'stalk': 2421, 'forgot': 2422, 'inhabit': 2423, 'garden': 2424, 'deeper': 2425, 'magazin': 2426, 'slapstick': 2427, 'ticket': 2428, '17': 2429, 'restor': 2430, 'carol': 2431, 'brad': 2432, 'shoe': 2433, 'incid': 2434, 'devot': 2435, 'lincoln': 2436, 'divorc': 2437, 'elizabeth': 2438, 'underground': 2439, 'benefit': 2440, 'maria': 2441, 'disbelief': 2442, 'guarante': 2443, 'sandler': 2444, 'anticip': 2445, 'lili': 2446, 'mildli': 2447, 'cring': 2448, 'slave': 2449, 'princip': 2450, 'capit': 2451, 'explod': 2452, 'greater': 2453, 'amazingli': 2454, 'bbc': 2455, 'creation': 2456, 'extraordinari': 2457, 'introduct': 2458, 'lesli': 2459, 'halfway': 2460, 'funnier': 2461, 'extent': 2462, 'advantag': 2463, 'wreck': 2464, 'text': 2465, 'tap': 2466, 'enhanc': 2467, 'overwhelm': 2468, 'transfer': 2469, 'punish': 2470, 'plant': 2471, 'lo': 2472, 'deliber': 2473, 'dynam': 2474, 'horrif': 2475, 'error': 2476, 'jessica': 2477, 'preview': 2478, 'lane': 2479, 'east': 2480, 'miller': 2481, 'miscast': 2482, 'sophist': 2483, 'vincent': 2484, '2000': 2485, 'basi': 2486, 'ensu': 2487, 'vacat': 2488, 'homosexu': 2489, 'appli': 2490, 'elev': 2491, 'via': 2492, 'extend': 2493, 'spoken': 2494, 'steel': 2495, 'bollywood': 2496, 'mansion': 2497, 'sleazi': 2498, 'measur': 2499, 'uncomfort': 2500, 'reed': 2501, 'goofi': 2502, 'fix': 2503, 'overact': 2504, 'cathol': 2505, 'alter': 2506, 'daili': 2507, 'beer': 2508, 'blair': 2509, 'hippi': 2510, 'conceiv': 2511, 'dentist': 2512, 'stanley': 2513, 'mous': 2514, 'melt': 2515, 'savag': 2516, 'assign': 2517, 'breathtak': 2518, 'everyday': 2519, 'succe': 2520, 'burt': 2521, 'properli': 2522, 'nowaday': 2523, 'oppos': 2524, 'sacrific': 2525, 'subsequ': 2526, 'carpent': 2527, 'inspector': 2528, 'laura': 2529, 'neck': 2530, 'block': 2531, 'circl': 2532, 'massacr': 2533, 'lesser': 2534, 'christi': 2535, 'access': 2536, 'seagal': 2537, 'mob': 2538, 'pool': 2539, 'grey': 2540, 'fallen': 2541, 'concert': 2542, 'fay': 2543, 'portrait': 2544, 'jake': 2545, 'chees': 2546, 'usa': 2547, 'react': 2548, 'competit': 2549, 'jewish': 2550, 'sinist': 2551, 'isol': 2552, 'relax': 2553, 'nine': 2554, 'lyric': 2555, 'appal': 2556, 'immens': 2557, '2006': 2558, 'ironi': 2559, 'nonetheless': 2560, 'spiritu': 2561, 'creep': 2562, 'stink': 2563, 'chop': 2564, 'suitabl': 2565, 'rage': 2566, 'shirt': 2567, 'luci': 2568, 'nut': 2569, 'spring': 2570, 'showcas': 2571, 'adopt': 2572, 'reduc': 2573, 'needless': 2574, 'retir': 2575, 'user': 2576, 'navi': 2577, 'franchis': 2578, 'sold': 2579, 'per': 2580, 'asham': 2581, 'zone': 2582, 'uninspir': 2583, 'bulli': 2584, 'digit': 2585, 'nurs': 2586, 'bath': 2587, 'jay': 2588, 'stanwyck': 2589, 'upper': 2590, 'illustr': 2591, '1940': 2592, '2001': 2593, 'amongst': 2594, 'oddli': 2595, 'sutherland': 2596, 'broadcast': 2597, 'laid': 2598, 'aspir': 2599, 'fulfil': 2600, 'disguis': 2601, 'brando': 2602, 'baker': 2603, 'throat': 2604, 'stylish': 2605, 'pride': 2606, 'neighborhood': 2607, 'impli': 2608, 'em': 2609, '18': 2610, 'wanna': 2611, 'wwii': 2612, 'nobl': 2613, 'endear': 2614, 'thief': 2615, 'pound': 2616, 'cinematograph': 2617, 'coher': 2618, '16': 2619, 'diseas': 2620, 'dinner': 2621, 'shift': 2622, 'distribut': 2623, 'dawn': 2624, 'tens': 2625, 'albeit': 2626, 'bett': 2627, 'prop': 2628, 'shoulder': 2629, 'bo': 2630, 'rochest': 2631, 'shout': 2632, 'matthau': 2633, 'rebel': 2634, 'forti': 2635, 'contract': 2636, 'poignant': 2637, 'knife': 2638, 'snow': 2639, 'surf': 2640, 'wash': 2641, 'silenc': 2642, 'function': 2643, 'internet': 2644, 'proof': 2645, 'height': 2646, 'cancel': 2647, 'instinct': 2648, 'henc': 2649, 'derek': 2650, 'chuck': 2651, 'mindless': 2652, 'duti': 2653, 'heat': 2654, 'eeri': 2655, 'cannib': 2656, 'silver': 2657, 'reunion': 2658, 'horrend': 2659, 'elvira': 2660, 'widmark': 2661, 'absorb': 2662, 'greatli': 2663, 'repetit': 2664, 'neat': 2665, 'torn': 2666, 'musician': 2667, 'alik': 2668, 'glori': 2669, 'elvi': 2670, 'pie': 2671, 'incoher': 2672, 'etern': 2673, 'mill': 2674, 'premier': 2675, 'innov': 2676, 'spielberg': 2677, 'wealthi': 2678, 'homag': 2679, 'infam': 2680, 'trite': 2681, 'racism': 2682, 'fbi': 2683, 'diamond': 2684, 'itali': 2685, 'horrifi': 2686, 'bang': 2687, 'britain': 2688, 'redempt': 2689, 'announc': 2690, 'blank': 2691, 'nelson': 2692, 'burton': 2693, 'precis': 2694, 'lovabl': 2695, 'crisi': 2696, 'hammer': 2697, 'pat': 2698, 'dedic': 2699, 'resolut': 2700, 'ensembl': 2701, 'wilder': 2702, 'helen': 2703, 'chaplin': 2704, 'parallel': 2705, 'flop': 2706, 'happili': 2707, 'streisand': 2708, 'plastic': 2709, 'oil': 2710, 'conclud': 2711, 'factori': 2712, 'broke': 2713, 'disagre': 2714, 'mar': 2715, 'carter': 2716, 'cube': 2717, 'triumph': 2718, 'st': 2719, 'chuckl': 2720, 'climb': 2721, 'own': 2722, 'march': 2723, 'weight': 2724, 'row': 2725, 'rocket': 2726, 'bush': 2727, 'vega': 2728, 'fighter': 2729, 'dump': 2730, 'sensibl': 2731, 'unforgett': 2732, 'boot': 2733, 'lust': 2734, 'wherea': 2735, 'mst3k': 2736, 'luca': 2737, 'kurt': 2738, 'enorm': 2739, 'meaning': 2740, 'thug': 2741, 'spare': 2742, 'dane': 2743, 'butt': 2744, 'stress': 2745, 'threat': 2746, 'adequ': 2747, 'rap': 2748, 'engin': 2749, 'dear': 2750, 'caricatur': 2751, 'fifti': 2752, 'arnold': 2753, 'bobbi': 2754, 'brand': 2755, 'difficulti': 2756, 'karloff': 2757, 'secretari': 2758, 'polish': 2759, 'ralph': 2760, 'journalist': 2761, 'barri': 2762, 'ego': 2763, 'swing': 2764, 'arrog': 2765, 'elabor': 2766, 'flynn': 2767, 'fest': 2768, 'homeless': 2769, 'hamlet': 2770, 'simpson': 2771, 'puppet': 2772, 'grate': 2773, 'float': 2774, 'unbear': 2775, 'conspiraci': 2776, 'arrang': 2777, 'fanci': 2778, 'resort': 2779, 'induc': 2780, 'tool': 2781, 'spike': 2782, 'pig': 2783, 'cruis': 2784, 'exercis': 2785, 'tribut': 2786, 'basement': 2787, 'choreograph': 2788, 'phillip': 2789, 'muppet': 2790, 'boll': 2791, 'guilt': 2792, 'fianc': 2793, 'editor': 2794, 'layer': 2795, 'slip': 2796, 'tower': 2797, '24': 2798, 'document': 2799, 'ward': 2800, 'file': 2801, 'puzzl': 2802, 'ham': 2803, 'medium': 2804, 'toilet': 2805, 'korean': 2806, 'item': 2807, 'scarecrow': 2808, 'babe': 2809, 'stan': 2810, 'superfici': 2811, 'spark': 2812, 'catherin': 2813, 'territori': 2814, 'transit': 2815, 'minim': 2816, 'philosoph': 2817, 'larger': 2818, 'orient': 2819, 'assur': 2820, 'slaughter': 2821, 'doc': 2822, 'persona': 2823, 'glover': 2824, 'librari': 2825, 'inexplic': 2826, 'portion': 2827, 'denzel': 2828, 'ban': 2829, 'wolf': 2830, 'curti': 2831, 'shi': 2832, 'financi': 2833, 'sneak': 2834, 'dorothi': 2835, 'jeremi': 2836, 'pg': 2837, 'boredom': 2838, 'walken': 2839, 'owe': 2840, 'jet': 2841, 'ambigu': 2842, 'metaphor': 2843, 'profound': 2844, 'backdrop': 2845, 'multi': 2846, 'eleph': 2847, 'cusack': 2848, 'hudson': 2849, 'whale': 2850, 'hack': 2851, 'stiff': 2852, 'rave': 2853, 'birthday': 2854, '2005': 2855, 'ultra': 2856, 'notion': 2857, 'elsewher': 2858, 'union': 2859, 'implaus': 2860, 'viru': 2861, 'gadget': 2862, 'bibl': 2863, 'hawk': 2864, 'eastwood': 2865, 'slight': 2866, 'deriv': 2867, 'reader': 2868, 'disc': 2869, 'canada': 2870, 'urg': 2871, 'superhero': 2872, '1st': 2873, 'distanc': 2874, 'squar': 2875, 'eva': 2876, 'newspap': 2877, 'lloyd': 2878, 'afford': 2879, 'poison': 2880, 'pad': 2881, 'charisma': 2882, 'essenc': 2883, 'huh': 2884, 'sadist': 2885, 'drown': 2886, 'health': 2887, 'spread': 2888, 'heston': 2889, 'button': 2890, 'restaur': 2891, 'skit': 2892, 'cure': 2893, 'montag': 2894, 'estat': 2895, 'invest': 2896, 'peak': 2897, 'lab': 2898, 'dealt': 2899, 'muslim': 2900, 'godfath': 2901, 'maniac': 2902, 'gradual': 2903, 'scoobi': 2904, 'companion': 2905, 'fetch': 2906, 'alli': 2907, 'cup': 2908, 'gothic': 2909, 'countless': 2910, 'servant': 2911, 'tea': 2912, 'subtleti': 2913, 'ritter': 2914, 'miik': 2915, 'kane': 2916, 'electr': 2917, 'briefli': 2918, 'charismat': 2919, 'elect': 2920, 'salli': 2921, 'iii': 2922, 'heroic': 2923, 'nuanc': 2924, 'reel': 2925, 'wannab': 2926, 'bud': 2927, 'grandmoth': 2928, 'resourc': 2929, 'toss': 2930, 'cole': 2931, 'admittedli': 2932, 'neil': 2933, 'tender': 2934, 'ingredi': 2935, 'stronger': 2936, 'shall': 2937, 'mafia': 2938, 'label': 2939, 'reev': 2940, 'gate': 2941, 'punk': 2942, 'mild': 2943, 'poverti': 2944, 'kubrick': 2945, 'dawson': 2946, 'carrey': 2947, 'pit': 2948, 'stood': 2949, 'pauli': 2950, 'updat': 2951, 'cardboard': 2952, 'bakshi': 2953, 'assault': 2954, 'ian': 2955, 'burst': 2956, 'useless': 2957, 'fond': 2958, 'outcom': 2959, 'smash': 2960, 'tag': 2961, 'cox': 2962, 'smooth': 2963, 'easier': 2964, 'terri': 2965, 'astair': 2966, 'rex': 2967, 'increasingli': 2968, 'fist': 2969, 'samurai': 2970, 'vulner': 2971, 'sketch': 2972, 'coincid': 2973, 'vari': 2974, 'qualifi': 2975, 'melodramat': 2976, 'resolv': 2977, '2002': 2978, 'divers': 2979, 'exchang': 2980, 'conveni': 2981, 'scratch': 2982, 'reynold': 2983, 'brillianc': 2984, 'templ': 2985, 'blast': 2986, 'suspend': 2987, 'luckili': 2988, 'tame': 2989, 'insert': 2990, 'be': 2991, 'matthew': 2992, 'hamilton': 2993, 'coach': 2994, 'strictli': 2995, 'farm': 2996, 'ambiti': 2997, 'jami': 2998, 'fisher': 2999, 'seventi': 3000, 'pin': 3001, 'meat': 3002, 'gotta': 3003, 'nuclear': 3004, 'walker': 3005, 'soprano': 3006, 'closet': 3007, 'recreat': 3008, 'butcher': 3009, 'spooki': 3010, 'grasp': 3011, 'kudo': 3012, 'eccentr': 3013, 'clock': 3014, 'ninja': 3015, 'instantli': 3016, 'empir': 3017, 'convolut': 3018, 'cave': 3019, 'joey': 3020, 'revers': 3021, 'worthless': 3022, 'timeless': 3023, 'struck': 3024, 'brosnan': 3025, 'discoveri': 3026, 'monk': 3027, 'declar': 3028, 'importantli': 3029, 'wipe': 3030, 'inconsist': 3031, 'selfish': 3032, 'sidekick': 3033, 'cliff': 3034, 'gray': 3035, 'clown': 3036, 'norman': 3037, 'seller': 3038, 'partli': 3039, 'communist': 3040, 'eighti': 3041, 'mitchel': 3042, 'fifteen': 3043, 'pal': 3044, 'sloppi': 3045, 'evok': 3046, 'bleak': 3047, 'miracl': 3048, 'seed': 3049, 'flawless': 3050, 'websit': 3051, 'piano': 3052, 'farc': 3053, 'superbl': 3054, 'debat': 3055, 'cheek': 3056, 'chew': 3057, 'ho': 3058, 'lifestyl': 3059, 'destin': 3060, 'aforement': 3061, 'psychiatrist': 3062, '45': 3063, 'enthusiast': 3064, 'australia': 3065, 'stoog': 3066, 'pressur': 3067, 'splatter': 3068, 'abc': 3069, 'emili': 3070, 'akshay': 3071, 'dire': 3072, 'slice': 3073, 'wrestl': 3074, 'bash': 3075, 'drivel': 3076, 'incompet': 3077, 'dash': 3078, 'kitchen': 3079, 'wick': 3080, 'anni': 3081, 'regardless': 3082, 'directori': 3083, 'soviet': 3084, 'pleasantli': 3085, 'jar': 3086, 'artifici': 3087, 'suppli': 3088, 'prize': 3089, 'chapter': 3090, 'distant': 3091, 'duo': 3092, 'ken': 3093, 'flower': 3094, 'seduc': 3095, 'boil': 3096, 'judi': 3097, 'cameron': 3098, 'glow': 3099, 'curios': 3100, 'lou': 3101, 'doo': 3102, 'blob': 3103, 'increas': 3104, 'dave': 3105, 'cia': 3106, 'helicopt': 3107, 'cagney': 3108, 'recov': 3109, 'beaten': 3110, 'mann': 3111, 'ranger': 3112, 'ellen': 3113, 'eleg': 3114, 'combat': 3115, 'francisco': 3116, 'perri': 3117, 'glenn': 3118, 'favour': 3119, 'turner': 3120, 'craven': 3121, 'laurel': 3122, 'craig': 3123, 'hop': 3124, 'psychot': 3125, 'web': 3126, 'goldberg': 3127, 'splendid': 3128, 'panic': 3129, 'drunken': 3130, 'min': 3131, 'ruth': 3132, 'wizard': 3133, 'graduat': 3134, 'philosophi': 3135, 'falk': 3136, 'slightest': 3137, 'hatr': 3138, 'flip': 3139, 'gandhi': 3140, 'fx': 3141, 'shortli': 3142, '20th': 3143, 'gentl': 3144, 'rid': 3145, 'alexand': 3146, 'plausibl': 3147, 'modesti': 3148, 'greek': 3149, 'harm': 3150, 'dracula': 3151, 'jealou': 3152, 'legal': 3153, 'futurist': 3154, 'ocean': 3155, 'unpleas': 3156, 'we': 3157, 'fund': 3158, 'holi': 3159, 'lend': 3160, 'manhattan': 3161, 'preciou': 3162, 'knight': 3163, 'felix': 3164, 'tall': 3165, 'mock': 3166, 'reviv': 3167, 'digniti': 3168, 'tank': 3169, 'explicit': 3170, 'bless': 3171, 'ami': 3172, 'forbidden': 3173, 'nod': 3174, 'scientif': 3175, 'thread': 3176, 'childish': 3177, 'overdon': 3178, 'giallo': 3179, 'thick': 3180, 'repeatedli': 3181, 'nerv': 3182, 'verhoeven': 3183, 'eve': 3184, 'awaken': 3185, 'awe': 3186, 'yesterday': 3187, '99': 3188, 'unwatch': 3189, '2004': 3190, 'torment': 3191, 'margaret': 3192, 'fever': 3193, 'elderli': 3194, 'pirat': 3195, 'broad': 3196, 'mel': 3197, 'eas': 3198, 'ambit': 3199, 'custom': 3200, 'romero': 3201, 'rivet': 3202, 'absenc': 3203, 'timothi': 3204, 'roman': 3205, 'publish': 3206, 'royal': 3207, 'ah': 3208, 'kay': 3209, 'stiller': 3210, 'automat': 3211, 'bin': 3212, 'griffith': 3213, 'lean': 3214, 'politician': 3215, 'acclaim': 3216, 'launch': 3217, 'uniform': 3218, 'termin': 3219, 'wallac': 3220, 'foul': 3221, 'bathroom': 3222, 'homicid': 3223, 'pulp': 3224, 'phrase': 3225, 'antic': 3226, 'transport': 3227, 'purpl': 3228, 'stinker': 3229, 'warren': 3230, 'gabriel': 3231, 'darker': 3232, 'crook': 3233, 'pierc': 3234, 'sunshin': 3235, 'tomato': 3236, 'ought': 3237, 'q': 3238, 'viciou': 3239, 'sixti': 3240, 'coloni': 3241, 'prom': 3242, 'brazil': 3243, 'contrari': 3244, 'awak': 3245, 'karen': 3246, 'revolutionari': 3247, 'packag': 3248, 'album': 3249, 'marin': 3250, 'horrid': 3251, 'donna': 3252, 'evolv': 3253, 'pray': 3254, 'eyr': 3255, 'choreographi': 3256, '2003': 3257, 'kenneth': 3258, 'saint': 3259, 'li': 3260, 'hollow': 3261, 'juvenil': 3262, 'rambo': 3263, 'conserv': 3264, 'mummi': 3265, 'stole': 3266, 'candid': 3267, 'boast': 3268, 'ramon': 3269, 'defi': 3270, 'blade': 3271, 'overr': 3272, 'twelv': 3273, 'option': 3274, 'beatti': 3275, 'dose': 3276, 'ireland': 3277, 'nerd': 3278, 'kapoor': 3279, 'mildr': 3280, 'jazz': 3281, 'collabor': 3282, 'confirm': 3283, 'astonish': 3284, 'global': 3285, 'flame': 3286, 'protest': 3287, 'natali': 3288, 'trio': 3289, 'detract': 3290, 'altman': 3291, 'kirk': 3292, 'fulci': 3293, 'funer': 3294, 'bottl': 3295, 'audio': 3296, 'whip': 3297, 'shade': 3298, 'delici': 3299, 'nicholson': 3300, 'leap': 3301, 'spit': 3302, 'bull': 3303, 'tommi': 3304, 'racial': 3305, 'yellow': 3306, 'mystic': 3307, 'destini': 3308, 'enterpris': 3309, 'blake': 3310, 'merci': 3311, 'reunit': 3312, 'staff': 3313, 'meaningless': 3314, 'adolesc': 3315, 'vivid': 3316, 'pseudo': 3317, 'visibl': 3318, 'popcorn': 3319, 'enchant': 3320, 'harder': 3321, 'bedroom': 3322, 'inherit': 3323, 'todd': 3324, 'neo': 3325, 'threw': 3326, 'fonda': 3327, 'altogeth': 3328, 'swedish': 3329, 'await': 3330, 'ruthless': 3331, 'synopsi': 3332, 'madonna': 3333, 'respond': 3334, 'decor': 3335, 'moodi': 3336, 'jew': 3337, 'kennedi': 3338, 'wire': 3339, 'crocodil': 3340, 'uneven': 3341, 'fanat': 3342, 'tip': 3343, 'befriend': 3344, 'roommat': 3345, 'voight': 3346, 'atlanti': 3347, 'leonard': 3348, 'reserv': 3349, 'lawrenc': 3350, 'exhibit': 3351, 'suspici': 3352, 'bust': 3353, 'lemmon': 3354, 'edi': 3355, 'clint': 3356, 'unsettl': 3357, 'clumsi': 3358, 'bradi': 3359, 'audit': 3360, 'garner': 3361, 'dimens': 3362, 'ventur': 3363, 'voyag': 3364, 'abysm': 3365, 'chao': 3366, 'holli': 3367, '2007': 3368, 'incident': 3369, 'bargain': 3370, 'bold': 3371, 'centr': 3372, 'rural': 3373, 'palma': 3374, 'carl': 3375, 'timon': 3376, 'imperson': 3377, 'neglect': 3378, 'lit': 3379, 'trail': 3380, '2nd': 3381, 'immigr': 3382, 'cuba': 3383, 'cari': 3384, 'versu': 3385, 'ant': 3386, 'poetic': 3387, 'humili': 3388, 'echo': 3389, 'mall': 3390, 'wealth': 3391, 'nearbi': 3392, 'troop': 3393, 'characterist': 3394, 'acknowledg': 3395, 'hart': 3396, 'daddi': 3397, 'cd': 3398, 'elimin': 3399, 'tiger': 3400, 'collaps': 3401, 'domest': 3402, 'marshal': 3403, 'saga': 3404, 'repuls': 3405, 'infect': 3406, 'jeffrey': 3407, 'pun': 3408, 'solo': 3409, 'paus': 3410, 'mistaken': 3411, 'prejudic': 3412, 'celluloid': 3413, 'mickey': 3414, 'homer': 3415, 'milk': 3416, 'inappropri': 3417, 'gear': 3418, 'leon': 3419, 'interrupt': 3420, 'equip': 3421, 'sore': 3422, 'inan': 3423, 'apolog': 3424, 'tribe': 3425, 'assembl': 3426, 'promin': 3427, 'chest': 3428, 'pant': 3429, 'olivi': 3430, 'hbo': 3431, 'cake': 3432, 'harvey': 3433, '1996': 3434, 'ginger': 3435, 'undoubtedli': 3436, 'coffe': 3437, 'coat': 3438, 'vulgar': 3439, 'consum': 3440, 'primari': 3441, 'pot': 3442, 'furthermor': 3443, 'exot': 3444, 'trace': 3445, 'airplan': 3446, 'devast': 3447, 'instant': 3448, 'jenni': 3449, 'pen': 3450, 'highest': 3451, 'humbl': 3452, 'embrac': 3453, 'colleagu': 3454, 'maggi': 3455, 'aveng': 3456, 'retain': 3457, 'colonel': 3458, 'florida': 3459, 'brooklyn': 3460, 'polanski': 3461, 'institut': 3462, 'solut': 3463, 'seduct': 3464, 'bowl': 3465, 'smaller': 3466, 'outer': 3467, 'illog': 3468, 'godzilla': 3469, 'cope': 3470, '3rd': 3471, 'strain': 3472, 'linda': 3473, 'rick': 3474, 'ya': 3475, 'descend': 3476, 'wive': 3477, 'disabl': 3478, 'gender': 3479, 'poke': 3480, 'dian': 3481, 'sale': 3482, 'dutch': 3483, 'principl': 3484, '1999': 3485, 'scope': 3486, 'glamor': 3487, 'blatant': 3488, 'dive': 3489, 'predecessor': 3490, 'gundam': 3491, 'cue': 3492, 'devoid': 3493, 'beneath': 3494, 'lol': 3495, 'inferior': 3496, 'dud': 3497, 'gloriou': 3498, 'mixtur': 3499, 'yard': 3500, 'bubbl': 3501, 'secondli': 3502, 'hal': 3503, 'vast': 3504, 'primarili': 3505, 'rabbit': 3506, 'breed': 3507, 'disjoint': 3508, 'hideou': 3509, 'shirley': 3510, 'invas': 3511, 'shelf': 3512, 'casual': 3513, 'arab': 3514, 'garbo': 3515, 'talki': 3516, 'senseless': 3517, 'simplist': 3518, 'myer': 3519, 'alert': 3520, 'streep': 3521, 'alfr': 3522, 'pearl': 3523, 'aggress': 3524, 'museum': 3525, 'countrysid': 3526, 'april': 3527, 'grinch': 3528, 'et': 3529, 'domino': 3530, 'z': 3531, 'trademark': 3532, 'robberi': 3533, 'defens': 3534, 'loyal': 3535, 'rendit': 3536, 'disgrac': 3537, 'oz': 3538, 'sh': 3539, 'hardcor': 3540, 'khan': 3541, 'vanish': 3542, 'unhappi': 3543, 'hopeless': 3544, 'experiment': 3545, 'stir': 3546, 'mayor': 3547, 'mail': 3548, 'maci': 3549, 'slide': 3550, 'illeg': 3551, 'boom': 3552, 'stellar': 3553, 'stack': 3554, 'uwe': 3555, 'acid': 3556, 'applaud': 3557, 'robinson': 3558, 'obtain': 3559, 'amanda': 3560, 'scroog': 3561, 'dicken': 3562, 'tenant': 3563, 'recruit': 3564, 'fri': 3565, 'declin': 3566, 'tempt': 3567, 'dismiss': 3568, 'grandfath': 3569, 'rifl': 3570, 'emphasi': 3571, 'berlin': 3572, 'psychic': 3573, 'soccer': 3574, 'topless': 3575, 'counter': 3576, 'span': 3577, 'blew': 3578, 'wont': 3579, 'spider': 3580, 'craze': 3581, 'hartley': 3582, 'incomprehens': 3583, 'diana': 3584, 'sympath': 3585, 'ration': 3586, 'justin': 3587, 'sibl': 3588, 'goer': 3589, 'faster': 3590, 'shed': 3591, 'woo': 3592, 'intim': 3593, 'bitch': 3594, 'shaw': 3595, 'revolt': 3596, 'ethnic': 3597, 'riot': 3598, 'wet': 3599, 'niro': 3600, 'resurrect': 3601, 'lumet': 3602, 'trashi': 3603, 'parad': 3604, 'porno': 3605, 'dealer': 3606, 'weakest': 3607, 'mario': 3608, 'feminist': 3609, 'choru': 3610, 'jonathan': 3611, 'biographi': 3612, '00': 3613, 'lena': 3614, 'nephew': 3615, 'worm': 3616, 'slick': 3617, 'enlighten': 3618, 'hesit': 3619, 'patriot': 3620, 'hopper': 3621, 'gap': 3622, 'wheel': 3623, 'region': 3624, 'partial': 3625, 'eager': 3626, 'commend': 3627, 'steam': 3628, 'honesti': 3629, 'farmer': 3630, 'immort': 3631, 'rider': 3632, 'wendi': 3633, 'unreal': 3634, 'ensur': 3635, 'ballet': 3636, 'andr': 3637, 'repress': 3638, 'psychopath': 3639, 'prequel': 3640, 'util': 3641, 'owen': 3642, 'snap': 3643, 'morri': 3644, 'safeti': 3645, 'kingdom': 3646, 'blunt': 3647, 'mutant': 3648, 'charlott': 3649, 'composit': 3650, 'sappi': 3651, 'confin': 3652, 'skull': 3653, 'wore': 3654, 'similarli': 3655, 'vice': 3656, 'properti': 3657, 'nostalg': 3658, 'franco': 3659, 'hung': 3660, 'leo': 3661, 'victori': 3662, 'sandra': 3663, 'macarthur': 3664, 'deed': 3665, 'rocki': 3666, 'dust': 3667, 'thru': 3668, 'bergman': 3669, 'dalton': 3670, 'pattern': 3671, 'bow': 3672, 'farrel': 3673, 'montana': 3674, 'despair': 3675, 'rambl': 3676, 'emperor': 3677, 'hyde': 3678, 'compens': 3679, 'heartbreak': 3680, 'drain': 3681, 'recycl': 3682, 'acquir': 3683, 'miseri': 3684, 'snl': 3685, 'rope': 3686, 'compass': 3687, 'del': 3688, 'repli': 3689, 'nervou': 3690, 'kyle': 3691, 'whoopi': 3692, 'latin': 3693, 'tail': 3694, 'strand': 3695, 'drum': 3696, 'valuabl': 3697, 'speci': 3698, '1972': 3699, 'bumbl': 3700, 'exit': 3701, 'tad': 3702, 'bonu': 3703, 'cg': 3704, 'campbel': 3705, 'percept': 3706, 'romp': 3707, 'gimmick': 3708, 'airport': 3709, 'orson': 3710, 'downhil': 3711, 'bleed': 3712, 'radic': 3713, 'oppress': 3714, '35': 3715, 'wacki': 3716, 'carradin': 3717, 'tonight': 3718, 'mistress': 3719, 'pour': 3720, 'rotten': 3721, 'martian': 3722, 'roth': 3723, 'chess': 3724, 'da': 3725, 'contempl': 3726, 'gal': 3727, 'rapist': 3728, 'slug': 3729, 'olli': 3730, 'taught': 3731, 'pursuit': 3732, 'preach': 3733, 'tackl': 3734, 'shelley': 3735, 'arc': 3736, 'heal': 3737, 'attorney': 3738, 'pervert': 3739, 'paltrow': 3740, 'belt': 3741, 'champion': 3742, 'dazzl': 3743, 'mislead': 3744, 'banal': 3745, 'melodi': 3746, 'unpredict': 3747, 'pervers': 3748, 'slash': 3749, 'stilt': 3750, 'programm': 3751, '1983': 3752, 'edgar': 3753, 'arguabl': 3754, 'tooth': 3755, 'employe': 3756, 'tiresom': 3757, 'cleverli': 3758, 'raymond': 3759, 'closest': 3760, 'passeng': 3761, 'duval': 3762, 'vocal': 3763, 'chicken': 3764, 'vengeanc': 3765, 'sensat': 3766, 'uplift': 3767, 'virginia': 3768, 'mesmer': 3769, 'marti': 3770, 'gambl': 3771, 'bela': 3772, 'poem': 3773, 'maid': 3774, 'graham': 3775, 'plight': 3776, 'franki': 3777, 'rubi': 3778, 'orang': 3779, 'conneri': 3780, 'dixon': 3781, 'secretli': 3782, 'suffic': 3783, 'extens': 3784, 'amitabh': 3785, 'clone': 3786, 'convincingli': 3787, 'swallow': 3788, '1968': 3789, 'tube': 3790, 'climact': 3791, 'engross': 3792, 'outing': 3793, 'calm': 3794, 'inject': 3795, 'habit': 3796, 'mute': 3797, 'quarter': 3798, 'yawn': 3799, 'giggl': 3800, 'monologu': 3801, 'whine': 3802, 'profan': 3803, 'paranoia': 3804, 'scottish': 3805, 'volum': 3806, 'lundgren': 3807, 'crystal': 3808, 'bay': 3809, 'numb': 3810, 'sirk': 3811, 'gerard': 3812, 'abraham': 3813, 'iran': 3814, 'pokemon': 3815, 'ethan': 3816, 'frankenstein': 3817, 'meander': 3818, 'chicago': 3819, 'im': 3820, 'dispos': 3821, 'plod': 3822, 'nichola': 3823, 'grotesqu': 3824, 'septemb': 3825, 'linger': 3826, 'trend': 3827, 'expand': 3828, 'fed': 3829, 'junior': 3830, 'profess': 3831, 'lowest': 3832, 'bend': 3833, 'franci': 3834, 'surpass': 3835, 'underst': 3836, 'austen': 3837, 'earl': 3838, 'abort': 3839, 'taxi': 3840, 'spock': 3841, 'poetri': 3842, 'richardson': 3843, 'backward': 3844, 'catchi': 3845, 'greedi': 3846, 'nostalgia': 3847, 'rubber': 3848, 'myth': 3849, 'muddl': 3850, 'cannon': 3851, 'instrument': 3852, 'rant': 3853, 'household': 3854, 'lure': 3855, 'spoke': 3856, 'econom': 3857, 'waitress': 3858, 'compliment': 3859, 'mundan': 3860, 'eugen': 3861, 'sue': 3862, 'simplic': 3863, 'dysfunct': 3864, 'der': 3865, 'tourist': 3866, 'descent': 3867, 'literatur': 3868, 'hum': 3869, 'stallon': 3870, 'flee': 3871, 'phantom': 3872, 'stale': 3873, 'randi': 3874, 'louis': 3875, 'mortal': 3876, 'omen': 3877, 'occupi': 3878, 'recognis': 3879, 'firstli': 3880, 'cent': 3881, 'eaten': 3882, 'furi': 3883, 'alongsid': 3884, 'equival': 3885, 'crucial': 3886, 'dictat': 3887, 'damon': 3888, 'hello': 3889, 'dement': 3890, 'insur': 3891, 'sissi': 3892, 'recognit': 3893, 'irrelev': 3894, 'june': 3895, 'phoni': 3896, 'coast': 3897, 'mankind': 3898, 'map': 3899, 'bacal': 3900, 'duck': 3901, 'carel': 3902, 'deaf': 3903, 'lang': 3904, 'molli': 3905, 'bump': 3906, 'distinguish': 3907, 'freez': 3908, 'rude': 3909, 'newli': 3910, 'ashley': 3911, 'likewis': 3912, 'buffalo': 3913, 'reign': 3914, 'bike': 3915, 'onlin': 3916, 'labor': 3917, 'drake': 3918, 'twilight': 3919, 'dreari': 3920, '1973': 3921, 'heel': 3922, 'lengthi': 3923, 'daisi': 3924, 'wisdom': 3925, 'grayson': 3926, 'blackmail': 3927, 'damm': 3928, 'biko': 3929, 'loyalti': 3930, 'antwon': 3931, 'rooney': 3932, 'cyborg': 3933, 'prey': 3934, 'tunnel': 3935, 'vein': 3936, 'inher': 3937, 'incorpor': 3938, 'attribut': 3939, 'interior': 3940, 'boxer': 3941, 'chronicl': 3942, 'unorigin': 3943, 'approv': 3944, 'analysi': 3945, 'barrymor': 3946, 'baddi': 3947, 'ridden': 3948, 'worn': 3949, 'emphas': 3950, 'exposur': 3951, 'keith': 3952, 'basketbal': 3953, 'provoc': 3954, 'proce': 3955, 'startl': 3956, 'butler': 3957, 'nineti': 3958, 'pink': 3959, 'sailor': 3960, 'millionair': 3961, 'nicol': 3962, 'meg': 3963, 'robbin': 3964, 'belushi': 3965, 'stalker': 3966, 'drift': 3967, 'julian': 3968, 'barrel': 3969, 'predat': 3970, 'mormon': 3971, 'elm': 3972, 'underli': 3973, 'simmon': 3974, 'bunni': 3975, 'unrel': 3976, 'undeni': 3977, 'hypnot': 3978, 'condemn': 3979, 'degrad': 3980, 'mighti': 3981, 'improvis': 3982, 'substitut': 3983, 'othello': 3984, 'er': 3985, 'indiffer': 3986, 'fleet': 3987, 'walsh': 3988, 'meyer': 3989, 'carla': 3990, 'greed': 3991, 'unawar': 3992, 'lampoon': 3993, 'shove': 3994, 'agenda': 3995, 'nyc': 3996, 'marion': 3997, '3d': 3998, 'firm': 3999, 'roof': 4000, 'exquisit': 4001, 'palac': 4002, 'alison': 4003, 'hay': 4004, 'mtv': 4005, 'rukh': 4006, 'errol': 4007, 'watson': 4008, 'reid': 4009, 'warmth': 4010, 'disord': 4011, 'priceless': 4012, 'alarm': 4013, 'dolph': 4014, 'vital': 4015, 'edgi': 4016, 'novak': 4017, 'enthusiasm': 4018, 'session': 4019, 'unleash': 4020, 'nun': 4021, 'campaign': 4022, 'thompson': 4023, 'distort': 4024, 'peril': 4025, 'drip': 4026, 'testament': 4027, 'eastern': 4028, 'angela': 4029, 'gestur': 4030, 'israel': 4031, 'glanc': 4032, 'coup': 4033, '13th': 4034, 'valentin': 4035, 'crown': 4036, 'profit': 4037, 'minimum': 4038, 'championship': 4039, 'spain': 4040, 'cassidi': 4041, 'randomli': 4042, 'petti': 4043, 'peck': 4044, 'beatl': 4045, 'sergeant': 4046, 'iraq': 4047, 'preserv': 4048, '1933': 4049, 'pamela': 4050, 'showdown': 4051, 'orlean': 4052, 'ponder': 4053, 'what': 4054, 'simultan': 4055, 'zizek': 4056, 'valley': 4057, 'realm': 4058, 'restrain': 4059, 'perpetu': 4060, 'quinn': 4061, 'wig': 4062, 'rout': 4063, 'reson': 4064, 'empathi': 4065, 'travesti': 4066, 'buster': 4067, 'gentleman': 4068, 'stake': 4069, 'contradict': 4070, 'han': 4071, 'brenda': 4072, 'stroke': 4073, 'exposit': 4074, 'mon': 4075, 'regist': 4076, 'unimagin': 4077, 'din': 4078, 'bro': 4079, 'shootout': 4080, '1984': 4081, 'jan': 4082, 'sabrina': 4083, 'climat': 4084, 'represent': 4085, 'calib': 4086, 'fido': 4087, 'miyazaki': 4088, 'scotland': 4089, 'crawl': 4090, 'cream': 4091, 'kurosawa': 4092, 'crow': 4093, 'cooki': 4094, 'shaki': 4095, 'painter': 4096, 'perceiv': 4097, '1997': 4098, 'darren': 4099, 'compromis': 4100, 'spacey': 4101, 'femm': 4102, 'demis': 4103, 'delic': 4104, 'derang': 4105, 'abomin': 4106, 'geek': 4107, 'censor': 4108, 'tacki': 4109, 'josh': 4110, 'greg': 4111, 'businessman': 4112, 'wax': 4113, 'crawford': 4114, 'monoton': 4115, 'soderbergh': 4116, 'ross': 4117, 'distress': 4118, 'stargat': 4119, 'cloud': 4120, 'ustinov': 4121, 'mclaglen': 4122, 'unsatisfi': 4123, 'unseen': 4124, 'baldwin': 4125, 'traumat': 4126, 'pole': 4127, 'absent': 4128, 'dana': 4129, '1987': 4130, 'sammi': 4131, 'shoddi': 4132, 'sucker': 4133, 'warrant': 4134, 'pretens': 4135, 'meryl': 4136, 'fuller': 4137, 'passabl': 4138, 'unravel': 4139, 'kumar': 4140, 'exclus': 4141, 'clash': 4142, 'uncov': 4143, 'tarantino': 4144, 'furiou': 4145, '1993': 4146, 'antonioni': 4147, 'jewel': 4148, 'austin': 4149, 'primit': 4150, 'correctli': 4151, 'fog': 4152, 'click': 4153, 'fenc': 4154, 'dee': 4155, 'accuraci': 4156, 'deniro': 4157, 'tech': 4158, 'reluct': 4159, 'verbal': 4160, 'expedit': 4161, 'polici': 4162, 'sid': 4163, 'seal': 4164, 'anchor': 4165, 'valid': 4166, 'nathan': 4167, 'wholli': 4168, 'norm': 4169, 'judgment': 4170, 'deceas': 4171, 'slam': 4172, 'dreck': 4173, 'fabric': 4174, 'unfair': 4175, 'sunni': 4176, 'nicola': 4177, 'tax': 4178, 'conduct': 4179, 'temper': 4180, 'darn': 4181, 'sheet': 4182, 'wang': 4183, 'joel': 4184, 'pocket': 4185, 'alec': 4186, 'patienc': 4187, 'sustain': 4188, 'sand': 4189, 'bake': 4190, '3000': 4191, 'crippl': 4192, 'logan': 4193, 'roller': 4194, 'fought': 4195, 'vanc': 4196, '2008': 4197, '1971': 4198, 'seldom': 4199, '1995': 4200, 'mode': 4201, 'ritual': 4202, 'murray': 4203, 'behold': 4204, 'enforc': 4205, 'clerk': 4206, 'hallucin': 4207, 'malon': 4208, 'trait': 4209, 'fart': 4210, 'debt': 4211, 'wretch': 4212, 'shanghai': 4213, 'squad': 4214, 'stark': 4215, 'preposter': 4216, 'shell': 4217, 'helpless': 4218, 'tactic': 4219, 'sweep': 4220, 'critiqu': 4221, 'stuart': 4222, 'preston': 4223, 'scriptwrit': 4224, 'bias': 4225, 'guitar': 4226, 'despis': 4227, 'isabel': 4228, 'legaci': 4229, 'exhaust': 4230, 'schedul': 4231, 'conscious': 4232, 'soup': 4233, 'canyon': 4234, 'bridget': 4235, 'phil': 4236, 'fundament': 4237, 'outlin': 4238, 'pete': 4239, 'grief': 4240, 'penni': 4241, 'divid': 4242, 'clau': 4243, 'technicolor': 4244, 'rita': 4245, 'runner': 4246, 'robber': 4247, 'rear': 4248, 'bloom': 4249, 'delv': 4250, 'alley': 4251, 'russia': 4252, 'flair': 4253, 'implic': 4254, 'propos': 4255, 'vomit': 4256, 'palanc': 4257, 'downey': 4258, 'agenc': 4259, 'lacklust': 4260, 'sniper': 4261, 'jacket': 4262, 'culmin': 4263, 'marc': 4264, 'unexpectedli': 4265, 'drove': 4266, 'inabl': 4267, 'sugar': 4268, 'kansa': 4269, 'jodi': 4270, 'connor': 4271, 'restrict': 4272, 'newman': 4273, 'liberti': 4274, 'alicia': 4275, 'passag': 4276, 'invad': 4277, 'gregori': 4278, 'boyl': 4279, 'rehash': 4280, 'cigarett': 4281, 'consciou': 4282, 'sentinel': 4283, 'feat': 4284, 'karl': 4285, 'improb': 4286, 'horn': 4287, 'aesthet': 4288, 'kolchak': 4289, 'chainsaw': 4290, 'delet': 4291, 'sharon': 4292, '1936': 4293, 'ladder': 4294, 'behaviour': 4295, 'asylum': 4296, 'rod': 4297, 'awhil': 4298, 'yeti': 4299, 'wrench': 4300, 'tendenc': 4301, '22': 4302, 'tripe': 4303, 'lush': 4304, 'rampag': 4305, 'vet': 4306, 'bacon': 4307, 'mccoy': 4308, 'pale': 4309, 'foxx': 4310, 'cap': 4311, 'arrow': 4312, 'rehears': 4313, 'newcom': 4314, 'elit': 4315, 'lurk': 4316, 'aristocrat': 4317, 'basing': 4318, 'suspicion': 4319, 'fright': 4320, 'suffici': 4321, 'weav': 4322, 'tomorrow': 4323, 'hulk': 4324, 'el': 4325, '1978': 4326, 'amazon': 4327, 'wildli': 4328, 'minu': 4329, 'stream': 4330, 'loneli': 4331, 'hackney': 4332, 'spice': 4333, 'scoop': 4334, 'paramount': 4335, 'hungri': 4336, 'prank': 4337, '19th': 4338, 'financ': 4339, 'underneath': 4340, 'globe': 4341, '1920': 4342, 'shortcom': 4343, 'rumor': 4344, 'visitor': 4345, 'sung': 4346, 'paradis': 4347, 'filler': 4348, 'rhythm': 4349, 'conscienc': 4350, 'tasteless': 4351, 'coaster': 4352, 'thunderbird': 4353, '1988': 4354, 'wagner': 4355, 'recogniz': 4356, 'hopkin': 4357, 'straightforward': 4358, 'chamberlain': 4359, 'ram': 4360, 'en': 4361, 'counterpart': 4362, 'cancer': 4363, 'abrupt': 4364, '1989': 4365, 'entranc': 4366, 'worship': 4367, 'beverli': 4368, 'minist': 4369, 'brit': 4370, '75': 4371, 'choppi': 4372, 'standout': 4373, 'chavez': 4374, 'heist': 4375, 'couch': 4376, 'teas': 4377, 'penn': 4378, 'smell': 4379, 'immers': 4380, 'rub': 4381, 'springer': 4382, 'curli': 4383, '1939': 4384, 'ingeni': 4385, 'posey': 4386, 'grudg': 4387, 'atroc': 4388, 'secondari': 4389, 'naughti': 4390, 'leigh': 4391, 'wwe': 4392, 'literari': 4393, 'impos': 4394, 'dirt': 4395, 'lectur': 4396, 'iv': 4397, 'paxton': 4398, 'bread': 4399, 'quietli': 4400, 'tierney': 4401, 'inmat': 4402, 'ratso': 4403, 'injuri': 4404, 'bernard': 4405, 'convert': 4406, 'lindsay': 4407, 'policeman': 4408, 'heartfelt': 4409, 'missil': 4410, 'laurenc': 4411, 'nemesi': 4412, 'sublim': 4413, 'entitl': 4414, 'sassi': 4415, 'ace': 4416, 'cattl': 4417, 'duel': 4418, 'moreov': 4419, 'yearn': 4420, 'net': 4421, '1986': 4422, 'misguid': 4423, 'esther': 4424, 'clan': 4425, 'skeptic': 4426, 'transcend': 4427, 'quaid': 4428, 'morbid': 4429, 'watcher': 4430, 'variat': 4431, 'attenborough': 4432, 'geni': 4433, 'nolan': 4434, 'enthral': 4435, 'rosemari': 4436, 'tyler': 4437, 'hopelessli': 4438, 'kidman': 4439, 'egg': 4440, 'unexplain': 4441, 'bean': 4442, 'buzz': 4443, '1979': 4444, 'out': 4445, 'setup': 4446, 'artsi': 4447, 'characteris': 4448, 'cruelti': 4449, 'graini': 4450, 'steadi': 4451, 'bye': 4452, 'youngest': 4453, 'mytholog': 4454, 'brood': 4455, 'uncut': 4456, 'moder': 4457, 'facil': 4458, 'enabl': 4459, 'grin': 4460, 'diari': 4461, 'poe': 4462, 'vader': 4463, 'obstacl': 4464, 'spiral': 4465, 'reliabl': 4466, 'carlito': 4467, 'puppi': 4468, 'hk': 4469, 'kitti': 4470, 'dont': 4471, 'gina': 4472, 'bounc': 4473, 'weather': 4474, '1969': 4475, 'effici': 4476, 'heap': 4477, 'oblig': 4478, 'decept': 4479, 'bewar': 4480, 'acquaint': 4481, 'hain': 4482, 'baffl': 4483, 'athlet': 4484, 'brendan': 4485, 'patricia': 4486, 'hammi': 4487, 'underworld': 4488, 'sweat': 4489, 'kline': 4490, 'martha': 4491, 'christin': 4492, 'fuel': 4493, 'disastr': 4494, 'exterior': 4495, 'gillian': 4496, 'bronson': 4497, 'niec': 4498, 'spontan': 4499, 'clueless': 4500, 'despic': 4501, 'preming': 4502, 'narrow': 4503, 'tick': 4504, 'harmless': 4505, 'astound': 4506, 'angst': 4507, '19': 4508, 'rome': 4509, 'loath': 4510, 'shatter': 4511, 'sleepwalk': 4512, 'scar': 4513, 'circu': 4514, 'sooner': 4515, 'preachi': 4516, 'insipid': 4517, 'injur': 4518, 'dilemma': 4519, 'mayhem': 4520, 'trigger': 4521, 'suprem': 4522, 'biker': 4523, 'candl': 4524, 'uh': 4525, 'viewpoint': 4526, 'lester': 4527, 'fontain': 4528, 'outlaw': 4529, 'mermaid': 4530, 'goof': 4531, 'enlist': 4532, 'taboo': 4533, 'loi': 4534, 'virtu': 4535, 'headach': 4536, 'renaiss': 4537, '73': 4538, 'analyz': 4539, 'hepburn': 4540, 'dandi': 4541, 'housewif': 4542, 'amor': 4543, 'foolish': 4544, 'slimi': 4545, 'idol': 4546, 'zoom': 4547, 'redund': 4548, 'spade': 4549, 'ebert': 4550, 'filth': 4551, 'steer': 4552, 'dish': 4553, 'stair': 4554, 'glorifi': 4555, 'tripl': 4556, 'guin': 4557, 'hokey': 4558, 'oldest': 4559, 'hooker': 4560, 'ariel': 4561, 'hostag': 4562, 'macho': 4563, 'immatur': 4564, 'intric': 4565, 'salt': 4566, 'gere': 4567, 'claustrophob': 4568, 'stimul': 4569, 'boston': 4570, 'phenomenon': 4571, 'surgeri': 4572, 'cassavet': 4573, 'fluff': 4574, 'overlong': 4575, 'contempt': 4576, 'whore': 4577, 'camcord': 4578, 'dismal': 4579, 'corbett': 4580, 'bent': 4581, 'sox': 4582, 'scorses': 4583, 'faint': 4584, 'remad': 4585, 'schlock': 4586, 'down': 4587, 'frantic': 4588, 'gasp': 4589, 'shred': 4590, 'antagonist': 4591, 'beard': 4592, 'flirt': 4593, 'margin': 4594, 'strongest': 4595, 'spree': 4596, 'zane': 4597, 'flashi': 4598, 'preced': 4599, 'astronaut': 4600, 'harold': 4601, 'cow': 4602, 'naschi': 4603, 'obligatori': 4604, 'flag': 4605, 'gabl': 4606, 'messi': 4607, '1976': 4608, 'keen': 4609, 'transplant': 4610, 'mount': 4611, 'joker': 4612, 'mutual': 4613, 'conquer': 4614, 'rhyme': 4615, 'shield': 4616, '1981': 4617, 'proport': 4618, 'spinal': 4619, 'widescreen': 4620, 'radiat': 4621, 'trivia': 4622, 'cohen': 4623, 'assert': 4624, 'nolt': 4625, 'muscl': 4626, 'corman': 4627, 'cush': 4628, 'perman': 4629, 'fascist': 4630, 'alvin': 4631, 'dwarf': 4632, 'boob': 4633, 'inflict': 4634, 'aborigin': 4635, 'raj': 4636, 'www': 4637, 'info': 4638, 'wield': 4639, 'someday': 4640, 'neurot': 4641, '95': 4642, 'off': 4643, 'deer': 4644, 'archiv': 4645, 'ritchi': 4646, 'bachelor': 4647, 'divin': 4648, 'hara': 4649, 'vaniti': 4650, 'scandal': 4651, 'discern': 4652, 'flock': 4653, 'instruct': 4654, 'repris': 4655, 'carey': 4656, 'triangl': 4657, '1945': 4658, 'persuad': 4659, 'fishburn': 4660, 'interestingli': 4661, 'barn': 4662, 'bitten': 4663, 'sensual': 4664, 'mobil': 4665, 'resum': 4666, 'claud': 4667, 'strive': 4668, 'departur': 4669, 'brush': 4670, 'danish': 4671, '28': 4672, 'mol': 4673, 'cb': 4674, 'cliffhang': 4675, 'cycl': 4676, 'earnest': 4677, 'biblic': 4678, 'colin': 4679, 'melissa': 4680, 'dylan': 4681, 'timberlak': 4682, 'prophet': 4683, 'hilar': 4684, 'miracul': 4685, 'senior': 4686, 'undermin': 4687, 'cher': 4688, 'fragil': 4689, 'hug': 4690, 'proclaim': 4691, 'harrison': 4692, 'pacif': 4693, 'rot': 4694, 'neill': 4695, 'dim': 4696, 'casino': 4697, 'vibrant': 4698, 'mobster': 4699, 'carlo': 4700, 'wendigo': 4701, 'ish': 4702, 'luka': 4703, 'frontier': 4704, 'traffic': 4705, 'kathryn': 4706, 'pickford': 4707, 'submit': 4708, 'artwork': 4709, 'helm': 4710, 'heartwarm': 4711, 'jade': 4712, 'clad': 4713, 'banter': 4714, 'pixar': 4715, 'hapless': 4716, 'europa': 4717, 'loretta': 4718, 'recit': 4719, 'dame': 4720, 'axe': 4721, 'bate': 4722, 'anton': 4723, 'parson': 4724, 'cerebr': 4725, 'blatantli': 4726, 'mathieu': 4727, 'seedi': 4728, 'wardrob': 4729, 'venom': 4730, 'http': 4731, 'redneck': 4732, 'legitim': 4733, 'rooki': 4734, 'mason': 4735, 'isra': 4736, 'uma': 4737, 'eli': 4738, 'jo': 4739, 'alexandr': 4740, 'bondag': 4741, 'shepherd': 4742, 'flavor': 4743, 'holocaust': 4744, 'foil': 4745, 'bikini': 4746, 'static': 4747, 'electron': 4748, 'pc': 4749, 'illus': 4750, 'milo': 4751, 'lui': 4752, 'orphan': 4753, 'jordan': 4754, 'feast': 4755, 'northern': 4756, 'estrang': 4757, 'marlon': 4758, 'choke': 4759, 'aris': 4760, 'vile': 4761, 'breakfast': 4762, 'antholog': 4763, 'token': 4764, 'toronto': 4765, 'nope': 4766, 'misfortun': 4767, 'akin': 4768, 'razor': 4769, 'trier': 4770, 'articl': 4771, 'vanessa': 4772, 'lucil': 4773, 'sicken': 4774, 'winchest': 4775, 'psych': 4776, 'ceremoni': 4777, 'feminin': 4778, 'gilbert': 4779, 'swept': 4780, 'smack': 4781, 'disregard': 4782, 'cartoonish': 4783, 'wrestler': 4784, 'knightley': 4785, 'styliz': 4786, 'huston': 4787, 'affleck': 4788, 'oppon': 4789, 'shorter': 4790, 'nightclub': 4791, 'retriev': 4792, 'highway': 4793, 'glare': 4794, 'gunga': 4795, 'clinic': 4796, 'abund': 4797, 'howl': 4798, 'magician': 4799, 'charlton': 4800, 'outdat': 4801, 'linear': 4802, 'ideolog': 4803, 'dudley': 4804, 'tack': 4805, 'fifth': 4806, 'deem': 4807, 'turd': 4808, 'audrey': 4809, 'frog': 4810, 'comprehend': 4811, 'peer': 4812, 'leather': 4813, 'boyer': 4814, 'summar': 4815, 'deliver': 4816, 'bogu': 4817, 'einstein': 4818, 'tara': 4819, 'lifeless': 4820, 'spawn': 4821, 'evolut': 4822, 'bastard': 4823, 'compris': 4824, 'phenomen': 4825, 'energet': 4826, 'lavish': 4827, 'boo': 4828, '4th': 4829, 'durat': 4830, 'corn': 4831, 'chip': 4832, 'senat': 4833, 'toe': 4834, 'sleaz': 4835, 'potter': 4836, 'plate': 4837, 'monument': 4838, 'breakdown': 4839, 'lighter': 4840, 'mitch': 4841, 'cemeteri': 4842, '1991': 4843, 'greet': 4844, 'newer': 4845, 'client': 4846, 'collector': 4847, 'spine': 4848, 'moe': 4849, 'btw': 4850, 'uniformli': 4851, 'snatch': 4852, 'whack': 4853, 'conrad': 4854, 'salman': 4855, 'goldsworthi': 4856, '1994': 4857, 'cuban': 4858, 'braveheart': 4859, 'belli': 4860, 'trauma': 4861, 'jule': 4862, 'undead': 4863, 'fluid': 4864, 'jam': 4865, 'bulk': 4866, 'appl': 4867, 'liu': 4868, 'spectacl': 4869, 'luxuri': 4870, 'clara': 4871, 'constitut': 4872, 'evelyn': 4873, 'jedi': 4874, 'replay': 4875, '1977': 4876, 'judd': 4877, 'randolph': 4878, 'wtf': 4879, '1974': 4880, 'embark': 4881, 'jare': 4882, 'sorrow': 4883, 'eleven': 4884, 'cecil': 4885, 'creek': 4886, 'mcqueen': 4887, 'healthi': 4888, 'occup': 4889, 'armstrong': 4890, 'historian': 4891, 'kent': 4892, 'signal': 4893, 'pronounc': 4894, 'firmli': 4895, 'kazan': 4896, 'nina': 4897, 'neatli': 4898, 'bori': 4899, 'inaccuraci': 4900, 'alleg': 4901, 'capot': 4902, 'outright': 4903, 'undertak': 4904, 'lex': 4905, 'ol': 4906, 'ie': 4907, 'gilliam': 4908, 'miami': 4909, 'basket': 4910, 'sidewalk': 4911, 'palm': 4912, 'meal': 4913, 'curtain': 4914, 'congratul': 4915, 'roar': 4916, 'pepper': 4917, 'spray': 4918, 'inclus': 4919, '1985': 4920, 'kiddi': 4921, 'goldblum': 4922, 'groan': 4923, 'relentless': 4924, 'inaccur': 4925, 'unsuspect': 4926, 'vignett': 4927, 'genet': 4928, 'comb': 4929, 'id': 4930, 'galaxi': 4931, 'carmen': 4932, 'forgiven': 4933, 'walt': 4934, 'comprehens': 4935, 'pioneer': 4936, 'decapit': 4937, 'unattract': 4938, 'fruit': 4939, 'porter': 4940, 'bait': 4941, 'vain': 4942, 'mum': 4943, 'lauren': 4944, 'subtli': 4945, 'paula': 4946, 'aussi': 4947, 'rosario': 4948, 'lanc': 4949, 'sacrif': 4950, 'antonio': 4951, 'blur': 4952, 'poker': 4953, 'ash': 4954, 'conan': 4955, 'cape': 4956, 'truman': 4957, 'miniseri': 4958, 'abound': 4959, 'knee': 4960, 'tokyo': 4961, 'propheci': 4962, 'bsg': 4963, 'asset': 4964, '21st': 4965, 'vastli': 4966, 'ingrid': 4967, 'modest': 4968, 'detach': 4969, 'weaker': 4970, 'weari': 4971, 'scariest': 4972, 'macabr': 4973, 'growth': 4974, 'hostil': 4975, 'assort': 4976, 'mice': 4977, 'frontal': 4978, 'monti': 4979, 'incorrect': 4980, 'omin': 4981, 'orchestr': 4982, 'victorian': 4983, 'masterson': 4984, 'reincarn': 4985, 'evan': 4986, 'sparkl': 4987, 'drone': 4988, 'bravo': 4989, 'sophi': 4990, 'turtl': 4991, 'motorcycl': 4992, 'playboy': 4993, 'handicap': 4994, 'ghetto': 4995, 'casper': 4996, 'spill': 4997, 'bach': 4998, 'substanti': 4999}\n"
     ]
    }
   ],
   "source": [
    "print(word_dict)"
   ]
  },
  {
   "cell_type": "markdown",
   "metadata": {},
   "source": [
    "**Question:** What are the five most frequently appearing (tokenized) words in the training set? Does it makes sense that these words appear frequently in the training set?"
   ]
  },
  {
   "cell_type": "markdown",
   "metadata": {},
   "source": [
    "**Answer:**\n",
    "\n",
    "The 5 most frequent appearing (tokenized) words in the training set are: <br>\n",
    "\n",
    "movi <br>\n",
    "film <br>\n",
    "one <br>\n",
    "like <br>\n",
    "time. <br>\n",
    "\n",
    "It does make sense that thse words appear frequently in the training set since those words would be frequently used by movie goers."
   ]
  },
  {
   "cell_type": "code",
   "execution_count": 17,
   "metadata": {},
   "outputs": [
    {
     "name": "stdout",
     "output_type": "stream",
     "text": [
      "['movi', 'film', 'one', 'like', 'time']\n"
     ]
    }
   ],
   "source": [
    "# TODO: Use this space to determine the five most frequently appearing words in the training set.\n",
    "print(list(word_dict.keys())[0:5])"
   ]
  },
  {
   "cell_type": "markdown",
   "metadata": {},
   "source": [
    "### Save `word_dict`\n",
    "\n",
    "Later on when we construct an endpoint which processes a submitted review we will need to make use of the `word_dict` which we have created. As such, we will save it to a file now for future use."
   ]
  },
  {
   "cell_type": "code",
   "execution_count": 18,
   "metadata": {},
   "outputs": [],
   "source": [
    "data_dir = '../data/pytorch' # The folder we will use for storing data\n",
    "if not os.path.exists(data_dir): # Make sure that the folder exists\n",
    "    os.makedirs(data_dir)"
   ]
  },
  {
   "cell_type": "code",
   "execution_count": 19,
   "metadata": {},
   "outputs": [],
   "source": [
    "with open(os.path.join(data_dir, 'word_dict.pkl'), \"wb\") as f:\n",
    "    pickle.dump(word_dict, f)"
   ]
  },
  {
   "cell_type": "markdown",
   "metadata": {},
   "source": [
    "### Transform the reviews\n",
    "\n",
    "Now that we have our word dictionary which allows us to transform the words appearing in the reviews into integers, it is time to make use of it and convert our reviews to their integer sequence representation, making sure to pad or truncate to a fixed length, which in our case is `500`."
   ]
  },
  {
   "cell_type": "code",
   "execution_count": 20,
   "metadata": {},
   "outputs": [],
   "source": [
    "def convert_and_pad(word_dict, sentence, pad=500):\n",
    "    NOWORD = 0 # We will use 0 to represent the 'no word' category\n",
    "    INFREQ = 1 # and we use 1 to represent the infrequent words, i.e., words not appearing in word_dict\n",
    "    \n",
    "    working_sentence = [NOWORD] * pad\n",
    "    \n",
    "    for word_index, word in enumerate(sentence[:pad]):\n",
    "        if word in word_dict:\n",
    "            working_sentence[word_index] = word_dict[word]\n",
    "        else:\n",
    "            working_sentence[word_index] = INFREQ\n",
    "            \n",
    "    return working_sentence, min(len(sentence), pad)\n",
    "\n",
    "def convert_and_pad_data(word_dict, data, pad=500):\n",
    "    result = []\n",
    "    lengths = []\n",
    "    \n",
    "    for sentence in data:\n",
    "        converted, leng = convert_and_pad(word_dict, sentence, pad)\n",
    "        result.append(converted)\n",
    "        lengths.append(leng)\n",
    "        \n",
    "    return np.array(result), np.array(lengths)"
   ]
  },
  {
   "cell_type": "code",
   "execution_count": 21,
   "metadata": {},
   "outputs": [],
   "source": [
    "train_X, train_X_len = convert_and_pad_data(word_dict, train_X)\n",
    "test_X, test_X_len = convert_and_pad_data(word_dict, test_X)"
   ]
  },
  {
   "cell_type": "markdown",
   "metadata": {},
   "source": [
    "As a quick check to make sure that things are working as intended, check to see what one of the reviews in the training set looks like after having been processeed. Does this look reasonable? What is the length of a review in the training set?"
   ]
  },
  {
   "cell_type": "code",
   "execution_count": 22,
   "metadata": {},
   "outputs": [
    {
     "name": "stdout",
     "output_type": "stream",
     "text": [
      "500\n"
     ]
    },
    {
     "data": {
      "text/plain": [
       "array([  12,  647, 1606,   28,    6,  620,  365,   11,    1,  136,   44,\n",
       "         24,    2,  391,  771,   41,  618, 1437,   53, 1637,  174,  147,\n",
       "        585,    4, 1777,  332,  341, 1088, 2481,  449,  154,  113, 1425,\n",
       "         25, 3441, 1586, 1884,  951,  104, 1559,  706,    1, 2097,   44,\n",
       "         72,   62,   12,    1,  283,  257, 1559, 1986, 1500, 3115, 1175,\n",
       "          1,  982, 1066,  801,  544,   25,    1, 1314,   15,  161,   12,\n",
       "        647, 1606,    1,    1,  559,   62,  301,    6,  369, 1088,    1,\n",
       "       2680,  635,  753, 2910,    1,  154,  449, 3282,   67, 2760, 2953,\n",
       "        623,  280, 1929,   66,  262,  178,  123,  152,  179,  433,   25,\n",
       "         64,  549,    3,   28,    6,  121,    1, 3847,  107,   12,  314,\n",
       "        772,  925, 1678, 1377,   64,   91,  284, 1776,  367,  203,   11,\n",
       "         66,  581,  820,  647, 1606,   14, 2953,    1,  285,  284, 4864,\n",
       "         96,  127,  395,   34,  599,  331,  144, 1282,   92,   63, 1550,\n",
       "        958,   63,   92,  659,   63,    1,  431, 4096,  228,  616,  781,\n",
       "       1438, 1152, 2866,    1, 2953,  123,    1,    9,  753, 2953,  390,\n",
       "        151,   38,    1,  121,  205,    8, 2662,  232, 1806,  169,   11,\n",
       "         23,  103, 1987, 1469,  455, 1064,  395,    1,    1, 2173,    1,\n",
       "        356, 3378,  773,   41,   15, 2057,  960,   16,  215,  403,  262,\n",
       "        178,  147,  315,  984,  192,   41,  406, 1851, 1833,   42,  199,\n",
       "          1,    1, 2157,  929,  402,  597,    1,    1, 3783,   38,   17,\n",
       "        647, 1606,    9,  157,    1,    1,    1,  775,   70,  449,  154,\n",
       "        185,    1,  623,    1,  139,  313, 3315,  775,  777,  461,   41,\n",
       "       4964,  540,  120, 4675,  550,  124,  110,  104, 1394,  929,    1,\n",
       "        116,  706,    5,    1, 1235,    1,    1, 1865,  808,  605,  982,\n",
       "       1026, 1715,    1, 1842, 2580,  275, 2953,    1,  808,   96,  275,\n",
       "        691,    1,    1, 4358,  777,  679,   47, 3133,  244,  152, 2534,\n",
       "       2462,  192, 2200, 1220,  113,  170,   72,  318,  704, 1607,  104,\n",
       "        460,  753,  226,  265,    7,   26,   15,   38,  129, 1458, 1304,\n",
       "       4965,  937, 3784, 2506,    1,    0,    0,    0,    0,    0,    0,\n",
       "          0,    0,    0,    0,    0,    0,    0,    0,    0,    0,    0,\n",
       "          0,    0,    0,    0,    0,    0,    0,    0,    0,    0,    0,\n",
       "          0,    0,    0,    0,    0,    0,    0,    0,    0,    0,    0,\n",
       "          0,    0,    0,    0,    0,    0,    0,    0,    0,    0,    0,\n",
       "          0,    0,    0,    0,    0,    0,    0,    0,    0,    0,    0,\n",
       "          0,    0,    0,    0,    0,    0,    0,    0,    0,    0,    0,\n",
       "          0,    0,    0,    0,    0,    0,    0,    0,    0,    0,    0,\n",
       "          0,    0,    0,    0,    0,    0,    0,    0,    0,    0,    0,\n",
       "          0,    0,    0,    0,    0,    0,    0,    0,    0,    0,    0,\n",
       "          0,    0,    0,    0,    0,    0,    0,    0,    0,    0,    0,\n",
       "          0,    0,    0,    0,    0,    0,    0,    0,    0,    0,    0,\n",
       "          0,    0,    0,    0,    0,    0,    0,    0,    0,    0,    0,\n",
       "          0,    0,    0,    0,    0,    0,    0,    0,    0,    0,    0,\n",
       "          0,    0,    0,    0,    0,    0,    0,    0,    0,    0,    0,\n",
       "          0,    0,    0,    0,    0,    0,    0,    0,    0,    0,    0,\n",
       "          0,    0,    0,    0,    0,    0,    0,    0,    0,    0,    0,\n",
       "          0,    0,    0,    0,    0])"
      ]
     },
     "execution_count": 22,
     "metadata": {},
     "output_type": "execute_result"
    }
   ],
   "source": [
    "# Use this cell to examine one of the processed reviews to make sure everything is working as intended.\n",
    "print(len(train_X[20]))\n",
    "train_X[20]"
   ]
  },
  {
   "cell_type": "markdown",
   "metadata": {},
   "source": [
    "**Question:** In the cells above we use the `preprocess_data` and `convert_and_pad_data` methods to process both the training and testing set. Why or why not might this be a problem?"
   ]
  },
  {
   "cell_type": "markdown",
   "metadata": {},
   "source": [
    "**Answer:**\n",
    "\n",
    "In ML, before feeding the training data to an algorithm, we have to do some pre-processing of that data.\n",
    "\n",
    "During the pre-processing step, the data is cleaned, some features might be removed, added, or transformed to help improve the model.\n",
    "\n"
   ]
  },
  {
   "cell_type": "markdown",
   "metadata": {},
   "source": [
    "## Step 3: Upload the data to S3\n",
    "\n",
    "As in the XGBoost notebook, we will need to upload the training dataset to S3 in order for our training code to access it. For now we will save it locally and we will upload to S3 later on.\n",
    "\n",
    "### Save the processed training dataset locally\n",
    "\n",
    "It is important to note the format of the data that we are saving as we will need to know it when we write the training code. In our case, each row of the dataset has the form `label`, `length`, `review[500]` where `review[500]` is a sequence of `500` integers representing the words in the review."
   ]
  },
  {
   "cell_type": "code",
   "execution_count": 23,
   "metadata": {},
   "outputs": [],
   "source": [
    "import pandas as pd\n",
    "    \n",
    "pd.concat([pd.DataFrame(train_y), pd.DataFrame(train_X_len), pd.DataFrame(train_X)], axis=1) \\\n",
    "        .to_csv(os.path.join(data_dir, 'train.csv'), header=False, index=False)"
   ]
  },
  {
   "cell_type": "markdown",
   "metadata": {},
   "source": [
    "### Uploading the training data\n",
    "\n",
    "\n",
    "Next, we need to upload the training data to the SageMaker default S3 bucket so that we can provide access to it while training our model."
   ]
  },
  {
   "cell_type": "code",
   "execution_count": 24,
   "metadata": {},
   "outputs": [],
   "source": [
    "import sagemaker\n",
    "\n",
    "sagemaker_session = sagemaker.Session()\n",
    "\n",
    "bucket = sagemaker_session.default_bucket()\n",
    "prefix = 'sagemaker/sentiment_rnn'\n",
    "\n",
    "role = sagemaker.get_execution_role()"
   ]
  },
  {
   "cell_type": "code",
   "execution_count": 25,
   "metadata": {},
   "outputs": [],
   "source": [
    "input_data = sagemaker_session.upload_data(path=data_dir, bucket=bucket, key_prefix=prefix)"
   ]
  },
  {
   "cell_type": "markdown",
   "metadata": {},
   "source": [
    "**NOTE:** The cell above uploads the entire contents of our data directory. This includes the `word_dict.pkl` file. This is fortunate as we will need this later on when we create an endpoint that accepts an arbitrary review. For now, we will just take note of the fact that it resides in the data directory (and so also in the S3 training bucket) and that we will need to make sure it gets saved in the model directory."
   ]
  },
  {
   "cell_type": "markdown",
   "metadata": {},
   "source": [
    "## Step 4: Build and Train the PyTorch Model\n",
    "\n",
    "In the XGBoost notebook we discussed what a model is in the SageMaker framework. In particular, a model comprises three objects\n",
    "\n",
    " - Model Artifacts,\n",
    " - Training Code, and\n",
    " - Inference Code,\n",
    " \n",
    "each of which interact with one another. In the XGBoost example we used training and inference code that was provided by Amazon. Here we will still be using containers provided by Amazon with the added benefit of being able to include our own custom code.\n",
    "\n",
    "We will start by implementing our own neural network in PyTorch along with a training script. For the purposes of this project we have provided the necessary model object in the `model.py` file, inside of the `train` folder. You can see the provided implementation by running the cell below."
   ]
  },
  {
   "cell_type": "code",
   "execution_count": 26,
   "metadata": {},
   "outputs": [
    {
     "name": "stdout",
     "output_type": "stream",
     "text": [
      "\u001b[34mimport\u001b[39;49;00m \u001b[04m\u001b[36mtorch\u001b[39;49;00m\u001b[04m\u001b[36m.\u001b[39;49;00m\u001b[04m\u001b[36mnn\u001b[39;49;00m \u001b[34mas\u001b[39;49;00m \u001b[04m\u001b[36mnn\u001b[39;49;00m\r\n",
      "\r\n",
      "\u001b[34mclass\u001b[39;49;00m \u001b[04m\u001b[32mLSTMClassifier\u001b[39;49;00m(nn.Module):\r\n",
      "    \u001b[33m\"\"\"\u001b[39;49;00m\r\n",
      "\u001b[33m    This is the simple RNN model we will be using to perform Sentiment Analysis.\u001b[39;49;00m\r\n",
      "\u001b[33m    \"\"\"\u001b[39;49;00m\r\n",
      "\r\n",
      "    \u001b[34mdef\u001b[39;49;00m \u001b[32m__init__\u001b[39;49;00m(\u001b[36mself\u001b[39;49;00m, embedding_dim, hidden_dim, vocab_size):\r\n",
      "        \u001b[33m\"\"\"\u001b[39;49;00m\r\n",
      "\u001b[33m        Initialize the model by settingg up the various layers.\u001b[39;49;00m\r\n",
      "\u001b[33m        \"\"\"\u001b[39;49;00m\r\n",
      "        \u001b[36msuper\u001b[39;49;00m(LSTMClassifier, \u001b[36mself\u001b[39;49;00m).\u001b[32m__init__\u001b[39;49;00m()\r\n",
      "\r\n",
      "        \u001b[36mself\u001b[39;49;00m.embedding = nn.Embedding(vocab_size, embedding_dim, padding_idx=\u001b[34m0\u001b[39;49;00m)\r\n",
      "        \u001b[36mself\u001b[39;49;00m.lstm = nn.LSTM(embedding_dim, hidden_dim)\r\n",
      "        \u001b[36mself\u001b[39;49;00m.dense = nn.Linear(in_features=hidden_dim, out_features=\u001b[34m1\u001b[39;49;00m)\r\n",
      "        \u001b[36mself\u001b[39;49;00m.sig = nn.Sigmoid()\r\n",
      "        \r\n",
      "        \u001b[36mself\u001b[39;49;00m.word_dict = \u001b[34mNone\u001b[39;49;00m\r\n",
      "\r\n",
      "    \u001b[34mdef\u001b[39;49;00m \u001b[32mforward\u001b[39;49;00m(\u001b[36mself\u001b[39;49;00m, x):\r\n",
      "        \u001b[33m\"\"\"\u001b[39;49;00m\r\n",
      "\u001b[33m        Perform a forward pass of our model on some input.\u001b[39;49;00m\r\n",
      "\u001b[33m        \"\"\"\u001b[39;49;00m\r\n",
      "        x = x.t()\r\n",
      "        lengths = x[\u001b[34m0\u001b[39;49;00m,:]\r\n",
      "        reviews = x[\u001b[34m1\u001b[39;49;00m:,:]\r\n",
      "        embeds = \u001b[36mself\u001b[39;49;00m.embedding(reviews)\r\n",
      "        lstm_out, _ = \u001b[36mself\u001b[39;49;00m.lstm(embeds)\r\n",
      "        out = \u001b[36mself\u001b[39;49;00m.dense(lstm_out)\r\n",
      "        out = out[lengths - \u001b[34m1\u001b[39;49;00m, \u001b[36mrange\u001b[39;49;00m(\u001b[36mlen\u001b[39;49;00m(lengths))]\r\n",
      "        \u001b[34mreturn\u001b[39;49;00m \u001b[36mself\u001b[39;49;00m.sig(out.squeeze())\r\n"
     ]
    }
   ],
   "source": [
    "!pygmentize train/model.py"
   ]
  },
  {
   "cell_type": "markdown",
   "metadata": {},
   "source": [
    "The important takeaway from the implementation provided is that there are three parameters that we may wish to tweak to improve the performance of our model. These are the embedding dimension, the hidden dimension and the size of the vocabulary. We will likely want to make these parameters configurable in the training script so that if we wish to modify them we do not need to modify the script itself. We will see how to do this later on. To start we will write some of the training code in the notebook so that we can more easily diagnose any issues that arise.\n",
    "\n",
    "First we will load a small portion of the training data set to use as a sample. It would be very time consuming to try and train the model completely in the notebook as we do not have access to a gpu and the compute instance that we are using is not particularly powerful. However, we can work on a small bit of the data to get a feel for how our training script is behaving."
   ]
  },
  {
   "cell_type": "code",
   "execution_count": 30,
   "metadata": {},
   "outputs": [],
   "source": [
    "import torch\n",
    "import torch.utils.data\n",
    "\n",
    "# Read in only the first 250 rows\n",
    "train_sample = pd.read_csv(os.path.join(data_dir, 'train.csv'), header=None, names=None, nrows=250)\n",
    "\n",
    "# Turn the input pandas dataframe into tensors\n",
    "train_sample_y = torch.from_numpy(train_sample[[0]].values).float().squeeze()\n",
    "train_sample_X = torch.from_numpy(train_sample.drop([0], axis=1).values).long()\n",
    "\n",
    "# Build the dataset\n",
    "train_sample_ds = torch.utils.data.TensorDataset(train_sample_X, train_sample_y)\n",
    "# Build the dataloader\n",
    "train_sample_dl = torch.utils.data.DataLoader(train_sample_ds, batch_size=50)"
   ]
  },
  {
   "cell_type": "markdown",
   "metadata": {},
   "source": [
    "### (TODO) Writing the training method\n",
    "\n",
    "Next we need to write the training code itself. This should be very similar to training methods that you have written before to train PyTorch models. We will leave any difficult aspects such as model saving / loading and parameter loading until a little later."
   ]
  },
  {
   "cell_type": "code",
   "execution_count": 31,
   "metadata": {},
   "outputs": [],
   "source": [
    "def train(model, train_loader, epochs, optimizer, loss_fn, device):\n",
    "    for epoch in range(1, epochs + 1):\n",
    "        model.train()\n",
    "        total_loss = 0\n",
    "        for batch in train_loader:         \n",
    "            batch_X, batch_y = batch\n",
    "            \n",
    "            batch_X = batch_X.to(device)\n",
    "            batch_y = batch_y.to(device)\n",
    "            \n",
    "            # TODO: Complete this train method to train the model provided.\n",
    "            \n",
    "            optimizer.zero_grad()\n",
    "            output = model.forward(batch_X)\n",
    "            loss = loss_fn(output, batch_y)\n",
    "            loss.backward()\n",
    "            optimizer.step()\n",
    "            \n",
    "            total_loss += loss.data.item()\n",
    "        print(\"Epoch: {}, BCELoss: {}\".format(epoch, total_loss / len(train_loader)))"
   ]
  },
  {
   "cell_type": "markdown",
   "metadata": {},
   "source": [
    "Supposing we have the training method above, we will test that it is working by writing a bit of code in the notebook that executes our training method on the small sample training set that we loaded earlier. The reason for doing this in the notebook is so that we have an opportunity to fix any errors that arise early when they are easier to diagnose."
   ]
  },
  {
   "cell_type": "code",
   "execution_count": 32,
   "metadata": {},
   "outputs": [
    {
     "name": "stdout",
     "output_type": "stream",
     "text": [
      "Epoch: 1, BCELoss: 0.6906216025352478\n",
      "Epoch: 2, BCELoss: 0.6800333023071289\n",
      "Epoch: 3, BCELoss: 0.6708080172538757\n",
      "Epoch: 4, BCELoss: 0.6604722619056702\n",
      "Epoch: 5, BCELoss: 0.6477648496627808\n"
     ]
    }
   ],
   "source": [
    "import torch.optim as optim\n",
    "from train.model import LSTMClassifier\n",
    "\n",
    "device = torch.device(\"cuda\" if torch.cuda.is_available() else \"cpu\")\n",
    "model = LSTMClassifier(32, 100, 5000).to(device)\n",
    "optimizer = optim.Adam(model.parameters())\n",
    "loss_fn = torch.nn.BCELoss()\n",
    "\n",
    "train(model, train_sample_dl, 5, optimizer, loss_fn, device)"
   ]
  },
  {
   "cell_type": "markdown",
   "metadata": {},
   "source": [
    "In order to construct a PyTorch model using SageMaker we must provide SageMaker with a training script. We may optionally include a directory which will be copied to the container and from which our training code will be run. When the training container is executed it will check the uploaded directory (if there is one) for a `requirements.txt` file and install any required Python libraries, after which the training script will be run."
   ]
  },
  {
   "cell_type": "markdown",
   "metadata": {},
   "source": [
    "### (TODO) Training the model\n",
    "\n",
    "When a PyTorch model is constructed in SageMaker, an entry point must be specified. This is the Python file which will be executed when the model is trained. Inside of the `train` directory is a file called `train.py` which has been provided and which contains most of the necessary code to train our model. The only thing that is missing is the implementation of the `train()` method which you wrote earlier in this notebook.\n",
    "\n",
    "**TODO**: Copy the `train()` method written above and paste it into the `train/train.py` file where required.\n",
    "\n",
    "The way that SageMaker passes hyperparameters to the training script is by way of arguments. These arguments can then be parsed and used in the training script. To see how this is done take a look at the provided `train/train.py` file."
   ]
  },
  {
   "cell_type": "code",
   "execution_count": 33,
   "metadata": {},
   "outputs": [],
   "source": [
    "from sagemaker.pytorch import PyTorch\n",
    "\n",
    "estimator = PyTorch(entry_point=\"train.py\",\n",
    "                    source_dir=\"train\",\n",
    "                    role=role,\n",
    "                    framework_version='0.4.0',\n",
    "                    train_instance_count=1,\n",
    "                    train_instance_type='ml.p2.xlarge',\n",
    "                    hyperparameters={\n",
    "                        'epochs': 10,\n",
    "                        'hidden_dim': 200,\n",
    "                    })"
   ]
  },
  {
   "cell_type": "code",
   "execution_count": 34,
   "metadata": {
    "scrolled": false
   },
   "outputs": [
    {
     "name": "stderr",
     "output_type": "stream",
     "text": [
      "'create_image_uri' will be deprecated in favor of 'ImageURIProvider' class in SageMaker Python SDK v2.\n",
      "'s3_input' class will be renamed to 'TrainingInput' in SageMaker Python SDK v2.\n",
      "'create_image_uri' will be deprecated in favor of 'ImageURIProvider' class in SageMaker Python SDK v2.\n"
     ]
    },
    {
     "name": "stdout",
     "output_type": "stream",
     "text": [
      "2021-12-22 19:51:37 Starting - Starting the training job...\n",
      "2021-12-22 19:51:40 Starting - Launching requested ML instances......\n",
      "2021-12-22 19:52:41 Starting - Preparing the instances for training.........\n",
      "2021-12-22 19:54:22 Downloading - Downloading input data...\n",
      "2021-12-22 19:55:08 Training - Downloading the training image...\n",
      "2021-12-22 19:55:32 Training - Training image download completed. Training in progress..\u001b[34mbash: cannot set terminal process group (-1): Inappropriate ioctl for device\u001b[0m\n",
      "\u001b[34mbash: no job control in this shell\u001b[0m\n",
      "\u001b[34m2021-12-22 19:55:33,433 sagemaker-containers INFO     Imported framework sagemaker_pytorch_container.training\u001b[0m\n",
      "\u001b[34m2021-12-22 19:55:33,458 sagemaker_pytorch_container.training INFO     Block until all host DNS lookups succeed.\u001b[0m\n",
      "\u001b[34m2021-12-22 19:55:33,464 sagemaker_pytorch_container.training INFO     Invoking user training script.\u001b[0m\n",
      "\u001b[34m2021-12-22 19:55:33,800 sagemaker-containers INFO     Module train does not provide a setup.py. \u001b[0m\n",
      "\u001b[34mGenerating setup.py\u001b[0m\n",
      "\u001b[34m2021-12-22 19:55:33,800 sagemaker-containers INFO     Generating setup.cfg\u001b[0m\n",
      "\u001b[34m2021-12-22 19:55:33,801 sagemaker-containers INFO     Generating MANIFEST.in\u001b[0m\n",
      "\u001b[34m2021-12-22 19:55:33,801 sagemaker-containers INFO     Installing module with the following command:\u001b[0m\n",
      "\u001b[34m/usr/bin/python -m pip install -U . -r requirements.txt\u001b[0m\n",
      "\u001b[34mProcessing /opt/ml/code\u001b[0m\n",
      "\u001b[34mCollecting pandas (from -r requirements.txt (line 1))\n",
      "  Downloading https://files.pythonhosted.org/packages/74/24/0cdbf8907e1e3bc5a8da03345c23cbed7044330bb8f73bb12e711a640a00/pandas-0.24.2-cp35-cp35m-manylinux1_x86_64.whl (10.0MB)\u001b[0m\n",
      "\u001b[34mCollecting numpy (from -r requirements.txt (line 2))\u001b[0m\n",
      "\u001b[34m  Downloading https://files.pythonhosted.org/packages/b5/36/88723426b4ff576809fec7d73594fe17a35c27f8d01f93637637a29ae25b/numpy-1.18.5-cp35-cp35m-manylinux1_x86_64.whl (19.9MB)\u001b[0m\n",
      "\u001b[34mCollecting nltk (from -r requirements.txt (line 3))\n",
      "  Downloading https://files.pythonhosted.org/packages/5e/37/9532ddd4b1bbb619333d5708aaad9bf1742f051a664c3c6fa6632a105fd8/nltk-3.6.2-py3-none-any.whl (1.5MB)\u001b[0m\n",
      "\u001b[34mCollecting beautifulsoup4 (from -r requirements.txt (line 4))\n",
      "  Downloading https://files.pythonhosted.org/packages/69/bf/f0f194d3379d3f3347478bd267f754fc68c11cbf2fe302a6ab69447b1417/beautifulsoup4-4.10.0-py3-none-any.whl (97kB)\u001b[0m\n",
      "\u001b[34mCollecting html5lib (from -r requirements.txt (line 5))\n",
      "  Downloading https://files.pythonhosted.org/packages/6c/dd/a834df6482147d48e225a49515aabc28974ad5a4ca3215c18a882565b028/html5lib-1.1-py2.py3-none-any.whl (112kB)\u001b[0m\n",
      "\u001b[34mRequirement already satisfied, skipping upgrade: python-dateutil>=2.5.0 in /usr/local/lib/python3.5/dist-packages (from pandas->-r requirements.txt (line 1)) (2.7.5)\u001b[0m\n",
      "\u001b[34mCollecting pytz>=2011k (from pandas->-r requirements.txt (line 1))\n",
      "  Downloading https://files.pythonhosted.org/packages/d3/e3/d9f046b5d1c94a3aeab15f1f867aa414f8ee9d196fae6865f1d6a0ee1a0b/pytz-2021.3-py2.py3-none-any.whl (503kB)\u001b[0m\n",
      "\u001b[34mCollecting tqdm (from nltk->-r requirements.txt (line 3))\n",
      "  Downloading https://files.pythonhosted.org/packages/63/f3/b7a1b8e40fd1bd049a34566eb353527bb9b8e9b98f8b6cf803bb64d8ce95/tqdm-4.62.3-py2.py3-none-any.whl (76kB)\u001b[0m\n",
      "\u001b[34mCollecting joblib (from nltk->-r requirements.txt (line 3))\n",
      "  Downloading https://files.pythonhosted.org/packages/28/5c/cf6a2b65a321c4a209efcdf64c2689efae2cb62661f8f6f4bb28547cf1bf/joblib-0.14.1-py2.py3-none-any.whl (294kB)\u001b[0m\n",
      "\u001b[34mCollecting regex (from nltk->-r requirements.txt (line 3))\u001b[0m\n",
      "\u001b[34m  Downloading https://files.pythonhosted.org/packages/97/cd/93ad08b2f97ec95da0bd860380ce0ac7481eaccc760356ee11eda369c048/regex-2021.11.10.tar.gz (702kB)\u001b[0m\n",
      "\u001b[34mRequirement already satisfied, skipping upgrade: click in /usr/local/lib/python3.5/dist-packages (from nltk->-r requirements.txt (line 3)) (7.0)\u001b[0m\n",
      "\u001b[34mCollecting soupsieve>1.2 (from beautifulsoup4->-r requirements.txt (line 4))\n",
      "  Downloading https://files.pythonhosted.org/packages/02/fb/1c65691a9aeb7bd6ac2aa505b84cb8b49ac29c976411c6ab3659425e045f/soupsieve-2.1-py3-none-any.whl\u001b[0m\n",
      "\u001b[34mRequirement already satisfied, skipping upgrade: six>=1.9 in /usr/local/lib/python3.5/dist-packages (from html5lib->-r requirements.txt (line 5)) (1.11.0)\u001b[0m\n",
      "\u001b[34mCollecting webencodings (from html5lib->-r requirements.txt (line 5))\n",
      "  Downloading https://files.pythonhosted.org/packages/f4/24/2a3e3df732393fed8b3ebf2ec078f05546de641fe1b667ee316ec1dcf3b7/webencodings-0.5.1-py2.py3-none-any.whl\u001b[0m\n",
      "\u001b[34mBuilding wheels for collected packages: train, regex\n",
      "  Running setup.py bdist_wheel for train: started\n",
      "  Running setup.py bdist_wheel for train: finished with status 'done'\n",
      "  Stored in directory: /tmp/pip-ephem-wheel-cache-tl8h4uk7/wheels/35/24/16/37574d11bf9bde50616c67372a334f94fa8356bc7164af8ca3\n",
      "  Running setup.py bdist_wheel for regex: started\u001b[0m\n",
      "\u001b[34m  Running setup.py bdist_wheel for regex: finished with status 'done'\n",
      "  Stored in directory: /root/.cache/pip/wheels/cd/5d/f5/8d8fa6ffd0251556598eb71da0c5c0374bca976273ade005ed\u001b[0m\n",
      "\u001b[34mSuccessfully built train regex\u001b[0m\n",
      "\u001b[34mInstalling collected packages: numpy, pytz, pandas, tqdm, joblib, regex, nltk, soupsieve, beautifulsoup4, webencodings, html5lib, train\n",
      "  Found existing installation: numpy 1.15.4\n",
      "    Uninstalling numpy-1.15.4:\u001b[0m\n",
      "\u001b[34m      Successfully uninstalled numpy-1.15.4\u001b[0m\n",
      "\u001b[34mSuccessfully installed beautifulsoup4-4.10.0 html5lib-1.1 joblib-0.14.1 nltk-3.6.2 numpy-1.18.5 pandas-0.24.2 pytz-2021.3 regex-2021.11.10 soupsieve-2.1 tqdm-4.62.3 train-1.0.0 webencodings-0.5.1\u001b[0m\n",
      "\u001b[34mYou are using pip version 18.1, however version 20.3.4 is available.\u001b[0m\n",
      "\u001b[34mYou should consider upgrading via the 'pip install --upgrade pip' command.\u001b[0m\n",
      "\u001b[34m2021-12-22 19:55:56,721 sagemaker-containers INFO     Invoking user script\u001b[0m\n",
      "\u001b[34mTraining Env:\u001b[0m\n",
      "\u001b[34m{\n",
      "    \"log_level\": 20,\n",
      "    \"hosts\": [\n",
      "        \"algo-1\"\n",
      "    ],\n",
      "    \"current_host\": \"algo-1\",\n",
      "    \"module_dir\": \"s3://sagemaker-us-east-1-648690110826/sagemaker-pytorch-2021-12-22-19-51-36-764/source/sourcedir.tar.gz\",\n",
      "    \"resource_config\": {\n",
      "        \"network_interface_name\": \"eth0\",\n",
      "        \"current_host\": \"algo-1\",\n",
      "        \"hosts\": [\n",
      "            \"algo-1\"\n",
      "        ]\n",
      "    },\n",
      "    \"num_cpus\": 4,\n",
      "    \"num_gpus\": 1,\n",
      "    \"job_name\": \"sagemaker-pytorch-2021-12-22-19-51-36-764\",\n",
      "    \"module_name\": \"train\",\n",
      "    \"input_dir\": \"/opt/ml/input\",\n",
      "    \"network_interface_name\": \"eth0\",\n",
      "    \"user_entry_point\": \"train.py\",\n",
      "    \"additional_framework_parameters\": {},\n",
      "    \"input_data_config\": {\n",
      "        \"training\": {\n",
      "            \"S3DistributionType\": \"FullyReplicated\",\n",
      "            \"TrainingInputMode\": \"File\",\n",
      "            \"RecordWrapperType\": \"None\"\n",
      "        }\n",
      "    },\n",
      "    \"framework_module\": \"sagemaker_pytorch_container.training:main\",\n",
      "    \"model_dir\": \"/opt/ml/model\",\n",
      "    \"channel_input_dirs\": {\n",
      "        \"training\": \"/opt/ml/input/data/training\"\n",
      "    },\n",
      "    \"input_config_dir\": \"/opt/ml/input/config\",\n",
      "    \"output_intermediate_dir\": \"/opt/ml/output/intermediate\",\n",
      "    \"hyperparameters\": {\n",
      "        \"hidden_dim\": 200,\n",
      "        \"epochs\": 10\n",
      "    },\n",
      "    \"output_dir\": \"/opt/ml/output\",\n",
      "    \"output_data_dir\": \"/opt/ml/output/data\"\u001b[0m\n",
      "\u001b[34m}\u001b[0m\n",
      "\u001b[34mEnvironment variables:\u001b[0m\n",
      "\u001b[34mSM_NETWORK_INTERFACE_NAME=eth0\u001b[0m\n",
      "\u001b[34mSM_USER_ENTRY_POINT=train.py\u001b[0m\n",
      "\u001b[34mSM_RESOURCE_CONFIG={\"current_host\":\"algo-1\",\"hosts\":[\"algo-1\"],\"network_interface_name\":\"eth0\"}\u001b[0m\n",
      "\u001b[34mSM_CURRENT_HOST=algo-1\u001b[0m\n",
      "\u001b[34mSM_CHANNEL_TRAINING=/opt/ml/input/data/training\u001b[0m\n",
      "\u001b[34mSM_FRAMEWORK_MODULE=sagemaker_pytorch_container.training:main\u001b[0m\n",
      "\u001b[34mSM_INPUT_DATA_CONFIG={\"training\":{\"RecordWrapperType\":\"None\",\"S3DistributionType\":\"FullyReplicated\",\"TrainingInputMode\":\"File\"}}\u001b[0m\n",
      "\u001b[34mSM_INPUT_CONFIG_DIR=/opt/ml/input/config\u001b[0m\n",
      "\u001b[34mSM_CHANNELS=[\"training\"]\u001b[0m\n",
      "\u001b[34mSM_INPUT_DIR=/opt/ml/input\u001b[0m\n",
      "\u001b[34mSM_HP_EPOCHS=10\u001b[0m\n",
      "\u001b[34mSM_HP_HIDDEN_DIM=200\u001b[0m\n",
      "\u001b[34mSM_LOG_LEVEL=20\u001b[0m\n",
      "\u001b[34mSM_MODULE_DIR=s3://sagemaker-us-east-1-648690110826/sagemaker-pytorch-2021-12-22-19-51-36-764/source/sourcedir.tar.gz\u001b[0m\n",
      "\u001b[34mPYTHONPATH=/usr/local/bin:/usr/lib/python35.zip:/usr/lib/python3.5:/usr/lib/python3.5/plat-x86_64-linux-gnu:/usr/lib/python3.5/lib-dynload:/usr/local/lib/python3.5/dist-packages:/usr/lib/python3/dist-packages\u001b[0m\n",
      "\u001b[34mSM_HOSTS=[\"algo-1\"]\u001b[0m\n",
      "\u001b[34mSM_MODEL_DIR=/opt/ml/model\u001b[0m\n",
      "\u001b[34mSM_HPS={\"epochs\":10,\"hidden_dim\":200}\u001b[0m\n",
      "\u001b[34mSM_OUTPUT_DATA_DIR=/opt/ml/output/data\u001b[0m\n",
      "\u001b[34mSM_NUM_CPUS=4\u001b[0m\n",
      "\u001b[34mSM_FRAMEWORK_PARAMS={}\u001b[0m\n",
      "\u001b[34mSM_OUTPUT_INTERMEDIATE_DIR=/opt/ml/output/intermediate\u001b[0m\n",
      "\u001b[34mSM_MODULE_NAME=train\u001b[0m\n",
      "\u001b[34mSM_TRAINING_ENV={\"additional_framework_parameters\":{},\"channel_input_dirs\":{\"training\":\"/opt/ml/input/data/training\"},\"current_host\":\"algo-1\",\"framework_module\":\"sagemaker_pytorch_container.training:main\",\"hosts\":[\"algo-1\"],\"hyperparameters\":{\"epochs\":10,\"hidden_dim\":200},\"input_config_dir\":\"/opt/ml/input/config\",\"input_data_config\":{\"training\":{\"RecordWrapperType\":\"None\",\"S3DistributionType\":\"FullyReplicated\",\"TrainingInputMode\":\"File\"}},\"input_dir\":\"/opt/ml/input\",\"job_name\":\"sagemaker-pytorch-2021-12-22-19-51-36-764\",\"log_level\":20,\"model_dir\":\"/opt/ml/model\",\"module_dir\":\"s3://sagemaker-us-east-1-648690110826/sagemaker-pytorch-2021-12-22-19-51-36-764/source/sourcedir.tar.gz\",\"module_name\":\"train\",\"network_interface_name\":\"eth0\",\"num_cpus\":4,\"num_gpus\":1,\"output_data_dir\":\"/opt/ml/output/data\",\"output_dir\":\"/opt/ml/output\",\"output_intermediate_dir\":\"/opt/ml/output/intermediate\",\"resource_config\":{\"current_host\":\"algo-1\",\"hosts\":[\"algo-1\"],\"network_interface_name\":\"eth0\"},\"user_entry_point\":\"train.py\"}\u001b[0m\n",
      "\u001b[34mSM_OUTPUT_DIR=/opt/ml/output\u001b[0m\n",
      "\u001b[34mSM_USER_ARGS=[\"--epochs\",\"10\",\"--hidden_dim\",\"200\"]\u001b[0m\n",
      "\u001b[34mSM_NUM_GPUS=1\u001b[0m\n",
      "\u001b[34mInvoking script with the following command:\u001b[0m\n",
      "\u001b[34m/usr/bin/python -m train --epochs 10 --hidden_dim 200\u001b[0m\n",
      "\u001b[34mUsing device cuda.\u001b[0m\n",
      "\u001b[34mGet train data loader.\u001b[0m\n"
     ]
    },
    {
     "name": "stdout",
     "output_type": "stream",
     "text": [
      "\u001b[34mModel loaded with embedding_dim 32, hidden_dim 200, vocab_size 5000.\u001b[0m\n",
      "\u001b[34mEpoch: 1, BCELoss: 0.6699258162050831\u001b[0m\n",
      "\u001b[34mEpoch: 2, BCELoss: 0.6096022189879904\u001b[0m\n",
      "\u001b[34mEpoch: 3, BCELoss: 0.5575402889932904\u001b[0m\n",
      "\u001b[34mEpoch: 4, BCELoss: 0.448121145063517\u001b[0m\n",
      "\u001b[34mEpoch: 5, BCELoss: 0.4050217240440602\u001b[0m\n",
      "\u001b[34mEpoch: 6, BCELoss: 0.36090550678116934\u001b[0m\n",
      "\u001b[34mEpoch: 7, BCELoss: 0.3293901548093679\u001b[0m\n",
      "\u001b[34mEpoch: 8, BCELoss: 0.30889797453977624\u001b[0m\n",
      "\u001b[34mEpoch: 9, BCELoss: 0.29384980700453933\u001b[0m\n",
      "\u001b[34mEpoch: 10, BCELoss: 0.2712630164258334\u001b[0m\n",
      "\u001b[34m2021-12-22 19:59:02,223 sagemaker-containers INFO     Reporting training SUCCESS\u001b[0m\n",
      "\n",
      "2021-12-22 19:59:12 Uploading - Uploading generated training model\n",
      "2021-12-22 19:59:12 Completed - Training job completed\n",
      "Training seconds: 290\n",
      "Billable seconds: 290\n"
     ]
    }
   ],
   "source": [
    "estimator.fit({'training': input_data})"
   ]
  },
  {
   "cell_type": "markdown",
   "metadata": {},
   "source": [
    "## Step 5: Testing the model\n",
    "\n",
    "As mentioned at the top of this notebook, we will be testing this model by first deploying it and then sending the testing data to the deployed endpoint. We will do this so that we can make sure that the deployed model is working correctly.\n",
    "\n",
    "## Step 6: Deploy the model for testing\n",
    "\n",
    "Now that we have trained our model, we would like to test it to see how it performs. Currently our model takes input of the form `review_length, review[500]` where `review[500]` is a sequence of `500` integers which describe the words present in the review, encoded using `word_dict`. Fortunately for us, SageMaker provides built-in inference code for models with simple inputs such as this.\n",
    "\n",
    "There is one thing that we need to provide, however, and that is a function which loads the saved model. This function must be called `model_fn()` and takes as its only parameter a path to the directory where the model artifacts are stored. This function must also be present in the python file which we specified as the entry point. In our case the model loading function has been provided and so no changes need to be made.\n",
    "\n",
    "**NOTE**: When the built-in inference code is run it must import the `model_fn()` method from the `train.py` file. This is why the training code is wrapped in a main guard ( ie, `if __name__ == '__main__':` )\n",
    "\n",
    "Since we don't need to change anything in the code that was uploaded during training, we can simply deploy the current model as-is.\n",
    "\n",
    "**NOTE:** When deploying a model you are asking SageMaker to launch an compute instance that will wait for data to be sent to it. As a result, this compute instance will continue to run until *you* shut it down. This is important to know since the cost of a deployed endpoint depends on how long it has been running for.\n",
    "\n",
    "In other words **If you are no longer using a deployed endpoint, shut it down!**\n",
    "\n",
    "**TODO:** Deploy the trained model."
   ]
  },
  {
   "cell_type": "code",
   "execution_count": 35,
   "metadata": {},
   "outputs": [
    {
     "name": "stderr",
     "output_type": "stream",
     "text": [
      "Parameter image will be renamed to image_uri in SageMaker Python SDK v2.\n",
      "'create_image_uri' will be deprecated in favor of 'ImageURIProvider' class in SageMaker Python SDK v2.\n"
     ]
    },
    {
     "name": "stdout",
     "output_type": "stream",
     "text": [
      "------------!"
     ]
    }
   ],
   "source": [
    "# TODO: Deploy the trained model\n",
    "\n",
    "predictor = estimator.deploy(initial_instance_count=1, instance_type='ml.m4.xlarge')"
   ]
  },
  {
   "cell_type": "markdown",
   "metadata": {},
   "source": [
    "## Step 7 - Use the model for testing\n",
    "\n",
    "Once deployed, we can read in the test data and send it off to our deployed model to get some results. Once we collect all of the results we can determine how accurate our model is."
   ]
  },
  {
   "cell_type": "code",
   "execution_count": 36,
   "metadata": {},
   "outputs": [],
   "source": [
    "test_X = pd.concat([pd.DataFrame(test_X_len), pd.DataFrame(test_X)], axis=1)"
   ]
  },
  {
   "cell_type": "code",
   "execution_count": 37,
   "metadata": {},
   "outputs": [],
   "source": [
    "# We split the data into chunks and send each chunk seperately, accumulating the results.\n",
    "\n",
    "def predict(data, rows=512):\n",
    "    split_array = np.array_split(data, int(data.shape[0] / float(rows) + 1))\n",
    "    predictions = np.array([])\n",
    "    for array in split_array:\n",
    "        predictions = np.append(predictions, predictor.predict(array))\n",
    "    \n",
    "    return predictions"
   ]
  },
  {
   "cell_type": "code",
   "execution_count": 38,
   "metadata": {},
   "outputs": [],
   "source": [
    "predictions = predict(test_X.values)\n",
    "predictions = [round(num) for num in predictions]"
   ]
  },
  {
   "cell_type": "code",
   "execution_count": 39,
   "metadata": {},
   "outputs": [
    {
     "data": {
      "text/plain": [
       "0.85864"
      ]
     },
     "execution_count": 39,
     "metadata": {},
     "output_type": "execute_result"
    }
   ],
   "source": [
    "from sklearn.metrics import accuracy_score\n",
    "accuracy_score(test_y, predictions)"
   ]
  },
  {
   "cell_type": "markdown",
   "metadata": {},
   "source": [
    "**Question:** How does this model compare to the XGBoost model you created earlier? Why might these two models perform differently on this dataset? Which do *you* think is better for sentiment analysis?"
   ]
  },
  {
   "cell_type": "markdown",
   "metadata": {},
   "source": [
    "**Answer:**\n",
    "This LSTM model's performance is similar to the XGBoost model's. \n",
    "Usually, for Sentiment Analysis on big datasets, a deep LSTM or RNN-LSTM will be the choice with longer training period."
   ]
  },
  {
   "cell_type": "markdown",
   "metadata": {},
   "source": [
    "### (TODO) More testing\n",
    "\n",
    "We now have a trained model which has been deployed and which we can send processed reviews to and which returns the predicted sentiment. However, ultimately we would like to be able to send our model an unprocessed review. That is, we would like to send the review itself as a string. For example, suppose we wish to send the following review to our model."
   ]
  },
  {
   "cell_type": "code",
   "execution_count": 40,
   "metadata": {},
   "outputs": [],
   "source": [
    "test_review = 'The simplest pleasures in life are the best, and this film is one of them. Combining a rather basic storyline of love and adventure this movie transcends the usual weekend fair with wit and unmitigated charm.'"
   ]
  },
  {
   "cell_type": "markdown",
   "metadata": {},
   "source": [
    "The question we now need to answer is, how do we send this review to our model?\n",
    "\n",
    "Recall in the first section of this notebook we did a bunch of data processing to the IMDb dataset. In particular, we did two specific things to the provided reviews.\n",
    " - Removed any html tags and stemmed the input\n",
    " - Encoded the review as a sequence of integers using `word_dict`\n",
    " \n",
    "In order process the review we will need to repeat these two steps.\n",
    "\n",
    "**TODO**: Using the `review_to_words` and `convert_and_pad` methods from section one, convert `test_review` into a numpy array `test_data` suitable to send to our model. Remember that our model expects input of the form `review_length, review[500]`. So make sure you produce two variables from processing: \n",
    "- A sequence of length 500 which represents the converted review\n",
    "- The length of the review"
   ]
  },
  {
   "cell_type": "code",
   "execution_count": 41,
   "metadata": {},
   "outputs": [],
   "source": [
    "# TODO: Convert test_review into a form usable by the model and save the results in test_data\n",
    "test_data = review_to_words(test_review)\n",
    "test_data = [np.array(convert_and_pad(word_dict, test_data)[0])]"
   ]
  },
  {
   "cell_type": "markdown",
   "metadata": {},
   "source": [
    "Now that we have processed the review, we can send the resulting array to our model to predict the sentiment of the review."
   ]
  },
  {
   "cell_type": "code",
   "execution_count": 42,
   "metadata": {},
   "outputs": [
    {
     "data": {
      "text/plain": [
       "array(0.5586032, dtype=float32)"
      ]
     },
     "execution_count": 42,
     "metadata": {},
     "output_type": "execute_result"
    }
   ],
   "source": [
    "predictor.predict(test_data)"
   ]
  },
  {
   "cell_type": "markdown",
   "metadata": {},
   "source": [
    "Since the return value of our model is close to `1`, we can be certain that the review we submitted is positive."
   ]
  },
  {
   "cell_type": "markdown",
   "metadata": {},
   "source": [
    "### Delete the endpoint\n",
    "\n",
    "Of course, just like in the XGBoost notebook, once we've deployed an endpoint it continues to run until we tell it to shut down. Since we are done using our endpoint for now, we can delete it."
   ]
  },
  {
   "cell_type": "code",
   "execution_count": 43,
   "metadata": {},
   "outputs": [
    {
     "name": "stderr",
     "output_type": "stream",
     "text": [
      "estimator.delete_endpoint() will be deprecated in SageMaker Python SDK v2. Please use the delete_endpoint() function on your predictor instead.\n"
     ]
    }
   ],
   "source": [
    "estimator.delete_endpoint()\n",
    "#delete_endpoint()"
   ]
  },
  {
   "cell_type": "markdown",
   "metadata": {},
   "source": [
    "## Step 6 (again) - Deploy the model for the web app\n",
    "\n",
    "Now that we know that our model is working, it's time to create some custom inference code so that we can send the model a review which has not been processed and have it determine the sentiment of the review.\n",
    "\n",
    "As we saw above, by default the estimator which we created, when deployed, will use the entry script and directory which we provided when creating the model. However, since we now wish to accept a string as input and our model expects a processed review, we need to write some custom inference code.\n",
    "\n",
    "We will store the code that we write in the `serve` directory. Provided in this directory is the `model.py` file that we used to construct our model, a `utils.py` file which contains the `review_to_words` and `convert_and_pad` pre-processing functions which we used during the initial data processing, and `predict.py`, the file which will contain our custom inference code. Note also that `requirements.txt` is present which will tell SageMaker what Python libraries are required by our custom inference code.\n",
    "\n",
    "When deploying a PyTorch model in SageMaker, you are expected to provide four functions which the SageMaker inference container will use.\n",
    " - `model_fn`: This function is the same function that we used in the training script and it tells SageMaker how to load our model.\n",
    " - `input_fn`: This function receives the raw serialized input that has been sent to the model's endpoint and its job is to de-serialize and make the input available for the inference code.\n",
    " - `output_fn`: This function takes the output of the inference code and its job is to serialize this output and return it to the caller of the model's endpoint.\n",
    " - `predict_fn`: The heart of the inference script, this is where the actual prediction is done and is the function which you will need to complete.\n",
    "\n",
    "For the simple website that we are constructing during this project, the `input_fn` and `output_fn` methods are relatively straightforward. We only require being able to accept a string as input and we expect to return a single value as output. You might imagine though that in a more complex application the input or output may be image data or some other binary data which would require some effort to serialize.\n",
    "\n",
    "### (TODO) Writing inference code\n",
    "\n",
    "Before writing our custom inference code, we will begin by taking a look at the code which has been provided."
   ]
  },
  {
   "cell_type": "code",
   "execution_count": 44,
   "metadata": {},
   "outputs": [
    {
     "name": "stdout",
     "output_type": "stream",
     "text": [
      "\u001b[34mimport\u001b[39;49;00m \u001b[04m\u001b[36margparse\u001b[39;49;00m\n",
      "\u001b[34mimport\u001b[39;49;00m \u001b[04m\u001b[36mjson\u001b[39;49;00m\n",
      "\u001b[34mimport\u001b[39;49;00m \u001b[04m\u001b[36mos\u001b[39;49;00m\n",
      "\u001b[34mimport\u001b[39;49;00m \u001b[04m\u001b[36mpickle\u001b[39;49;00m\n",
      "\u001b[34mimport\u001b[39;49;00m \u001b[04m\u001b[36msys\u001b[39;49;00m\n",
      "\u001b[34mimport\u001b[39;49;00m \u001b[04m\u001b[36msagemaker_containers\u001b[39;49;00m\n",
      "\u001b[34mimport\u001b[39;49;00m \u001b[04m\u001b[36mpandas\u001b[39;49;00m \u001b[34mas\u001b[39;49;00m \u001b[04m\u001b[36mpd\u001b[39;49;00m\n",
      "\u001b[34mimport\u001b[39;49;00m \u001b[04m\u001b[36mnumpy\u001b[39;49;00m \u001b[34mas\u001b[39;49;00m \u001b[04m\u001b[36mnp\u001b[39;49;00m\n",
      "\u001b[34mimport\u001b[39;49;00m \u001b[04m\u001b[36mtorch\u001b[39;49;00m\n",
      "\u001b[34mimport\u001b[39;49;00m \u001b[04m\u001b[36mtorch\u001b[39;49;00m\u001b[04m\u001b[36m.\u001b[39;49;00m\u001b[04m\u001b[36mnn\u001b[39;49;00m \u001b[34mas\u001b[39;49;00m \u001b[04m\u001b[36mnn\u001b[39;49;00m\n",
      "\u001b[34mimport\u001b[39;49;00m \u001b[04m\u001b[36mtorch\u001b[39;49;00m\u001b[04m\u001b[36m.\u001b[39;49;00m\u001b[04m\u001b[36moptim\u001b[39;49;00m \u001b[34mas\u001b[39;49;00m \u001b[04m\u001b[36moptim\u001b[39;49;00m\n",
      "\u001b[34mimport\u001b[39;49;00m \u001b[04m\u001b[36mtorch\u001b[39;49;00m\u001b[04m\u001b[36m.\u001b[39;49;00m\u001b[04m\u001b[36mutils\u001b[39;49;00m\u001b[04m\u001b[36m.\u001b[39;49;00m\u001b[04m\u001b[36mdata\u001b[39;49;00m\n",
      "\n",
      "\u001b[34mfrom\u001b[39;49;00m \u001b[04m\u001b[36mmodel\u001b[39;49;00m \u001b[34mimport\u001b[39;49;00m LSTMClassifier\n",
      "\n",
      "\u001b[34mfrom\u001b[39;49;00m \u001b[04m\u001b[36mutils\u001b[39;49;00m \u001b[34mimport\u001b[39;49;00m review_to_words, convert_and_pad\n",
      "\n",
      "\u001b[34mdef\u001b[39;49;00m \u001b[32mmodel_fn\u001b[39;49;00m(model_dir):\n",
      "    \u001b[33m\"\"\"Load the PyTorch model from the `model_dir` directory.\"\"\"\u001b[39;49;00m\n",
      "    \u001b[36mprint\u001b[39;49;00m(\u001b[33m\"\u001b[39;49;00m\u001b[33mLoading model.\u001b[39;49;00m\u001b[33m\"\u001b[39;49;00m)\n",
      "\n",
      "    \u001b[37m# First, load the parameters used to create the model.\u001b[39;49;00m\n",
      "    model_info = {}\n",
      "    model_info_path = os.path.join(model_dir, \u001b[33m'\u001b[39;49;00m\u001b[33mmodel_info.pth\u001b[39;49;00m\u001b[33m'\u001b[39;49;00m)\n",
      "    \u001b[34mwith\u001b[39;49;00m \u001b[36mopen\u001b[39;49;00m(model_info_path, \u001b[33m'\u001b[39;49;00m\u001b[33mrb\u001b[39;49;00m\u001b[33m'\u001b[39;49;00m) \u001b[34mas\u001b[39;49;00m f:\n",
      "        model_info = torch.load(f)\n",
      "\n",
      "    \u001b[36mprint\u001b[39;49;00m(\u001b[33m\"\u001b[39;49;00m\u001b[33mmodel_info: \u001b[39;49;00m\u001b[33m{}\u001b[39;49;00m\u001b[33m\"\u001b[39;49;00m.format(model_info))\n",
      "\n",
      "    \u001b[37m# Determine the device and construct the model.\u001b[39;49;00m\n",
      "    device = torch.device(\u001b[33m\"\u001b[39;49;00m\u001b[33mcuda\u001b[39;49;00m\u001b[33m\"\u001b[39;49;00m \u001b[34mif\u001b[39;49;00m torch.cuda.is_available() \u001b[34melse\u001b[39;49;00m \u001b[33m\"\u001b[39;49;00m\u001b[33mcpu\u001b[39;49;00m\u001b[33m\"\u001b[39;49;00m)\n",
      "    model = LSTMClassifier(model_info[\u001b[33m'\u001b[39;49;00m\u001b[33membedding_dim\u001b[39;49;00m\u001b[33m'\u001b[39;49;00m], model_info[\u001b[33m'\u001b[39;49;00m\u001b[33mhidden_dim\u001b[39;49;00m\u001b[33m'\u001b[39;49;00m], model_info[\u001b[33m'\u001b[39;49;00m\u001b[33mvocab_size\u001b[39;49;00m\u001b[33m'\u001b[39;49;00m])\n",
      "\n",
      "    \u001b[37m# Load the store model parameters.\u001b[39;49;00m\n",
      "    model_path = os.path.join(model_dir, \u001b[33m'\u001b[39;49;00m\u001b[33mmodel.pth\u001b[39;49;00m\u001b[33m'\u001b[39;49;00m)\n",
      "    \u001b[34mwith\u001b[39;49;00m \u001b[36mopen\u001b[39;49;00m(model_path, \u001b[33m'\u001b[39;49;00m\u001b[33mrb\u001b[39;49;00m\u001b[33m'\u001b[39;49;00m) \u001b[34mas\u001b[39;49;00m f:\n",
      "        model.load_state_dict(torch.load(f))\n",
      "\n",
      "    \u001b[37m# Load the saved word_dict.\u001b[39;49;00m\n",
      "    word_dict_path = os.path.join(model_dir, \u001b[33m'\u001b[39;49;00m\u001b[33mword_dict.pkl\u001b[39;49;00m\u001b[33m'\u001b[39;49;00m)\n",
      "    \u001b[34mwith\u001b[39;49;00m \u001b[36mopen\u001b[39;49;00m(word_dict_path, \u001b[33m'\u001b[39;49;00m\u001b[33mrb\u001b[39;49;00m\u001b[33m'\u001b[39;49;00m) \u001b[34mas\u001b[39;49;00m f:\n",
      "        model.word_dict = pickle.load(f)\n",
      "\n",
      "    model.to(device).eval()\n",
      "\n",
      "    \u001b[36mprint\u001b[39;49;00m(\u001b[33m\"\u001b[39;49;00m\u001b[33mDone loading model.\u001b[39;49;00m\u001b[33m\"\u001b[39;49;00m)\n",
      "    \u001b[34mreturn\u001b[39;49;00m model\n",
      "\n",
      "\u001b[34mdef\u001b[39;49;00m \u001b[32minput_fn\u001b[39;49;00m(serialized_input_data, content_type):\n",
      "    \u001b[36mprint\u001b[39;49;00m(\u001b[33m'\u001b[39;49;00m\u001b[33mDeserializing the input data.\u001b[39;49;00m\u001b[33m'\u001b[39;49;00m)\n",
      "    \u001b[34mif\u001b[39;49;00m content_type == \u001b[33m'\u001b[39;49;00m\u001b[33mtext/plain\u001b[39;49;00m\u001b[33m'\u001b[39;49;00m:\n",
      "        data = serialized_input_data.decode(\u001b[33m'\u001b[39;49;00m\u001b[33mutf-8\u001b[39;49;00m\u001b[33m'\u001b[39;49;00m)\n",
      "        \u001b[34mreturn\u001b[39;49;00m data\n",
      "    \u001b[34mraise\u001b[39;49;00m \u001b[36mException\u001b[39;49;00m(\u001b[33m'\u001b[39;49;00m\u001b[33mRequested unsupported ContentType in content_type: \u001b[39;49;00m\u001b[33m'\u001b[39;49;00m + content_type)\n",
      "\n",
      "\u001b[34mdef\u001b[39;49;00m \u001b[32moutput_fn\u001b[39;49;00m(prediction_output, accept):\n",
      "    \u001b[36mprint\u001b[39;49;00m(\u001b[33m'\u001b[39;49;00m\u001b[33mSerializing the generated output.\u001b[39;49;00m\u001b[33m'\u001b[39;49;00m)\n",
      "    \u001b[34mreturn\u001b[39;49;00m \u001b[36mstr\u001b[39;49;00m(prediction_output)\n",
      "\n",
      "\u001b[34mdef\u001b[39;49;00m \u001b[32mpredict_fn\u001b[39;49;00m(input_data, model):\n",
      "    \u001b[36mprint\u001b[39;49;00m(\u001b[33m'\u001b[39;49;00m\u001b[33mInferring sentiment of input data.\u001b[39;49;00m\u001b[33m'\u001b[39;49;00m)\n",
      "\n",
      "    device = torch.device(\u001b[33m\"\u001b[39;49;00m\u001b[33mcuda\u001b[39;49;00m\u001b[33m\"\u001b[39;49;00m \u001b[34mif\u001b[39;49;00m torch.cuda.is_available() \u001b[34melse\u001b[39;49;00m \u001b[33m\"\u001b[39;49;00m\u001b[33mcpu\u001b[39;49;00m\u001b[33m\"\u001b[39;49;00m)\n",
      "    \n",
      "    \u001b[34mif\u001b[39;49;00m model.word_dict \u001b[35mis\u001b[39;49;00m \u001b[34mNone\u001b[39;49;00m:\n",
      "        \u001b[34mraise\u001b[39;49;00m \u001b[36mException\u001b[39;49;00m(\u001b[33m'\u001b[39;49;00m\u001b[33mModel has not been loaded properly, no word_dict.\u001b[39;49;00m\u001b[33m'\u001b[39;49;00m)\n",
      "    \n",
      "    \u001b[37m# TODO: Process input_data so that it is ready to be sent to our model.\u001b[39;49;00m\n",
      "    \u001b[37m#       You should produce two variables:\u001b[39;49;00m\n",
      "    \u001b[37m#         data_X   - A sequence of length 500 which represents the converted review\u001b[39;49;00m\n",
      "    \u001b[37m#         data_len - The length of the review\u001b[39;49;00m\n",
      "\n",
      "    word = review_to_words(input_data)\n",
      "    data_X, data_len = convert_and_pad(model.word_dict, word)\n",
      "\n",
      "    \u001b[37m# Using data_X and data_len we construct an appropriate input tensor. Remember\u001b[39;49;00m\n",
      "    \u001b[37m# that our model expects input data of the form 'len, review[500]'.\u001b[39;49;00m\n",
      "    data_pack = np.hstack((data_len, data_X))\n",
      "    data_pack = data_pack.reshape(\u001b[34m1\u001b[39;49;00m, -\u001b[34m1\u001b[39;49;00m)\n",
      "    \n",
      "    data = torch.from_numpy(data_pack)\n",
      "    data = data.to(device)\n",
      "\n",
      "    \u001b[37m# Make sure to put the model into evaluation mode\u001b[39;49;00m\n",
      "    model.eval()\n",
      "\n",
      "    \u001b[37m# TODO: Compute the result of applying the model to the input data. The variable `result` should\u001b[39;49;00m\n",
      "    \u001b[37m#       be a numpy array which contains a single integer which is either 1 or 0\u001b[39;49;00m\n",
      "    \u001b[34mwith\u001b[39;49;00m torch.no_grad():\n",
      "        out = model.forward(data)\n",
      "        \n",
      "    result = np.round(out.numpy())\n",
      "\n",
      "    \u001b[34mreturn\u001b[39;49;00m result\n"
     ]
    }
   ],
   "source": [
    "!pygmentize serve/predict.py"
   ]
  },
  {
   "cell_type": "markdown",
   "metadata": {},
   "source": [
    "As mentioned earlier, the `model_fn` method is the same as the one provided in the training code and the `input_fn` and `output_fn` methods are very simple and your task will be to complete the `predict_fn` method. \n",
    "\n",
    "**Note**: Our model expects input data of the form 'len, review[500]'. So make sure you produce two variables from processing: \n",
    "- `data_X`:  A sequence of length 500 which represents the converted review\n",
    "- `data_len`: - The length of the review\n",
    "\n",
    "Make sure that you save the completed file as `predict.py` in the `serve` directory.\n",
    "\n",
    "**TODO**: Complete the `predict_fn()` method in the `serve/predict.py` file."
   ]
  },
  {
   "cell_type": "markdown",
   "metadata": {},
   "source": [
    "### Deploying the model\n",
    "\n",
    "Now that the custom inference code has been written, we will create and deploy our model. To begin with, we need to construct a new PyTorchModel object which points to the model artifacts created during training and also points to the inference code that we wish to use. Then we can call the deploy method to launch the deployment container.\n",
    "\n",
    "**NOTE**: The default behaviour for a deployed PyTorch model is to assume that any input passed to the predictor is a `numpy` array. In our case we want to send a string so we need to construct a simple wrapper around the `RealTimePredictor` class to accomodate simple strings. In a more complicated situation you may want to provide a serialization object, for example if you wanted to sent image data."
   ]
  },
  {
   "cell_type": "code",
   "execution_count": 45,
   "metadata": {},
   "outputs": [
    {
     "name": "stderr",
     "output_type": "stream",
     "text": [
      "Parameter image will be renamed to image_uri in SageMaker Python SDK v2.\n",
      "'create_image_uri' will be deprecated in favor of 'ImageURIProvider' class in SageMaker Python SDK v2.\n"
     ]
    },
    {
     "name": "stdout",
     "output_type": "stream",
     "text": [
      "-----------!"
     ]
    }
   ],
   "source": [
    "from sagemaker.predictor import RealTimePredictor\n",
    "from sagemaker.pytorch import PyTorchModel\n",
    "\n",
    "class StringPredictor(RealTimePredictor):\n",
    "    def __init__(self, endpoint_name, sagemaker_session):\n",
    "        super(StringPredictor, self).__init__(endpoint_name, sagemaker_session, content_type='text/plain')\n",
    "\n",
    "model = PyTorchModel(model_data=estimator.model_data,\n",
    "                     role = role,\n",
    "                     framework_version='0.4.0',\n",
    "                     entry_point='predict.py',\n",
    "                     source_dir='serve',\n",
    "                     predictor_cls=StringPredictor)\n",
    "\n",
    "predictor = model.deploy(initial_instance_count=1, instance_type='ml.m4.xlarge')"
   ]
  },
  {
   "cell_type": "markdown",
   "metadata": {},
   "source": [
    "### Testing the model\n",
    "\n",
    "Now that we have deployed our model with the custom inference code, we should test to see if everything is working. Here we test our model by loading the first `250` positive and negative reviews and send them to the endpoint, then collect the results. The reason for only sending some of the data is that the amount of time it takes for our model to process the input and then perform inference is quite long and so testing the entire data set would be prohibitive."
   ]
  },
  {
   "cell_type": "code",
   "execution_count": 46,
   "metadata": {},
   "outputs": [],
   "source": [
    "import glob\n",
    "\n",
    "def test_reviews(data_dir='../data/aclImdb', stop=250):\n",
    "    \n",
    "    results = []\n",
    "    ground = []\n",
    "    \n",
    "    # We make sure to test both positive and negative reviews    \n",
    "    for sentiment in ['pos', 'neg']:\n",
    "        \n",
    "        path = os.path.join(data_dir, 'test', sentiment, '*.txt')\n",
    "        files = glob.glob(path)\n",
    "        \n",
    "        files_read = 0\n",
    "        \n",
    "        print('Starting ', sentiment, ' files')\n",
    "        \n",
    "        # Iterate through the files and send them to the predictor\n",
    "        for f in files:\n",
    "            with open(f) as review:\n",
    "                # First, we store the ground truth (was the review positive or negative)\n",
    "                if sentiment == 'pos':\n",
    "                    ground.append(1)\n",
    "                else:\n",
    "                    ground.append(0)\n",
    "                # Read in the review and convert to 'utf-8' for transmission via HTTP\n",
    "                review_input = review.read().encode('utf-8')\n",
    "                # Send the review to the predictor and store the results\n",
    "                results.append(float(predictor.predict(review_input)))\n",
    "                \n",
    "            # Sending reviews to our endpoint one at a time takes a while so we\n",
    "            # only send a small number of reviews\n",
    "            files_read += 1\n",
    "            if files_read == stop:\n",
    "                break\n",
    "            \n",
    "    return ground, results"
   ]
  },
  {
   "cell_type": "code",
   "execution_count": 47,
   "metadata": {},
   "outputs": [
    {
     "name": "stdout",
     "output_type": "stream",
     "text": [
      "Starting  pos  files\n",
      "Starting  neg  files\n"
     ]
    }
   ],
   "source": [
    "ground, results = test_reviews()"
   ]
  },
  {
   "cell_type": "code",
   "execution_count": 48,
   "metadata": {},
   "outputs": [
    {
     "data": {
      "text/plain": [
       "0.832"
      ]
     },
     "execution_count": 48,
     "metadata": {},
     "output_type": "execute_result"
    }
   ],
   "source": [
    "from sklearn.metrics import accuracy_score\n",
    "accuracy_score(ground, results)"
   ]
  },
  {
   "cell_type": "markdown",
   "metadata": {},
   "source": [
    "As an additional test, we can try sending the `test_review` that we looked at earlier."
   ]
  },
  {
   "cell_type": "code",
   "execution_count": 49,
   "metadata": {},
   "outputs": [
    {
     "data": {
      "text/plain": [
       "b'1.0'"
      ]
     },
     "execution_count": 49,
     "metadata": {},
     "output_type": "execute_result"
    }
   ],
   "source": [
    "predictor.predict(test_review)"
   ]
  },
  {
   "cell_type": "markdown",
   "metadata": {},
   "source": [
    "Now that we know our endpoint is working as expected, we can set up the web page that will interact with it. If you don't have time to finish the project now, make sure to skip down to the end of this notebook and shut down your endpoint. You can deploy it again when you come back."
   ]
  },
  {
   "cell_type": "markdown",
   "metadata": {},
   "source": [
    "## Step 7 (again): Use the model for the web app\n",
    "\n",
    "> **TODO:** This entire section and the next contain tasks for you to complete, mostly using the AWS console.\n",
    "\n",
    "So far we have been accessing our model endpoint by constructing a predictor object which uses the endpoint and then just using the predictor object to perform inference. What if we wanted to create a web app which accessed our model? The way things are set up currently makes that not possible since in order to access a SageMaker endpoint the app would first have to authenticate with AWS using an IAM role which included access to SageMaker endpoints. However, there is an easier way! We just need to use some additional AWS services.\n",
    "\n",
    "<img src=\"Web App Diagram.svg\">\n",
    "\n",
    "The diagram above gives an overview of how the various services will work together. On the far right is the model which we trained above and which is deployed using SageMaker. On the far left is our web app that collects a user's movie review, sends it off and expects a positive or negative sentiment in return.\n",
    "\n",
    "In the middle is where some of the magic happens. We will construct a Lambda function, which you can think of as a straightforward Python function that can be executed whenever a specified event occurs. We will give this function permission to send and recieve data from a SageMaker endpoint.\n",
    "\n",
    "Lastly, the method we will use to execute the Lambda function is a new endpoint that we will create using API Gateway. This endpoint will be a url that listens for data to be sent to it. Once it gets some data it will pass that data on to the Lambda function and then return whatever the Lambda function returns. Essentially it will act as an interface that lets our web app communicate with the Lambda function.\n",
    "\n",
    "### Setting up a Lambda function\n",
    "\n",
    "The first thing we are going to do is set up a Lambda function. This Lambda function will be executed whenever our public API has data sent to it. When it is executed it will receive the data, perform any sort of processing that is required, send the data (the review) to the SageMaker endpoint we've created and then return the result.\n",
    "\n",
    "#### Part A: Create an IAM Role for the Lambda function\n",
    "\n",
    "Since we want the Lambda function to call a SageMaker endpoint, we need to make sure that it has permission to do so. To do this, we will construct a role that we can later give the Lambda function.\n",
    "\n",
    "Using the AWS Console, navigate to the **IAM** page and click on **Roles**. Then, click on **Create role**. Make sure that the **AWS service** is the type of trusted entity selected and choose **Lambda** as the service that will use this role, then click **Next: Permissions**.\n",
    "\n",
    "In the search box type `sagemaker` and select the check box next to the **AmazonSageMakerFullAccess** policy. Then, click on **Next: Review**.\n",
    "\n",
    "Lastly, give this role a name. Make sure you use a name that you will remember later on, for example `LambdaSageMakerRole`. Then, click on **Create role**.\n",
    "\n",
    "#### Part B: Create a Lambda function\n",
    "\n",
    "Now it is time to actually create the Lambda function.\n",
    "\n",
    "Using the AWS Console, navigate to the AWS Lambda page and click on **Create a function**. When you get to the next page, make sure that **Author from scratch** is selected. Now, name your Lambda function, using a name that you will remember later on, for example `sentiment_analysis_func`. Make sure that the **Python 3.6** runtime is selected and then choose the role that you created in the previous part. Then, click on **Create Function**.\n",
    "\n",
    "On the next page you will see some information about the Lambda function you've just created. If you scroll down you should see an editor in which you can write the code that will be executed when your Lambda function is triggered. In our example, we will use the code below. \n",
    "\n",
    "```python\n",
    "# We need to use the low-level library to interact with SageMaker since the SageMaker API\n",
    "# is not available natively through Lambda.\n",
    "import boto3\n",
    "\n",
    "def lambda_handler(event, context):\n",
    "\n",
    "    # The SageMaker runtime is what allows us to invoke the endpoint that we've created.\n",
    "    runtime = boto3.Session().client('sagemaker-runtime')\n",
    "\n",
    "    # Now we use the SageMaker runtime to invoke our endpoint, sending the review we were given\n",
    "    response = runtime.invoke_endpoint(EndpointName = '**ENDPOINT NAME HERE**',    # The name of the endpoint we created\n",
    "                                       ContentType = 'text/plain',                 # The data format that is expected\n",
    "                                       Body = event['body'])                       # The actual review\n",
    "\n",
    "    # The response is an HTTP response whose body contains the result of our inference\n",
    "    result = response['Body'].read().decode('utf-8')\n",
    "\n",
    "    return {\n",
    "        'statusCode' : 200,\n",
    "        'headers' : { 'Content-Type' : 'text/plain', 'Access-Control-Allow-Origin' : '*' },\n",
    "        'body' : result\n",
    "    }\n",
    "```\n",
    "\n",
    "Once you have copy and pasted the code above into the Lambda code editor, replace the `**ENDPOINT NAME HERE**` portion with the name of the endpoint that we deployed earlier. You can determine the name of the endpoint using the code cell below."
   ]
  },
  {
   "cell_type": "code",
   "execution_count": 50,
   "metadata": {},
   "outputs": [
    {
     "data": {
      "text/plain": [
       "'sagemaker-pytorch-2021-12-22-20-12-13-438'"
      ]
     },
     "execution_count": 50,
     "metadata": {},
     "output_type": "execute_result"
    }
   ],
   "source": [
    "predictor.endpoint"
   ]
  },
  {
   "cell_type": "markdown",
   "metadata": {},
   "source": [
    "Once you have added the endpoint name to the Lambda function, click on **Save**. Your Lambda function is now up and running. Next we need to create a way for our web app to execute the Lambda function.\n",
    "\n",
    "### Setting up API Gateway\n",
    "\n",
    "Now that our Lambda function is set up, it is time to create a new API using API Gateway that will trigger the Lambda function we have just created.\n",
    "\n",
    "Using AWS Console, navigate to **Amazon API Gateway** and then click on **Get started**.\n",
    "\n",
    "On the next page, make sure that **New API** is selected and give the new api a name, for example, `sentiment_analysis_api`. Then, click on **Create API**.\n",
    "\n",
    "Now we have created an API, however it doesn't currently do anything. What we want it to do is to trigger the Lambda function that we created earlier.\n",
    "\n",
    "Select the **Actions** dropdown menu and click **Create Method**. A new blank method will be created, select its dropdown menu and select **POST**, then click on the check mark beside it.\n",
    "\n",
    "For the integration point, make sure that **Lambda Function** is selected and click on the **Use Lambda Proxy integration**. This option makes sure that the data that is sent to the API is then sent directly to the Lambda function with no processing. It also means that the return value must be a proper response object as it will also not be processed by API Gateway.\n",
    "\n",
    "Type the name of the Lambda function you created earlier into the **Lambda Function** text entry box and then click on **Save**. Click on **OK** in the pop-up box that then appears, giving permission to API Gateway to invoke the Lambda function you created.\n",
    "\n",
    "The last step in creating the API Gateway is to select the **Actions** dropdown and click on **Deploy API**. You will need to create a new Deployment stage and name it anything you like, for example `prod`.\n",
    "\n",
    "You have now successfully set up a public API to access your SageMaker model. Make sure to copy or write down the URL provided to invoke your newly created public API as this will be needed in the next step. This URL can be found at the top of the page, highlighted in blue next to the text **Invoke URL**."
   ]
  },
  {
   "cell_type": "markdown",
   "metadata": {},
   "source": [
    "## Step 4: Deploying our web app\n",
    "\n",
    "Now that we have a publicly available API, we can start using it in a web app. For our purposes, we have provided a simple static html file which can make use of the public api you created earlier.\n",
    "\n",
    "In the `website` folder there should be a file called `index.html`. Download the file to your computer and open that file up in a text editor of your choice. There should be a line which contains **\\*\\*REPLACE WITH PUBLIC API URL\\*\\***. Replace this string with the url that you wrote down in the last step and then save the file.\n",
    "\n",
    "Now, if you open `index.html` on your local computer, your browser will behave as a local web server and you can use the provided site to interact with your SageMaker model.\n",
    "\n",
    "If you'd like to go further, you can host this html file anywhere you'd like, for example using github or hosting a static site on Amazon's S3. Once you have done this you can share the link with anyone you'd like and have them play with it too!\n",
    "\n",
    "> **Important Note** In order for the web app to communicate with the SageMaker endpoint, the endpoint has to actually be deployed and running. This means that you are paying for it. Make sure that the endpoint is running when you want to use the web app but that you shut it down when you don't need it, otherwise you will end up with a surprisingly large AWS bill.\n",
    "\n",
    "**TODO:** Make sure that you include the edited `index.html` file in your project submission."
   ]
  },
  {
   "cell_type": "markdown",
   "metadata": {},
   "source": [
    "Now that your web app is working, trying playing around with it and see how well it works.\n",
    "\n",
    "**Question**: Post a screenshot showing a sample review that you entered into your web app and the predicted sentiment. What was the predicted sentiment of your example review?"
   ]
  },
  {
   "cell_type": "markdown",
   "metadata": {},
   "source": [
    "**Screenshot:**\n",
    "\n",
    "\n",
    "\n",
    "**Answer:**"
   ]
  },
  {
   "cell_type": "markdown",
   "metadata": {},
   "source": [
    "### Delete the endpoint\n",
    "\n",
    "Remember to always shut down your endpoint if you are no longer using it. You are charged for the length of time that the endpoint is running so if you forget and leave it on you could end up with an unexpectedly large bill."
   ]
  },
  {
   "cell_type": "code",
   "execution_count": 55,
   "metadata": {},
   "outputs": [],
   "source": [
    "predictor.delete_endpoint()"
   ]
  },
  {
   "cell_type": "code",
   "execution_count": null,
   "metadata": {},
   "outputs": [],
   "source": []
  }
 ],
 "metadata": {
  "kernelspec": {
   "display_name": "conda_pytorch_p36",
   "language": "python",
   "name": "conda_pytorch_p36"
  },
  "language_info": {
   "codemirror_mode": {
    "name": "ipython",
    "version": 3
   },
   "file_extension": ".py",
   "mimetype": "text/x-python",
   "name": "python",
   "nbconvert_exporter": "python",
   "pygments_lexer": "ipython3",
   "version": "3.6.13"
  }
 },
 "nbformat": 4,
 "nbformat_minor": 4
}
